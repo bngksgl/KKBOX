{
 "cells": [
  {
   "cell_type": "markdown",
   "metadata": {},
   "source": [
    "## 2.2. Variable Transformation and Sampling"
   ]
  },
  {
   "cell_type": "code",
   "execution_count": 185,
   "metadata": {
    "collapsed": true
   },
   "outputs": [],
   "source": [
    "import numpy as np # linear algebra\n",
    "import pandas as pd # data processing, CSV file I/O (e.g. pd.read_csv)\n",
    "from sklearn.model_selection import train_test_split\n",
    "from sklearn.preprocessing import StandardScaler\n",
    "from collections import Counter\n",
    "from imblearn.under_sampling import RandomUnderSampler\n",
    "from sklearn.preprocessing import RobustScaler"
   ]
  },
  {
   "cell_type": "markdown",
   "metadata": {},
   "source": [
    "### Read in the whole data set, encode categorical var and split"
   ]
  },
  {
   "cell_type": "code",
   "execution_count": 186,
   "metadata": {
    "collapsed": true
   },
   "outputs": [],
   "source": [
    "df=pd.read_csv('last_data_v5_prioroutliers.csv')"
   ]
  },
  {
   "cell_type": "code",
   "execution_count": 187,
   "metadata": {
    "collapsed": true
   },
   "outputs": [],
   "source": [
    "df_encoded=pd.get_dummies(df, columns=['city', 'gender', 'registered_via'])"
   ]
  },
  {
   "cell_type": "code",
   "execution_count": 188,
   "metadata": {
    "collapsed": true
   },
   "outputs": [],
   "source": [
    "X=df_encoded\n",
    "y=df_encoded['is_churn']"
   ]
  },
  {
   "cell_type": "code",
   "execution_count": 189,
   "metadata": {
    "collapsed": true
   },
   "outputs": [],
   "source": [
    "X_train, X_test, y_train, y_test = train_test_split(X, y, test_size=0.30, random_state=42, stratify=y)\n"
   ]
  },
  {
   "cell_type": "code",
   "execution_count": 190,
   "metadata": {
    "collapsed": true
   },
   "outputs": [],
   "source": [
    "X_train.to_csv('final_train_after_split.csv')"
   ]
  },
  {
   "cell_type": "code",
   "execution_count": 191,
   "metadata": {
    "collapsed": true
   },
   "outputs": [],
   "source": [
    "y_train.to_csv('final_train_target_after_split.csv')"
   ]
  },
  {
   "cell_type": "code",
   "execution_count": 192,
   "metadata": {},
   "outputs": [
    {
     "name": "stdout",
     "output_type": "stream",
     "text": [
      "(613298, 157)\n",
      "(262843, 157)\n",
      "(613298,)\n",
      "(262843,)\n"
     ]
    }
   ],
   "source": [
    "print(X_train.shape)\n",
    "print(X_test.shape)\n",
    "print(y_train.shape)\n",
    "print(y_test.shape)"
   ]
  },
  {
   "cell_type": "markdown",
   "metadata": {},
   "source": [
    "### Apply Isolation forest, Standard Scaler, Undersampling & Evaluate"
   ]
  },
  {
   "cell_type": "markdown",
   "metadata": {},
   "source": [
    "#### Isolation Forest"
   ]
  },
  {
   "cell_type": "code",
   "execution_count": 193,
   "metadata": {},
   "outputs": [
    {
     "name": "stdout",
     "output_type": "stream",
     "text": [
      "613298\n",
      "551968\n",
      "61330\n"
     ]
    }
   ],
   "source": [
    "from sklearn.ensemble import IsolationForest\n",
    "\n",
    "X_wihout_outliers=X_train.drop('msno',axis=1)\n",
    "\n",
    "clf = IsolationForest(max_samples=100)\n",
    "clf.fit(X_wihout_outliers)\n",
    "inlier=clf.predict(X_wihout_outliers)# Predict if a particular sample is an outlier or not. \n",
    "#If inlier==1, it means this sample is not outlier.\n",
    "\n",
    "print(len(inlier))\n",
    "print(np.count_nonzero(inlier == 1))\n",
    "print(np.count_nonzero(inlier == -1))"
   ]
  },
  {
   "cell_type": "code",
   "execution_count": 194,
   "metadata": {},
   "outputs": [
    {
     "name": "stderr",
     "output_type": "stream",
     "text": [
      "/Users/sdoneva/anaconda/lib/python3.6/site-packages/ipykernel_launcher.py:2: SettingWithCopyWarning: \n",
      "A value is trying to be set on a copy of a slice from a DataFrame.\n",
      "Try using .loc[row_indexer,col_indexer] = value instead\n",
      "\n",
      "See the caveats in the documentation: http://pandas.pydata.org/pandas-docs/stable/indexing.html#indexing-view-versus-copy\n",
      "  \n"
     ]
    }
   ],
   "source": [
    "merge_data=X_train #msno is in\n",
    "merge_data['isolation_forest']=inlier\n",
    "a=merge_data.shape[1]\n",
    "merge_data= merge_data[(merge_data.iloc[:,a-1]==1)]#remove all the rows which have outliers in LOF\n",
    "X_train_without_outliers=merge_data.iloc[:,:a-1]"
   ]
  },
  {
   "cell_type": "code",
   "execution_count": 195,
   "metadata": {},
   "outputs": [
    {
     "data": {
      "text/plain": [
       "(551968, 157)"
      ]
     },
     "execution_count": 195,
     "metadata": {},
     "output_type": "execute_result"
    }
   ],
   "source": [
    "X_train_without_outliers.shape"
   ]
  },
  {
   "cell_type": "markdown",
   "metadata": {},
   "source": [
    "#### Standard Scaler"
   ]
  },
  {
   "cell_type": "code",
   "execution_count": 196,
   "metadata": {
    "collapsed": true
   },
   "outputs": [],
   "source": [
    "# Get all the columns from the dataframe.\n",
    "columns = df_encoded.columns.tolist()\n",
    "# Filter the columns to remove ones we don't want. \n",
    "columns_subset = [c for c in columns if c not in [\"is_churn\",\"Unnamed: 0\",\"Unnamed: 0.1\",\"msno\"]]\n",
    "# Store the variable we'll be predicting on.\n",
    "target = \"is_churn\"\n",
    "\n",
    "X_to_std = X_train_without_outliers[columns_subset]"
   ]
  },
  {
   "cell_type": "code",
   "execution_count": 197,
   "metadata": {
    "collapsed": true
   },
   "outputs": [],
   "source": [
    "sc=StandardScaler()\n",
    "X_std=sc.fit_transform(X_to_std)"
   ]
  },
  {
   "cell_type": "code",
   "execution_count": 198,
   "metadata": {},
   "outputs": [
    {
     "data": {
      "text/plain": [
       "(551968, 154)"
      ]
     },
     "execution_count": 198,
     "metadata": {},
     "output_type": "execute_result"
    }
   ],
   "source": [
    "X_std.shape"
   ]
  },
  {
   "cell_type": "code",
   "execution_count": 199,
   "metadata": {
    "collapsed": true
   },
   "outputs": [],
   "source": [
    "#convert back to data frame\n",
    "data_std=pd.DataFrame(X_std)\n",
    "#restore original df column names\n",
    "data_std.columns=X_to_std.columns\n",
    "data_std = data_std.set_index(X_train_without_outliers.index)\n",
    "data_std['msno']=X_train_without_outliers['msno']\n",
    "data_std['is_churn']=X_train_without_outliers['is_churn']\n",
    "data_std['Temp_index']=X_train_without_outliers['Unnamed: 0']"
   ]
  },
  {
   "cell_type": "code",
   "execution_count": 200,
   "metadata": {},
   "outputs": [
    {
     "data": {
      "text/html": [
       "<div>\n",
       "<style>\n",
       "    .dataframe thead tr:only-child th {\n",
       "        text-align: right;\n",
       "    }\n",
       "\n",
       "    .dataframe thead th {\n",
       "        text-align: left;\n",
       "    }\n",
       "\n",
       "    .dataframe tbody tr th {\n",
       "        vertical-align: top;\n",
       "    }\n",
       "</style>\n",
       "<table border=\"1\" class=\"dataframe\">\n",
       "  <thead>\n",
       "    <tr style=\"text-align: right;\">\n",
       "      <th></th>\n",
       "      <th>bd</th>\n",
       "      <th>num_25_sum</th>\n",
       "      <th>num_50_sum</th>\n",
       "      <th>num_75_sum</th>\n",
       "      <th>num_985_sum</th>\n",
       "      <th>num_100_sum</th>\n",
       "      <th>num_unq_sum</th>\n",
       "      <th>num_totalsec_sum</th>\n",
       "      <th>num_25_mean</th>\n",
       "      <th>num_50_mean</th>\n",
       "      <th>...</th>\n",
       "      <th>gender_1</th>\n",
       "      <th>gender_2</th>\n",
       "      <th>registered_via_3</th>\n",
       "      <th>registered_via_4</th>\n",
       "      <th>registered_via_7</th>\n",
       "      <th>registered_via_9</th>\n",
       "      <th>registered_via_13</th>\n",
       "      <th>msno</th>\n",
       "      <th>is_churn</th>\n",
       "      <th>Temp_index</th>\n",
       "    </tr>\n",
       "  </thead>\n",
       "  <tbody>\n",
       "    <tr>\n",
       "      <th>295235</th>\n",
       "      <td>1.130510</td>\n",
       "      <td>-0.843256</td>\n",
       "      <td>-0.921635</td>\n",
       "      <td>-0.959133</td>\n",
       "      <td>-0.836190</td>\n",
       "      <td>-0.924143</td>\n",
       "      <td>-1.019612</td>\n",
       "      <td>-0.956177</td>\n",
       "      <td>-1.066259</td>\n",
       "      <td>-1.110195</td>\n",
       "      <td>...</td>\n",
       "      <td>1.847228</td>\n",
       "      <td>-1.146185</td>\n",
       "      <td>-0.357804</td>\n",
       "      <td>-0.23291</td>\n",
       "      <td>-1.157510</td>\n",
       "      <td>1.691552</td>\n",
       "      <td>-0.05888</td>\n",
       "      <td>wIPYvtreB5Md5iEwdkrxOUEPYdQrsgOJxLR/9jad8sY=</td>\n",
       "      <td>0</td>\n",
       "      <td>295236</td>\n",
       "    </tr>\n",
       "    <tr>\n",
       "      <th>716291</th>\n",
       "      <td>-0.811134</td>\n",
       "      <td>-0.307139</td>\n",
       "      <td>-0.241020</td>\n",
       "      <td>0.117182</td>\n",
       "      <td>0.028874</td>\n",
       "      <td>0.756436</td>\n",
       "      <td>-0.233113</td>\n",
       "      <td>0.814624</td>\n",
       "      <td>-0.646871</td>\n",
       "      <td>-0.606938</td>\n",
       "      <td>...</td>\n",
       "      <td>-0.541352</td>\n",
       "      <td>0.872460</td>\n",
       "      <td>-0.357804</td>\n",
       "      <td>-0.23291</td>\n",
       "      <td>0.863924</td>\n",
       "      <td>-0.591173</td>\n",
       "      <td>-0.05888</td>\n",
       "      <td>03+NQd0KuWm3+uM4icdgWlOBTeD0tWZrtfWcv/NbdJY=</td>\n",
       "      <td>0</td>\n",
       "      <td>716293</td>\n",
       "    </tr>\n",
       "    <tr>\n",
       "      <th>222115</th>\n",
       "      <td>1.568945</td>\n",
       "      <td>-0.305101</td>\n",
       "      <td>-0.449742</td>\n",
       "      <td>-0.221931</td>\n",
       "      <td>-0.338482</td>\n",
       "      <td>1.464592</td>\n",
       "      <td>1.239425</td>\n",
       "      <td>1.357828</td>\n",
       "      <td>-0.484902</td>\n",
       "      <td>-0.628346</td>\n",
       "      <td>...</td>\n",
       "      <td>-0.541352</td>\n",
       "      <td>-1.146185</td>\n",
       "      <td>-0.357804</td>\n",
       "      <td>-0.23291</td>\n",
       "      <td>-1.157510</td>\n",
       "      <td>1.691552</td>\n",
       "      <td>-0.05888</td>\n",
       "      <td>8ELW2uv0+Bgsvu9W6Ka86/Sr+fJlKwD9PtGwZpjj+jg=</td>\n",
       "      <td>0</td>\n",
       "      <td>222116</td>\n",
       "    </tr>\n",
       "    <tr>\n",
       "      <th>800112</th>\n",
       "      <td>1.506312</td>\n",
       "      <td>0.477670</td>\n",
       "      <td>0.203650</td>\n",
       "      <td>-0.015515</td>\n",
       "      <td>-0.219980</td>\n",
       "      <td>-0.627397</td>\n",
       "      <td>-0.227203</td>\n",
       "      <td>-0.577305</td>\n",
       "      <td>2.679527</td>\n",
       "      <td>1.905992</td>\n",
       "      <td>...</td>\n",
       "      <td>1.847228</td>\n",
       "      <td>-1.146185</td>\n",
       "      <td>-0.357804</td>\n",
       "      <td>-0.23291</td>\n",
       "      <td>-1.157510</td>\n",
       "      <td>1.691552</td>\n",
       "      <td>-0.05888</td>\n",
       "      <td>8x8XmtxbaTyLpAUYxGcn4snJpBfS/nYIt45jvkFyZHc=</td>\n",
       "      <td>0</td>\n",
       "      <td>800114</td>\n",
       "    </tr>\n",
       "    <tr>\n",
       "      <th>765230</th>\n",
       "      <td>-0.811134</td>\n",
       "      <td>-0.843256</td>\n",
       "      <td>-0.921635</td>\n",
       "      <td>-0.959133</td>\n",
       "      <td>-0.836190</td>\n",
       "      <td>-0.924143</td>\n",
       "      <td>-1.019612</td>\n",
       "      <td>-0.956177</td>\n",
       "      <td>-1.066259</td>\n",
       "      <td>-1.110195</td>\n",
       "      <td>...</td>\n",
       "      <td>-0.541352</td>\n",
       "      <td>0.872460</td>\n",
       "      <td>-0.357804</td>\n",
       "      <td>-0.23291</td>\n",
       "      <td>0.863924</td>\n",
       "      <td>-0.591173</td>\n",
       "      <td>-0.05888</td>\n",
       "      <td>2V0apgsiDor6e5ZScjMG8Xc4DQMj870rSUCQD6HkxHQ=</td>\n",
       "      <td>0</td>\n",
       "      <td>765232</td>\n",
       "    </tr>\n",
       "  </tbody>\n",
       "</table>\n",
       "<p>5 rows × 157 columns</p>\n",
       "</div>"
      ],
      "text/plain": [
       "              bd  num_25_sum  num_50_sum  num_75_sum  num_985_sum  \\\n",
       "295235  1.130510   -0.843256   -0.921635   -0.959133    -0.836190   \n",
       "716291 -0.811134   -0.307139   -0.241020    0.117182     0.028874   \n",
       "222115  1.568945   -0.305101   -0.449742   -0.221931    -0.338482   \n",
       "800112  1.506312    0.477670    0.203650   -0.015515    -0.219980   \n",
       "765230 -0.811134   -0.843256   -0.921635   -0.959133    -0.836190   \n",
       "\n",
       "        num_100_sum  num_unq_sum  num_totalsec_sum  num_25_mean  num_50_mean  \\\n",
       "295235    -0.924143    -1.019612         -0.956177    -1.066259    -1.110195   \n",
       "716291     0.756436    -0.233113          0.814624    -0.646871    -0.606938   \n",
       "222115     1.464592     1.239425          1.357828    -0.484902    -0.628346   \n",
       "800112    -0.627397    -0.227203         -0.577305     2.679527     1.905992   \n",
       "765230    -0.924143    -1.019612         -0.956177    -1.066259    -1.110195   \n",
       "\n",
       "           ...      gender_1  gender_2  registered_via_3  registered_via_4  \\\n",
       "295235     ...      1.847228 -1.146185         -0.357804          -0.23291   \n",
       "716291     ...     -0.541352  0.872460         -0.357804          -0.23291   \n",
       "222115     ...     -0.541352 -1.146185         -0.357804          -0.23291   \n",
       "800112     ...      1.847228 -1.146185         -0.357804          -0.23291   \n",
       "765230     ...     -0.541352  0.872460         -0.357804          -0.23291   \n",
       "\n",
       "        registered_via_7  registered_via_9  registered_via_13  \\\n",
       "295235         -1.157510          1.691552           -0.05888   \n",
       "716291          0.863924         -0.591173           -0.05888   \n",
       "222115         -1.157510          1.691552           -0.05888   \n",
       "800112         -1.157510          1.691552           -0.05888   \n",
       "765230          0.863924         -0.591173           -0.05888   \n",
       "\n",
       "                                                msno  is_churn  Temp_index  \n",
       "295235  wIPYvtreB5Md5iEwdkrxOUEPYdQrsgOJxLR/9jad8sY=         0      295236  \n",
       "716291  03+NQd0KuWm3+uM4icdgWlOBTeD0tWZrtfWcv/NbdJY=         0      716293  \n",
       "222115  8ELW2uv0+Bgsvu9W6Ka86/Sr+fJlKwD9PtGwZpjj+jg=         0      222116  \n",
       "800112  8x8XmtxbaTyLpAUYxGcn4snJpBfS/nYIt45jvkFyZHc=         0      800114  \n",
       "765230  2V0apgsiDor6e5ZScjMG8Xc4DQMj870rSUCQD6HkxHQ=         0      765232  \n",
       "\n",
       "[5 rows x 157 columns]"
      ]
     },
     "execution_count": 200,
     "metadata": {},
     "output_type": "execute_result"
    }
   ],
   "source": [
    "data_std.head()"
   ]
  },
  {
   "cell_type": "code",
   "execution_count": 201,
   "metadata": {},
   "outputs": [
    {
     "data": {
      "text/plain": [
       "(551968,)"
      ]
     },
     "execution_count": 201,
     "metadata": {},
     "output_type": "execute_result"
    }
   ],
   "source": [
    "# Also need to reduce the size of the train target correspondingly\n",
    "y_train=data_std['is_churn']\n",
    "y_train.shape"
   ]
  },
  {
   "cell_type": "markdown",
   "metadata": {},
   "source": [
    "#### Focused Undersampling"
   ]
  },
  {
   "cell_type": "code",
   "execution_count": 202,
   "metadata": {
    "collapsed": true
   },
   "outputs": [],
   "source": [
    "X_no_msno=data_std.drop('msno',axis=1)"
   ]
  },
  {
   "cell_type": "code",
   "execution_count": 203,
   "metadata": {},
   "outputs": [
    {
     "name": "stdout",
     "output_type": "stream",
     "text": [
      "Resampled dataset shape Counter({0: 35299, 1: 35299})\n"
     ]
    },
    {
     "data": {
      "text/html": [
       "<div>\n",
       "<style>\n",
       "    .dataframe thead tr:only-child th {\n",
       "        text-align: right;\n",
       "    }\n",
       "\n",
       "    .dataframe thead th {\n",
       "        text-align: left;\n",
       "    }\n",
       "\n",
       "    .dataframe tbody tr th {\n",
       "        vertical-align: top;\n",
       "    }\n",
       "</style>\n",
       "<table border=\"1\" class=\"dataframe\">\n",
       "  <thead>\n",
       "    <tr style=\"text-align: right;\">\n",
       "      <th></th>\n",
       "      <th>bd</th>\n",
       "      <th>num_25_sum</th>\n",
       "      <th>num_50_sum</th>\n",
       "      <th>num_75_sum</th>\n",
       "      <th>num_985_sum</th>\n",
       "      <th>num_100_sum</th>\n",
       "      <th>num_unq_sum</th>\n",
       "      <th>num_totalsec_sum</th>\n",
       "      <th>num_25_mean</th>\n",
       "      <th>num_50_mean</th>\n",
       "      <th>...</th>\n",
       "      <th>gender_0</th>\n",
       "      <th>gender_1</th>\n",
       "      <th>gender_2</th>\n",
       "      <th>registered_via_3</th>\n",
       "      <th>registered_via_4</th>\n",
       "      <th>registered_via_7</th>\n",
       "      <th>registered_via_9</th>\n",
       "      <th>registered_via_13</th>\n",
       "      <th>is_churn</th>\n",
       "      <th>Temp_index</th>\n",
       "    </tr>\n",
       "  </thead>\n",
       "  <tbody>\n",
       "    <tr>\n",
       "      <th>0</th>\n",
       "      <td>1.005242</td>\n",
       "      <td>1.447979</td>\n",
       "      <td>1.855278</td>\n",
       "      <td>2.181346</td>\n",
       "      <td>1.498299</td>\n",
       "      <td>4.279500</td>\n",
       "      <td>4.180203</td>\n",
       "      <td>4.400011</td>\n",
       "      <td>0.677988</td>\n",
       "      <td>0.887971</td>\n",
       "      <td>...</td>\n",
       "      <td>-0.508672</td>\n",
       "      <td>1.847228</td>\n",
       "      <td>-1.146185</td>\n",
       "      <td>-0.357804</td>\n",
       "      <td>-0.23291</td>\n",
       "      <td>-1.157510</td>\n",
       "      <td>1.691552</td>\n",
       "      <td>-0.05888</td>\n",
       "      <td>0</td>\n",
       "      <td>686193</td>\n",
       "    </tr>\n",
       "    <tr>\n",
       "      <th>1</th>\n",
       "      <td>1.067876</td>\n",
       "      <td>1.812864</td>\n",
       "      <td>0.403297</td>\n",
       "      <td>0.338342</td>\n",
       "      <td>0.218478</td>\n",
       "      <td>1.165877</td>\n",
       "      <td>1.489773</td>\n",
       "      <td>1.256013</td>\n",
       "      <td>1.233600</td>\n",
       "      <td>-0.025824</td>\n",
       "      <td>...</td>\n",
       "      <td>1.965905</td>\n",
       "      <td>-0.541352</td>\n",
       "      <td>-1.146185</td>\n",
       "      <td>-0.357804</td>\n",
       "      <td>-0.23291</td>\n",
       "      <td>-1.157510</td>\n",
       "      <td>1.691552</td>\n",
       "      <td>-0.05888</td>\n",
       "      <td>0</td>\n",
       "      <td>600312</td>\n",
       "    </tr>\n",
       "    <tr>\n",
       "      <th>2</th>\n",
       "      <td>-0.811134</td>\n",
       "      <td>0.691709</td>\n",
       "      <td>2.526819</td>\n",
       "      <td>1.119776</td>\n",
       "      <td>0.976891</td>\n",
       "      <td>0.145719</td>\n",
       "      <td>0.624301</td>\n",
       "      <td>0.297107</td>\n",
       "      <td>0.118161</td>\n",
       "      <td>1.404949</td>\n",
       "      <td>...</td>\n",
       "      <td>-0.508672</td>\n",
       "      <td>-0.541352</td>\n",
       "      <td>0.872460</td>\n",
       "      <td>-0.357804</td>\n",
       "      <td>-0.23291</td>\n",
       "      <td>0.863924</td>\n",
       "      <td>-0.591173</td>\n",
       "      <td>-0.05888</td>\n",
       "      <td>0</td>\n",
       "      <td>858188</td>\n",
       "    </tr>\n",
       "    <tr>\n",
       "      <th>3</th>\n",
       "      <td>1.130510</td>\n",
       "      <td>-0.669986</td>\n",
       "      <td>-0.476966</td>\n",
       "      <td>-0.413604</td>\n",
       "      <td>-0.563636</td>\n",
       "      <td>-0.450727</td>\n",
       "      <td>-0.443168</td>\n",
       "      <td>-0.440912</td>\n",
       "      <td>-0.749262</td>\n",
       "      <td>-0.341240</td>\n",
       "      <td>...</td>\n",
       "      <td>-0.508672</td>\n",
       "      <td>1.847228</td>\n",
       "      <td>-1.146185</td>\n",
       "      <td>-0.357804</td>\n",
       "      <td>-0.23291</td>\n",
       "      <td>-1.157510</td>\n",
       "      <td>1.691552</td>\n",
       "      <td>-0.05888</td>\n",
       "      <td>0</td>\n",
       "      <td>857750</td>\n",
       "    </tr>\n",
       "    <tr>\n",
       "      <th>4</th>\n",
       "      <td>-0.811134</td>\n",
       "      <td>1.466325</td>\n",
       "      <td>1.773604</td>\n",
       "      <td>0.367830</td>\n",
       "      <td>0.254028</td>\n",
       "      <td>-0.497478</td>\n",
       "      <td>0.216546</td>\n",
       "      <td>-0.404540</td>\n",
       "      <td>1.081068</td>\n",
       "      <td>1.258413</td>\n",
       "      <td>...</td>\n",
       "      <td>-0.508672</td>\n",
       "      <td>-0.541352</td>\n",
       "      <td>0.872460</td>\n",
       "      <td>-0.357804</td>\n",
       "      <td>-0.23291</td>\n",
       "      <td>0.863924</td>\n",
       "      <td>-0.591173</td>\n",
       "      <td>-0.05888</td>\n",
       "      <td>0</td>\n",
       "      <td>687403</td>\n",
       "    </tr>\n",
       "  </tbody>\n",
       "</table>\n",
       "<p>5 rows × 156 columns</p>\n",
       "</div>"
      ],
      "text/plain": [
       "         bd  num_25_sum  num_50_sum  num_75_sum  num_985_sum  num_100_sum  \\\n",
       "0  1.005242    1.447979    1.855278    2.181346     1.498299     4.279500   \n",
       "1  1.067876    1.812864    0.403297    0.338342     0.218478     1.165877   \n",
       "2 -0.811134    0.691709    2.526819    1.119776     0.976891     0.145719   \n",
       "3  1.130510   -0.669986   -0.476966   -0.413604    -0.563636    -0.450727   \n",
       "4 -0.811134    1.466325    1.773604    0.367830     0.254028    -0.497478   \n",
       "\n",
       "   num_unq_sum  num_totalsec_sum  num_25_mean  num_50_mean     ...      \\\n",
       "0     4.180203          4.400011     0.677988     0.887971     ...       \n",
       "1     1.489773          1.256013     1.233600    -0.025824     ...       \n",
       "2     0.624301          0.297107     0.118161     1.404949     ...       \n",
       "3    -0.443168         -0.440912    -0.749262    -0.341240     ...       \n",
       "4     0.216546         -0.404540     1.081068     1.258413     ...       \n",
       "\n",
       "   gender_0  gender_1  gender_2  registered_via_3  registered_via_4  \\\n",
       "0 -0.508672  1.847228 -1.146185         -0.357804          -0.23291   \n",
       "1  1.965905 -0.541352 -1.146185         -0.357804          -0.23291   \n",
       "2 -0.508672 -0.541352  0.872460         -0.357804          -0.23291   \n",
       "3 -0.508672  1.847228 -1.146185         -0.357804          -0.23291   \n",
       "4 -0.508672 -0.541352  0.872460         -0.357804          -0.23291   \n",
       "\n",
       "   registered_via_7  registered_via_9  registered_via_13  is_churn  Temp_index  \n",
       "0         -1.157510          1.691552           -0.05888         0      686193  \n",
       "1         -1.157510          1.691552           -0.05888         0      600312  \n",
       "2          0.863924         -0.591173           -0.05888         0      858188  \n",
       "3         -1.157510          1.691552           -0.05888         0      857750  \n",
       "4          0.863924         -0.591173           -0.05888         0      687403  \n",
       "\n",
       "[5 rows x 156 columns]"
      ]
     },
     "execution_count": 203,
     "metadata": {},
     "output_type": "execute_result"
    }
   ],
   "source": [
    "col_names=X_no_msno.columns\n",
    "col_types =X_no_msno.dtypes\n",
    "\n",
    "#return_indices=True so that we can restore the original \"msno\" \n",
    "rus = RandomUnderSampler(random_state=42,return_indices=True)\n",
    "#Resample the training data sets in order to balance class distribution!\n",
    "X_res, y_res,idx_resampled = rus.fit_sample(X_no_msno, y_train)\n",
    "print('Resampled dataset shape {}'.format(Counter(y_res)))\n",
    "\n",
    "# convert np back to dataframe\n",
    "X_res = pd.DataFrame(X_res)\n",
    "X_res.columns = col_names\n",
    "\n",
    "y_res=pd.DataFrame(y_res)\n",
    "#y_res.columns=col_names_y\n",
    "\n",
    "for col_name, col_type in zip(col_names, col_types):\n",
    "    X_res[col_name] = X_res[col_name].astype(col_type)\n",
    "\n",
    "X_res['is_churn']=y_res\n",
    "#X_res['index']=idx_resampled\n",
    "\n",
    "X_res.head()"
   ]
  },
  {
   "cell_type": "code",
   "execution_count": 204,
   "metadata": {
    "collapsed": true
   },
   "outputs": [],
   "source": [
    "msno_index=data_std[['Temp_index','msno']]"
   ]
  },
  {
   "cell_type": "code",
   "execution_count": 205,
   "metadata": {
    "collapsed": true
   },
   "outputs": [],
   "source": [
    "final_result = pd.merge(X_res, msno_index, on='Temp_index')\n",
    "\n",
    "final_train_StdSc=final_result.drop('Temp_index',axis=1)"
   ]
  },
  {
   "cell_type": "code",
   "execution_count": 206,
   "metadata": {
    "collapsed": true
   },
   "outputs": [],
   "source": [
    "final_train_StdSc.to_csv('final_train_data_StdSc.csv')"
   ]
  },
  {
   "cell_type": "code",
   "execution_count": 209,
   "metadata": {},
   "outputs": [
    {
     "data": {
      "text/plain": [
       "(70598, 156)"
      ]
     },
     "execution_count": 209,
     "metadata": {},
     "output_type": "execute_result"
    }
   ],
   "source": [
    "final_train_StdSc.shape"
   ]
  },
  {
   "cell_type": "markdown",
   "metadata": {},
   "source": [
    "#### Evaluate Performance of Standard Scaler "
   ]
  },
  {
   "cell_type": "markdown",
   "metadata": {},
   "source": [
    "##### Data used for both models"
   ]
  },
  {
   "cell_type": "code",
   "execution_count": 210,
   "metadata": {
    "collapsed": true
   },
   "outputs": [],
   "source": [
    "df_train_data=pd.read_csv('final_train_data_StdSc.csv')"
   ]
  },
  {
   "cell_type": "code",
   "execution_count": 211,
   "metadata": {
    "collapsed": true
   },
   "outputs": [],
   "source": [
    "data_train= df_train_data.drop(['is_churn','msno','Unnamed: 0'],axis=1)\n",
    "target_train = df_train_data['is_churn']"
   ]
  },
  {
   "cell_type": "code",
   "execution_count": 212,
   "metadata": {
    "collapsed": true
   },
   "outputs": [],
   "source": [
    "# fix random seed for reproducibility\n",
    "seed = 7\n",
    "np.random.seed(seed)"
   ]
  },
  {
   "cell_type": "markdown",
   "metadata": {},
   "source": [
    "##### Decision Tree"
   ]
  },
  {
   "cell_type": "code",
   "execution_count": 213,
   "metadata": {
    "collapsed": true
   },
   "outputs": [],
   "source": [
    "import statsmodels.api as sm\n",
    "from sklearn import linear_model\n",
    "from sklearn import preprocessing\n",
    "from sklearn.model_selection import StratifiedKFold\n",
    "from sklearn.model_selection import cross_val_score\n",
    "from sklearn.metrics import confusion_matrix\n",
    "from sklearn.utils.multiclass import unique_labels\n",
    "from sklearn.metrics import confusion_matrix\n",
    "from sklearn.metrics import classification_report\n",
    "from sklearn.metrics import accuracy_score\n",
    "from sklearn.metrics import log_loss"
   ]
  },
  {
   "cell_type": "code",
   "execution_count": 214,
   "metadata": {
    "collapsed": true
   },
   "outputs": [],
   "source": [
    "def crossvalid(data_train, target_train, est, nsplit):\n",
    "    data_train_val=data_train.values\n",
    "    n=data_train.shape[0]\n",
    "    target_train_val=np.reshape(target_train.values,[n,])\n",
    "\n",
    "    cross_val = StratifiedKFold(n_splits=nsplit, shuffle=True, random_state=42)\n",
    "    acc_each_split = cross_val_score(estimator=est, X=data_train_val, y=target_train_val, cv=5, scoring='accuracy')\n",
    "    return acc_each_split.mean()"
   ]
  },
  {
   "cell_type": "code",
   "execution_count": 215,
   "metadata": {},
   "outputs": [
    {
     "data": {
      "text/plain": [
       "0.893821328687746"
      ]
     },
     "execution_count": 215,
     "metadata": {},
     "output_type": "execute_result"
    }
   ],
   "source": [
    "from sklearn import tree\n",
    "decision_tree = tree.DecisionTreeClassifier()\n",
    "crossvalid(data_train, target_train, decision_tree, 10)"
   ]
  },
  {
   "cell_type": "code",
   "execution_count": 216,
   "metadata": {
    "collapsed": true
   },
   "outputs": [],
   "source": [
    "kfold = StratifiedKFold(n_splits=10, shuffle=True, random_state=seed)\n",
    "results_dec_tree_stdsc = cross_val_score(decision_tree, data_train, target_train, cv=kfold)"
   ]
  },
  {
   "cell_type": "code",
   "execution_count": 217,
   "metadata": {},
   "outputs": [
    {
     "name": "stdout",
     "output_type": "stream",
     "text": [
      "Results: 89.66% (0.29%)\n"
     ]
    }
   ],
   "source": [
    "print(\"Results: %.2f%% (%.2f%%)\" % (results_dec_tree_stdsc.mean()*100, results_dec_tree_stdsc.std()*100))"
   ]
  },
  {
   "cell_type": "markdown",
   "metadata": {},
   "source": [
    "##### ANN"
   ]
  },
  {
   "cell_type": "code",
   "execution_count": 218,
   "metadata": {
    "collapsed": true
   },
   "outputs": [],
   "source": [
    "##https://machinelearningmastery.com/binary-classification-tutorial-with-the-keras-deep-learning-library/\n",
    "from keras.models import Sequential\n",
    "from keras.layers import Dense\n",
    "from keras.wrappers.scikit_learn import KerasClassifier\n",
    "from sklearn.model_selection import cross_val_score"
   ]
  },
  {
   "cell_type": "code",
   "execution_count": 219,
   "metadata": {
    "collapsed": true
   },
   "outputs": [],
   "source": [
    "def create_baseline():\n",
    "    # create model\n",
    "    model = Sequential()\n",
    "    model.add(Dense(20, input_dim=154, kernel_initializer='normal', activation='relu'))\n",
    "    #if we want a hidden layer :\n",
    "    model.add(Dense(8, activation='relu'))\n",
    "    model.add(Dense(1, kernel_initializer='normal', activation='sigmoid'))\n",
    "    # Compile model\n",
    "    model.compile(loss='binary_crossentropy', optimizer='adam', metrics=['accuracy'])\n",
    "    return model"
   ]
  },
  {
   "cell_type": "code",
   "execution_count": 220,
   "metadata": {},
   "outputs": [
    {
     "name": "stdout",
     "output_type": "stream",
     "text": [
      "Results: 91.89% (0.34%)\n"
     ]
    }
   ],
   "source": [
    "#Cross validation without selecting a features subset\n",
    "estimator = KerasClassifier(build_fn=create_baseline, nb_epoch=100, batch_size=5, verbose=0)\n",
    "kfold = StratifiedKFold(n_splits=10, shuffle=True, random_state=seed)\n",
    "results = cross_val_score(estimator, data_train, target_train, cv=kfold)\n",
    "print(\"Results: %.2f%% (%.2f%%)\" % (results.mean()*100, results.std()*100))"
   ]
  },
  {
   "cell_type": "markdown",
   "metadata": {},
   "source": [
    "### Apply Robust Scaler, Undersample & Evaluate"
   ]
  },
  {
   "cell_type": "code",
   "execution_count": 221,
   "metadata": {
    "collapsed": true
   },
   "outputs": [],
   "source": [
    "df=pd.read_csv('final_train_after_split.csv')\n",
    "# Get all the columns from the dataframe.\n",
    "columns = df.columns.tolist()\n",
    "# Filter the columns to remove ones we don't want. \n",
    "columns_subset = [c for c in columns if c not in [\"is_churn\",\"Unnamed: 0\",\"Unnamed: 0.1\",\"msno\"]]\n",
    "# Store the variable we'll be predicting on.\n",
    "target = \"is_churn\"\n",
    "#DF for standardization\n",
    "X = df[columns_subset]"
   ]
  },
  {
   "cell_type": "markdown",
   "metadata": {},
   "source": [
    "#### Apply Robust Scaler"
   ]
  },
  {
   "cell_type": "code",
   "execution_count": 222,
   "metadata": {
    "collapsed": true
   },
   "outputs": [],
   "source": [
    "rsc=RobustScaler()\n",
    "data_std_2=rsc.fit_transform(X)"
   ]
  },
  {
   "cell_type": "code",
   "execution_count": 223,
   "metadata": {
    "collapsed": true
   },
   "outputs": [],
   "source": [
    "#convert back to data frame\n",
    "data_std=pd.DataFrame(data_std_2)\n",
    "#restore original df\n",
    "data_std.columns=X.columns\n",
    "data_std['msno']=df['msno']\n",
    "data_std['is_churn']=df['is_churn']\n",
    "data_std['Temp_index']=df['Unnamed: 0']"
   ]
  },
  {
   "cell_type": "code",
   "execution_count": 224,
   "metadata": {
    "collapsed": true
   },
   "outputs": [],
   "source": [
    "X_no_msno=data_std.drop('msno',axis=1)\n"
   ]
  },
  {
   "cell_type": "code",
   "execution_count": 225,
   "metadata": {},
   "outputs": [
    {
     "data": {
      "text/html": [
       "<div>\n",
       "<style>\n",
       "    .dataframe thead tr:only-child th {\n",
       "        text-align: right;\n",
       "    }\n",
       "\n",
       "    .dataframe thead th {\n",
       "        text-align: left;\n",
       "    }\n",
       "\n",
       "    .dataframe tbody tr th {\n",
       "        vertical-align: top;\n",
       "    }\n",
       "</style>\n",
       "<table border=\"1\" class=\"dataframe\">\n",
       "  <thead>\n",
       "    <tr style=\"text-align: right;\">\n",
       "      <th></th>\n",
       "      <th>bd</th>\n",
       "      <th>num_25_sum</th>\n",
       "      <th>num_50_sum</th>\n",
       "      <th>num_75_sum</th>\n",
       "      <th>num_985_sum</th>\n",
       "      <th>num_100_sum</th>\n",
       "      <th>num_unq_sum</th>\n",
       "      <th>num_totalsec_sum</th>\n",
       "      <th>num_25_mean</th>\n",
       "      <th>num_50_mean</th>\n",
       "      <th>...</th>\n",
       "      <th>gender_0</th>\n",
       "      <th>gender_1</th>\n",
       "      <th>gender_2</th>\n",
       "      <th>registered_via_3</th>\n",
       "      <th>registered_via_4</th>\n",
       "      <th>registered_via_7</th>\n",
       "      <th>registered_via_9</th>\n",
       "      <th>registered_via_13</th>\n",
       "      <th>is_churn</th>\n",
       "      <th>Temp_index</th>\n",
       "    </tr>\n",
       "  </thead>\n",
       "  <tbody>\n",
       "    <tr>\n",
       "      <th>0</th>\n",
       "      <td>0.000000</td>\n",
       "      <td>1.577815</td>\n",
       "      <td>4.673203</td>\n",
       "      <td>2.080808</td>\n",
       "      <td>1.613208</td>\n",
       "      <td>1.633598</td>\n",
       "      <td>1.284561</td>\n",
       "      <td>1.533956</td>\n",
       "      <td>0.890235</td>\n",
       "      <td>3.629874</td>\n",
       "      <td>...</td>\n",
       "      <td>0.0</td>\n",
       "      <td>0.0</td>\n",
       "      <td>0.0</td>\n",
       "      <td>0.0</td>\n",
       "      <td>0.0</td>\n",
       "      <td>0.0</td>\n",
       "      <td>0.0</td>\n",
       "      <td>0.0</td>\n",
       "      <td>0</td>\n",
       "      <td>745985</td>\n",
       "    </tr>\n",
       "    <tr>\n",
       "      <th>1</th>\n",
       "      <td>1.148148</td>\n",
       "      <td>-0.478477</td>\n",
       "      <td>-0.503268</td>\n",
       "      <td>-0.515152</td>\n",
       "      <td>-0.500000</td>\n",
       "      <td>-0.508814</td>\n",
       "      <td>-0.541877</td>\n",
       "      <td>-0.523157</td>\n",
       "      <td>-0.807804</td>\n",
       "      <td>-0.869125</td>\n",
       "      <td>...</td>\n",
       "      <td>0.0</td>\n",
       "      <td>1.0</td>\n",
       "      <td>-1.0</td>\n",
       "      <td>0.0</td>\n",
       "      <td>0.0</td>\n",
       "      <td>-1.0</td>\n",
       "      <td>1.0</td>\n",
       "      <td>0.0</td>\n",
       "      <td>0</td>\n",
       "      <td>295235</td>\n",
       "    </tr>\n",
       "    <tr>\n",
       "      <th>2</th>\n",
       "      <td>0.000000</td>\n",
       "      <td>-0.043046</td>\n",
       "      <td>-0.013072</td>\n",
       "      <td>0.222222</td>\n",
       "      <td>0.188679</td>\n",
       "      <td>0.671621</td>\n",
       "      <td>-0.049445</td>\n",
       "      <td>0.674216</td>\n",
       "      <td>-0.428397</td>\n",
       "      <td>-0.419577</td>\n",
       "      <td>...</td>\n",
       "      <td>0.0</td>\n",
       "      <td>0.0</td>\n",
       "      <td>0.0</td>\n",
       "      <td>0.0</td>\n",
       "      <td>0.0</td>\n",
       "      <td>0.0</td>\n",
       "      <td>0.0</td>\n",
       "      <td>0.0</td>\n",
       "      <td>0</td>\n",
       "      <td>716291</td>\n",
       "    </tr>\n",
       "    <tr>\n",
       "      <th>3</th>\n",
       "      <td>1.407407</td>\n",
       "      <td>-0.041391</td>\n",
       "      <td>-0.163399</td>\n",
       "      <td>-0.010101</td>\n",
       "      <td>-0.103774</td>\n",
       "      <td>1.169029</td>\n",
       "      <td>0.872519</td>\n",
       "      <td>1.041517</td>\n",
       "      <td>-0.281869</td>\n",
       "      <td>-0.438701</td>\n",
       "      <td>...</td>\n",
       "      <td>1.0</td>\n",
       "      <td>0.0</td>\n",
       "      <td>-1.0</td>\n",
       "      <td>0.0</td>\n",
       "      <td>0.0</td>\n",
       "      <td>-1.0</td>\n",
       "      <td>1.0</td>\n",
       "      <td>0.0</td>\n",
       "      <td>0</td>\n",
       "      <td>222115</td>\n",
       "    </tr>\n",
       "    <tr>\n",
       "      <th>4</th>\n",
       "      <td>1.370370</td>\n",
       "      <td>0.594371</td>\n",
       "      <td>0.307190</td>\n",
       "      <td>0.131313</td>\n",
       "      <td>-0.009434</td>\n",
       "      <td>-0.300380</td>\n",
       "      <td>-0.045745</td>\n",
       "      <td>-0.266973</td>\n",
       "      <td>2.580890</td>\n",
       "      <td>1.825162</td>\n",
       "      <td>...</td>\n",
       "      <td>0.0</td>\n",
       "      <td>1.0</td>\n",
       "      <td>-1.0</td>\n",
       "      <td>0.0</td>\n",
       "      <td>0.0</td>\n",
       "      <td>-1.0</td>\n",
       "      <td>1.0</td>\n",
       "      <td>0.0</td>\n",
       "      <td>0</td>\n",
       "      <td>800112</td>\n",
       "    </tr>\n",
       "  </tbody>\n",
       "</table>\n",
       "<p>5 rows × 156 columns</p>\n",
       "</div>"
      ],
      "text/plain": [
       "         bd  num_25_sum  num_50_sum  num_75_sum  num_985_sum  num_100_sum  \\\n",
       "0  0.000000    1.577815    4.673203    2.080808     1.613208     1.633598   \n",
       "1  1.148148   -0.478477   -0.503268   -0.515152    -0.500000    -0.508814   \n",
       "2  0.000000   -0.043046   -0.013072    0.222222     0.188679     0.671621   \n",
       "3  1.407407   -0.041391   -0.163399   -0.010101    -0.103774     1.169029   \n",
       "4  1.370370    0.594371    0.307190    0.131313    -0.009434    -0.300380   \n",
       "\n",
       "   num_unq_sum  num_totalsec_sum  num_25_mean  num_50_mean     ...      \\\n",
       "0     1.284561          1.533956     0.890235     3.629874     ...       \n",
       "1    -0.541877         -0.523157    -0.807804    -0.869125     ...       \n",
       "2    -0.049445          0.674216    -0.428397    -0.419577     ...       \n",
       "3     0.872519          1.041517    -0.281869    -0.438701     ...       \n",
       "4    -0.045745         -0.266973     2.580890     1.825162     ...       \n",
       "\n",
       "   gender_0  gender_1  gender_2  registered_via_3  registered_via_4  \\\n",
       "0       0.0       0.0       0.0               0.0               0.0   \n",
       "1       0.0       1.0      -1.0               0.0               0.0   \n",
       "2       0.0       0.0       0.0               0.0               0.0   \n",
       "3       1.0       0.0      -1.0               0.0               0.0   \n",
       "4       0.0       1.0      -1.0               0.0               0.0   \n",
       "\n",
       "   registered_via_7  registered_via_9  registered_via_13  is_churn  Temp_index  \n",
       "0               0.0               0.0                0.0         0      745985  \n",
       "1              -1.0               1.0                0.0         0      295235  \n",
       "2               0.0               0.0                0.0         0      716291  \n",
       "3              -1.0               1.0                0.0         0      222115  \n",
       "4              -1.0               1.0                0.0         0      800112  \n",
       "\n",
       "[5 rows x 156 columns]"
      ]
     },
     "execution_count": 225,
     "metadata": {},
     "output_type": "execute_result"
    }
   ],
   "source": [
    "X_no_msno.head()"
   ]
  },
  {
   "cell_type": "code",
   "execution_count": 226,
   "metadata": {
    "collapsed": true
   },
   "outputs": [],
   "source": [
    "y_train=X_no_msno[target]"
   ]
  },
  {
   "cell_type": "markdown",
   "metadata": {},
   "source": [
    "#### Undersample"
   ]
  },
  {
   "cell_type": "code",
   "execution_count": 227,
   "metadata": {},
   "outputs": [
    {
     "name": "stdout",
     "output_type": "stream",
     "text": [
      "Resampled dataset shape Counter({0: 40349, 1: 40349})\n"
     ]
    },
    {
     "data": {
      "text/html": [
       "<div>\n",
       "<style>\n",
       "    .dataframe thead tr:only-child th {\n",
       "        text-align: right;\n",
       "    }\n",
       "\n",
       "    .dataframe thead th {\n",
       "        text-align: left;\n",
       "    }\n",
       "\n",
       "    .dataframe tbody tr th {\n",
       "        vertical-align: top;\n",
       "    }\n",
       "</style>\n",
       "<table border=\"1\" class=\"dataframe\">\n",
       "  <thead>\n",
       "    <tr style=\"text-align: right;\">\n",
       "      <th></th>\n",
       "      <th>bd</th>\n",
       "      <th>num_25_sum</th>\n",
       "      <th>num_50_sum</th>\n",
       "      <th>num_75_sum</th>\n",
       "      <th>num_985_sum</th>\n",
       "      <th>num_100_sum</th>\n",
       "      <th>num_unq_sum</th>\n",
       "      <th>num_totalsec_sum</th>\n",
       "      <th>num_25_mean</th>\n",
       "      <th>num_50_mean</th>\n",
       "      <th>...</th>\n",
       "      <th>gender_0</th>\n",
       "      <th>gender_1</th>\n",
       "      <th>gender_2</th>\n",
       "      <th>registered_via_3</th>\n",
       "      <th>registered_via_4</th>\n",
       "      <th>registered_via_7</th>\n",
       "      <th>registered_via_9</th>\n",
       "      <th>registered_via_13</th>\n",
       "      <th>is_churn</th>\n",
       "      <th>Temp_index</th>\n",
       "    </tr>\n",
       "  </thead>\n",
       "  <tbody>\n",
       "    <tr>\n",
       "      <th>0</th>\n",
       "      <td>0.962963</td>\n",
       "      <td>0.299669</td>\n",
       "      <td>0.150327</td>\n",
       "      <td>-0.070707</td>\n",
       "      <td>0.037736</td>\n",
       "      <td>0.375043</td>\n",
       "      <td>0.350824</td>\n",
       "      <td>0.328763</td>\n",
       "      <td>0.520763</td>\n",
       "      <td>0.305368</td>\n",
       "      <td>...</td>\n",
       "      <td>0.0</td>\n",
       "      <td>1.0</td>\n",
       "      <td>-1.0</td>\n",
       "      <td>0.0</td>\n",
       "      <td>1.0</td>\n",
       "      <td>-1.0</td>\n",
       "      <td>0.0</td>\n",
       "      <td>0.0</td>\n",
       "      <td>0</td>\n",
       "      <td>263691</td>\n",
       "    </tr>\n",
       "    <tr>\n",
       "      <th>1</th>\n",
       "      <td>1.518519</td>\n",
       "      <td>0.829470</td>\n",
       "      <td>0.901961</td>\n",
       "      <td>1.252525</td>\n",
       "      <td>1.471698</td>\n",
       "      <td>2.783616</td>\n",
       "      <td>1.735957</td>\n",
       "      <td>2.607264</td>\n",
       "      <td>0.244751</td>\n",
       "      <td>0.321078</td>\n",
       "      <td>...</td>\n",
       "      <td>0.0</td>\n",
       "      <td>1.0</td>\n",
       "      <td>-1.0</td>\n",
       "      <td>0.0</td>\n",
       "      <td>0.0</td>\n",
       "      <td>-1.0</td>\n",
       "      <td>1.0</td>\n",
       "      <td>0.0</td>\n",
       "      <td>0</td>\n",
       "      <td>138543</td>\n",
       "    </tr>\n",
       "    <tr>\n",
       "      <th>2</th>\n",
       "      <td>1.000000</td>\n",
       "      <td>2.928808</td>\n",
       "      <td>2.777778</td>\n",
       "      <td>2.242424</td>\n",
       "      <td>2.943396</td>\n",
       "      <td>1.044936</td>\n",
       "      <td>0.905146</td>\n",
       "      <td>1.104241</td>\n",
       "      <td>4.932058</td>\n",
       "      <td>4.948217</td>\n",
       "      <td>...</td>\n",
       "      <td>1.0</td>\n",
       "      <td>0.0</td>\n",
       "      <td>-1.0</td>\n",
       "      <td>0.0</td>\n",
       "      <td>1.0</td>\n",
       "      <td>-1.0</td>\n",
       "      <td>0.0</td>\n",
       "      <td>0.0</td>\n",
       "      <td>0</td>\n",
       "      <td>534031</td>\n",
       "    </tr>\n",
       "    <tr>\n",
       "      <th>3</th>\n",
       "      <td>1.370370</td>\n",
       "      <td>0.344371</td>\n",
       "      <td>0.222222</td>\n",
       "      <td>0.464646</td>\n",
       "      <td>0.103774</td>\n",
       "      <td>-0.111994</td>\n",
       "      <td>-0.099899</td>\n",
       "      <td>-0.068988</td>\n",
       "      <td>0.508168</td>\n",
       "      <td>0.352051</td>\n",
       "      <td>...</td>\n",
       "      <td>0.0</td>\n",
       "      <td>1.0</td>\n",
       "      <td>-1.0</td>\n",
       "      <td>0.0</td>\n",
       "      <td>0.0</td>\n",
       "      <td>0.0</td>\n",
       "      <td>0.0</td>\n",
       "      <td>0.0</td>\n",
       "      <td>0</td>\n",
       "      <td>379174</td>\n",
       "    </tr>\n",
       "    <tr>\n",
       "      <th>4</th>\n",
       "      <td>0.000000</td>\n",
       "      <td>0.764901</td>\n",
       "      <td>0.967320</td>\n",
       "      <td>1.292929</td>\n",
       "      <td>1.000000</td>\n",
       "      <td>0.551676</td>\n",
       "      <td>0.475950</td>\n",
       "      <td>0.587724</td>\n",
       "      <td>0.246513</td>\n",
       "      <td>0.443312</td>\n",
       "      <td>...</td>\n",
       "      <td>0.0</td>\n",
       "      <td>0.0</td>\n",
       "      <td>0.0</td>\n",
       "      <td>0.0</td>\n",
       "      <td>0.0</td>\n",
       "      <td>0.0</td>\n",
       "      <td>0.0</td>\n",
       "      <td>0.0</td>\n",
       "      <td>0</td>\n",
       "      <td>694943</td>\n",
       "    </tr>\n",
       "  </tbody>\n",
       "</table>\n",
       "<p>5 rows × 156 columns</p>\n",
       "</div>"
      ],
      "text/plain": [
       "         bd  num_25_sum  num_50_sum  num_75_sum  num_985_sum  num_100_sum  \\\n",
       "0  0.962963    0.299669    0.150327   -0.070707     0.037736     0.375043   \n",
       "1  1.518519    0.829470    0.901961    1.252525     1.471698     2.783616   \n",
       "2  1.000000    2.928808    2.777778    2.242424     2.943396     1.044936   \n",
       "3  1.370370    0.344371    0.222222    0.464646     0.103774    -0.111994   \n",
       "4  0.000000    0.764901    0.967320    1.292929     1.000000     0.551676   \n",
       "\n",
       "   num_unq_sum  num_totalsec_sum  num_25_mean  num_50_mean     ...      \\\n",
       "0     0.350824          0.328763     0.520763     0.305368     ...       \n",
       "1     1.735957          2.607264     0.244751     0.321078     ...       \n",
       "2     0.905146          1.104241     4.932058     4.948217     ...       \n",
       "3    -0.099899         -0.068988     0.508168     0.352051     ...       \n",
       "4     0.475950          0.587724     0.246513     0.443312     ...       \n",
       "\n",
       "   gender_0  gender_1  gender_2  registered_via_3  registered_via_4  \\\n",
       "0       0.0       1.0      -1.0               0.0               1.0   \n",
       "1       0.0       1.0      -1.0               0.0               0.0   \n",
       "2       1.0       0.0      -1.0               0.0               1.0   \n",
       "3       0.0       1.0      -1.0               0.0               0.0   \n",
       "4       0.0       0.0       0.0               0.0               0.0   \n",
       "\n",
       "   registered_via_7  registered_via_9  registered_via_13  is_churn  Temp_index  \n",
       "0              -1.0               0.0                0.0         0      263691  \n",
       "1              -1.0               1.0                0.0         0      138543  \n",
       "2              -1.0               0.0                0.0         0      534031  \n",
       "3               0.0               0.0                0.0         0      379174  \n",
       "4               0.0               0.0                0.0         0      694943  \n",
       "\n",
       "[5 rows x 156 columns]"
      ]
     },
     "execution_count": 227,
     "metadata": {},
     "output_type": "execute_result"
    }
   ],
   "source": [
    "col_names=X_no_msno.columns\n",
    "col_types =X_no_msno.dtypes\n",
    "\n",
    "#return_indices=True so that we can restore the original \"msno\" \n",
    "rus = RandomUnderSampler(random_state=42,return_indices=True)\n",
    "#Resample the training data sets in order to balance class distribution!\n",
    "X_res, y_res,idx_resampled = rus.fit_sample(X_no_msno, y_train)\n",
    "print('Resampled dataset shape {}'.format(Counter(y_res)))\n",
    "\n",
    "# convert np back to dataframe\n",
    "X_res = pd.DataFrame(X_res)\n",
    "X_res.columns = col_names\n",
    "\n",
    "y_res=pd.DataFrame(y_res)\n",
    "#y_res.columns=col_names_y\n",
    "\n",
    "for col_name, col_type in zip(col_names, col_types):\n",
    "    X_res[col_name] = X_res[col_name].astype(col_type)\n",
    "\n",
    "X_res['is_churn']=y_res\n",
    "#X_res['index']=idx_resampled\n",
    "\n",
    "X_res.head()"
   ]
  },
  {
   "cell_type": "code",
   "execution_count": 228,
   "metadata": {},
   "outputs": [
    {
     "data": {
      "text/html": [
       "<div>\n",
       "<style>\n",
       "    .dataframe thead tr:only-child th {\n",
       "        text-align: right;\n",
       "    }\n",
       "\n",
       "    .dataframe thead th {\n",
       "        text-align: left;\n",
       "    }\n",
       "\n",
       "    .dataframe tbody tr th {\n",
       "        vertical-align: top;\n",
       "    }\n",
       "</style>\n",
       "<table border=\"1\" class=\"dataframe\">\n",
       "  <thead>\n",
       "    <tr style=\"text-align: right;\">\n",
       "      <th></th>\n",
       "      <th>bd</th>\n",
       "      <th>num_25_sum</th>\n",
       "      <th>num_50_sum</th>\n",
       "      <th>num_75_sum</th>\n",
       "      <th>num_985_sum</th>\n",
       "      <th>num_100_sum</th>\n",
       "      <th>num_unq_sum</th>\n",
       "      <th>num_totalsec_sum</th>\n",
       "      <th>num_25_mean</th>\n",
       "      <th>num_50_mean</th>\n",
       "      <th>...</th>\n",
       "      <th>gender_1</th>\n",
       "      <th>gender_2</th>\n",
       "      <th>registered_via_3</th>\n",
       "      <th>registered_via_4</th>\n",
       "      <th>registered_via_7</th>\n",
       "      <th>registered_via_9</th>\n",
       "      <th>registered_via_13</th>\n",
       "      <th>is_churn</th>\n",
       "      <th>Temp_index</th>\n",
       "      <th>msno</th>\n",
       "    </tr>\n",
       "  </thead>\n",
       "  <tbody>\n",
       "    <tr>\n",
       "      <th>0</th>\n",
       "      <td>0.962963</td>\n",
       "      <td>0.299669</td>\n",
       "      <td>0.150327</td>\n",
       "      <td>-0.070707</td>\n",
       "      <td>0.037736</td>\n",
       "      <td>0.375043</td>\n",
       "      <td>0.350824</td>\n",
       "      <td>0.328763</td>\n",
       "      <td>0.520763</td>\n",
       "      <td>0.305368</td>\n",
       "      <td>...</td>\n",
       "      <td>1.0</td>\n",
       "      <td>-1.0</td>\n",
       "      <td>0.0</td>\n",
       "      <td>1.0</td>\n",
       "      <td>-1.0</td>\n",
       "      <td>0.0</td>\n",
       "      <td>0.0</td>\n",
       "      <td>0</td>\n",
       "      <td>263691</td>\n",
       "      <td>Js++0pNy8YJd8+Fn0wUQ/jM1s9I5kQuJ7qE/jR83+OQ=</td>\n",
       "    </tr>\n",
       "    <tr>\n",
       "      <th>1</th>\n",
       "      <td>1.518519</td>\n",
       "      <td>0.829470</td>\n",
       "      <td>0.901961</td>\n",
       "      <td>1.252525</td>\n",
       "      <td>1.471698</td>\n",
       "      <td>2.783616</td>\n",
       "      <td>1.735957</td>\n",
       "      <td>2.607264</td>\n",
       "      <td>0.244751</td>\n",
       "      <td>0.321078</td>\n",
       "      <td>...</td>\n",
       "      <td>1.0</td>\n",
       "      <td>-1.0</td>\n",
       "      <td>0.0</td>\n",
       "      <td>0.0</td>\n",
       "      <td>-1.0</td>\n",
       "      <td>1.0</td>\n",
       "      <td>0.0</td>\n",
       "      <td>0</td>\n",
       "      <td>138543</td>\n",
       "      <td>L9+JXElv5ngSSM44AjcQRWKQE9j8DhZh5yyN/6x3ifk=</td>\n",
       "    </tr>\n",
       "    <tr>\n",
       "      <th>2</th>\n",
       "      <td>1.000000</td>\n",
       "      <td>2.928808</td>\n",
       "      <td>2.777778</td>\n",
       "      <td>2.242424</td>\n",
       "      <td>2.943396</td>\n",
       "      <td>1.044936</td>\n",
       "      <td>0.905146</td>\n",
       "      <td>1.104241</td>\n",
       "      <td>4.932058</td>\n",
       "      <td>4.948217</td>\n",
       "      <td>...</td>\n",
       "      <td>0.0</td>\n",
       "      <td>-1.0</td>\n",
       "      <td>0.0</td>\n",
       "      <td>1.0</td>\n",
       "      <td>-1.0</td>\n",
       "      <td>0.0</td>\n",
       "      <td>0.0</td>\n",
       "      <td>0</td>\n",
       "      <td>534031</td>\n",
       "      <td>trybWgwl99EIQ3xH/44GzuYylncKsXVwJFS9ak3gUKE=</td>\n",
       "    </tr>\n",
       "    <tr>\n",
       "      <th>3</th>\n",
       "      <td>1.370370</td>\n",
       "      <td>0.344371</td>\n",
       "      <td>0.222222</td>\n",
       "      <td>0.464646</td>\n",
       "      <td>0.103774</td>\n",
       "      <td>-0.111994</td>\n",
       "      <td>-0.099899</td>\n",
       "      <td>-0.068988</td>\n",
       "      <td>0.508168</td>\n",
       "      <td>0.352051</td>\n",
       "      <td>...</td>\n",
       "      <td>1.0</td>\n",
       "      <td>-1.0</td>\n",
       "      <td>0.0</td>\n",
       "      <td>0.0</td>\n",
       "      <td>0.0</td>\n",
       "      <td>0.0</td>\n",
       "      <td>0.0</td>\n",
       "      <td>0</td>\n",
       "      <td>379174</td>\n",
       "      <td>vP4d7eNSNu65P0c99wbQ7Ihrh2i/kVWyzpsj4lcx2Do=</td>\n",
       "    </tr>\n",
       "    <tr>\n",
       "      <th>4</th>\n",
       "      <td>0.000000</td>\n",
       "      <td>0.764901</td>\n",
       "      <td>0.967320</td>\n",
       "      <td>1.292929</td>\n",
       "      <td>1.000000</td>\n",
       "      <td>0.551676</td>\n",
       "      <td>0.475950</td>\n",
       "      <td>0.587724</td>\n",
       "      <td>0.246513</td>\n",
       "      <td>0.443312</td>\n",
       "      <td>...</td>\n",
       "      <td>0.0</td>\n",
       "      <td>0.0</td>\n",
       "      <td>0.0</td>\n",
       "      <td>0.0</td>\n",
       "      <td>0.0</td>\n",
       "      <td>0.0</td>\n",
       "      <td>0.0</td>\n",
       "      <td>0</td>\n",
       "      <td>694943</td>\n",
       "      <td>/RrH5SkBX1Qp4S+LCIaiRsB47QsBU3CDvsDn17edr2E=</td>\n",
       "    </tr>\n",
       "  </tbody>\n",
       "</table>\n",
       "<p>5 rows × 157 columns</p>\n",
       "</div>"
      ],
      "text/plain": [
       "         bd  num_25_sum  num_50_sum  num_75_sum  num_985_sum  num_100_sum  \\\n",
       "0  0.962963    0.299669    0.150327   -0.070707     0.037736     0.375043   \n",
       "1  1.518519    0.829470    0.901961    1.252525     1.471698     2.783616   \n",
       "2  1.000000    2.928808    2.777778    2.242424     2.943396     1.044936   \n",
       "3  1.370370    0.344371    0.222222    0.464646     0.103774    -0.111994   \n",
       "4  0.000000    0.764901    0.967320    1.292929     1.000000     0.551676   \n",
       "\n",
       "   num_unq_sum  num_totalsec_sum  num_25_mean  num_50_mean  \\\n",
       "0     0.350824          0.328763     0.520763     0.305368   \n",
       "1     1.735957          2.607264     0.244751     0.321078   \n",
       "2     0.905146          1.104241     4.932058     4.948217   \n",
       "3    -0.099899         -0.068988     0.508168     0.352051   \n",
       "4     0.475950          0.587724     0.246513     0.443312   \n",
       "\n",
       "                       ...                       gender_1  gender_2  \\\n",
       "0                      ...                            1.0      -1.0   \n",
       "1                      ...                            1.0      -1.0   \n",
       "2                      ...                            0.0      -1.0   \n",
       "3                      ...                            1.0      -1.0   \n",
       "4                      ...                            0.0       0.0   \n",
       "\n",
       "   registered_via_3  registered_via_4  registered_via_7  registered_via_9  \\\n",
       "0               0.0               1.0              -1.0               0.0   \n",
       "1               0.0               0.0              -1.0               1.0   \n",
       "2               0.0               1.0              -1.0               0.0   \n",
       "3               0.0               0.0               0.0               0.0   \n",
       "4               0.0               0.0               0.0               0.0   \n",
       "\n",
       "   registered_via_13  is_churn  Temp_index  \\\n",
       "0                0.0         0      263691   \n",
       "1                0.0         0      138543   \n",
       "2                0.0         0      534031   \n",
       "3                0.0         0      379174   \n",
       "4                0.0         0      694943   \n",
       "\n",
       "                                           msno  \n",
       "0  Js++0pNy8YJd8+Fn0wUQ/jM1s9I5kQuJ7qE/jR83+OQ=  \n",
       "1  L9+JXElv5ngSSM44AjcQRWKQE9j8DhZh5yyN/6x3ifk=  \n",
       "2  trybWgwl99EIQ3xH/44GzuYylncKsXVwJFS9ak3gUKE=  \n",
       "3  vP4d7eNSNu65P0c99wbQ7Ihrh2i/kVWyzpsj4lcx2Do=  \n",
       "4  /RrH5SkBX1Qp4S+LCIaiRsB47QsBU3CDvsDn17edr2E=  \n",
       "\n",
       "[5 rows x 157 columns]"
      ]
     },
     "execution_count": 228,
     "metadata": {},
     "output_type": "execute_result"
    }
   ],
   "source": [
    "#merge msno_index and X_res based on the temp index\n",
    "msno_index=data_std[['Temp_index','msno']]\n",
    "final_result = pd.merge(X_res, msno_index, on='Temp_index')\n",
    "final_result.head()"
   ]
  },
  {
   "cell_type": "code",
   "execution_count": 229,
   "metadata": {
    "collapsed": true
   },
   "outputs": [],
   "source": [
    "final_train_RobSc=final_result.drop('Temp_index',axis=1)"
   ]
  },
  {
   "cell_type": "code",
   "execution_count": 230,
   "metadata": {},
   "outputs": [
    {
     "data": {
      "text/plain": [
       "(80698, 156)"
      ]
     },
     "execution_count": 230,
     "metadata": {},
     "output_type": "execute_result"
    }
   ],
   "source": [
    "final_train_RobSc.shape"
   ]
  },
  {
   "cell_type": "markdown",
   "metadata": {},
   "source": [
    "#### Evaluate performance of Robust Scaler"
   ]
  },
  {
   "cell_type": "markdown",
   "metadata": {},
   "source": [
    "##### Decision Tree"
   ]
  },
  {
   "cell_type": "code",
   "execution_count": 231,
   "metadata": {
    "collapsed": true
   },
   "outputs": [],
   "source": [
    "df_train_data=final_train_RobSc\n",
    "data_train= df_train_data.drop(['is_churn','msno'],axis=1)\n",
    "target_train = df_train_data['is_churn']"
   ]
  },
  {
   "cell_type": "code",
   "execution_count": 232,
   "metadata": {},
   "outputs": [
    {
     "data": {
      "text/plain": [
       "0.88787813534534765"
      ]
     },
     "execution_count": 232,
     "metadata": {},
     "output_type": "execute_result"
    }
   ],
   "source": [
    "decision_tree = tree.DecisionTreeClassifier()\n",
    "crossvalid(data_train, target_train, decision_tree, 10)"
   ]
  },
  {
   "cell_type": "code",
   "execution_count": 233,
   "metadata": {},
   "outputs": [
    {
     "name": "stdout",
     "output_type": "stream",
     "text": [
      "Results: 88.59% (0.39%)\n"
     ]
    }
   ],
   "source": [
    "kfold = StratifiedKFold(n_splits=10, shuffle=True, random_state=seed)\n",
    "results_dec_tree_stdsc = cross_val_score(decision_tree, data_train, target_train, cv=kfold)\n",
    "print(\"Results: %.2f%% (%.2f%%)\" % (results_dec_tree_stdsc.mean()*100, results_dec_tree_stdsc.std()*100))"
   ]
  },
  {
   "cell_type": "markdown",
   "metadata": {},
   "source": [
    "##### ANN"
   ]
  },
  {
   "cell_type": "code",
   "execution_count": 234,
   "metadata": {},
   "outputs": [
    {
     "name": "stdout",
     "output_type": "stream",
     "text": [
      "Results: 90.82% (0.64%)\n"
     ]
    }
   ],
   "source": [
    "#Cross validation without selecting a features subset\n",
    "estimator = KerasClassifier(build_fn=create_baseline, nb_epoch=100, batch_size=5, verbose=0)\n",
    "kfold = StratifiedKFold(n_splits=10, shuffle=True, random_state=seed)\n",
    "results = cross_val_score(estimator, data_train, target_train, cv=kfold)\n",
    "print(\"Results: %.2f%% (%.2f%%)\" % (results.mean()*100, results.std()*100))"
   ]
  },
  {
   "cell_type": "markdown",
   "metadata": {},
   "source": [
    "### Statistics \n",
    "- Std Scaler - train : (70 598, 156), test: (262 843)\n",
    "\n",
    "Decision Tree:\n",
    "Results: 89.66% (0.29%)\n",
    "ANN: \n",
    "Results: 91.89% (0.34%)\n",
    "\n",
    "- Robust Scaler- train: (80 698, 156), test: (262 843)\n",
    "\n",
    "Decision Tree: \n",
    "Results: 88.59% (0.39%)\n",
    "ANN:  Results: 90.82% (0.64%)\n",
    "\n",
    "Models applied to the dataset with Standard Scaler perform better."
   ]
  },
  {
   "cell_type": "markdown",
   "metadata": {},
   "source": [
    "### Apply Standard scaler to Test data set"
   ]
  },
  {
   "cell_type": "code",
   "execution_count": 236,
   "metadata": {
    "collapsed": true
   },
   "outputs": [],
   "source": [
    "#Standardize X_test\n",
    "# Get all the columns from the dataframe.\n",
    "columns = X_test.columns.tolist()\n",
    "# Filter the columns to remove ones we don't want. \n",
    "columns_subset = [c for c in columns if c not in [\"is_churn\",\"Unnamed: 0\",\"Unnamed: 0.1\",\"msno\"]]\n",
    "X_to_std=X_test[columns_subset]\n",
    "\n",
    "sc=StandardScaler()\n",
    "data_test_standardized=sc.fit_transform(X_to_std)\n",
    "#convert back to data frame\n",
    "data_test_std=pd.DataFrame(data_test_standardized)\n",
    "#restore original df\n",
    "data_test_std.columns=X_to_std.columns\n",
    "data_test_std = data_test_std.set_index(X_test.index)\n",
    "data_test_std['msno']=X_test['msno']\n",
    "data_test_std['is_churn']=X_test['is_churn']"
   ]
  },
  {
   "cell_type": "code",
   "execution_count": 237,
   "metadata": {},
   "outputs": [
    {
     "data": {
      "text/plain": [
       "(262843, 156)"
      ]
     },
     "execution_count": 237,
     "metadata": {},
     "output_type": "execute_result"
    }
   ],
   "source": [
    "data_test_std.shape"
   ]
  },
  {
   "cell_type": "code",
   "execution_count": 238,
   "metadata": {},
   "outputs": [
    {
     "data": {
      "text/html": [
       "<div>\n",
       "<style>\n",
       "    .dataframe thead tr:only-child th {\n",
       "        text-align: right;\n",
       "    }\n",
       "\n",
       "    .dataframe thead th {\n",
       "        text-align: left;\n",
       "    }\n",
       "\n",
       "    .dataframe tbody tr th {\n",
       "        vertical-align: top;\n",
       "    }\n",
       "</style>\n",
       "<table border=\"1\" class=\"dataframe\">\n",
       "  <thead>\n",
       "    <tr style=\"text-align: right;\">\n",
       "      <th></th>\n",
       "      <th>bd</th>\n",
       "      <th>num_25_sum</th>\n",
       "      <th>num_50_sum</th>\n",
       "      <th>num_75_sum</th>\n",
       "      <th>num_985_sum</th>\n",
       "      <th>num_100_sum</th>\n",
       "      <th>num_unq_sum</th>\n",
       "      <th>num_totalsec_sum</th>\n",
       "      <th>num_25_mean</th>\n",
       "      <th>num_50_mean</th>\n",
       "      <th>...</th>\n",
       "      <th>gender_0</th>\n",
       "      <th>gender_1</th>\n",
       "      <th>gender_2</th>\n",
       "      <th>registered_via_3</th>\n",
       "      <th>registered_via_4</th>\n",
       "      <th>registered_via_7</th>\n",
       "      <th>registered_via_9</th>\n",
       "      <th>registered_via_13</th>\n",
       "      <th>msno</th>\n",
       "      <th>is_churn</th>\n",
       "    </tr>\n",
       "  </thead>\n",
       "  <tbody>\n",
       "    <tr>\n",
       "      <th>120957</th>\n",
       "      <td>-0.840527</td>\n",
       "      <td>-0.522259</td>\n",
       "      <td>-0.602739</td>\n",
       "      <td>-0.584220</td>\n",
       "      <td>-0.377952</td>\n",
       "      <td>-0.114536</td>\n",
       "      <td>-0.192430</td>\n",
       "      <td>-0.146375</td>\n",
       "      <td>-0.703467</td>\n",
       "      <td>-0.759848</td>\n",
       "      <td>...</td>\n",
       "      <td>-0.524053</td>\n",
       "      <td>-0.556615</td>\n",
       "      <td>0.908187</td>\n",
       "      <td>2.711588</td>\n",
       "      <td>-0.243489</td>\n",
       "      <td>-1.105817</td>\n",
       "      <td>-0.608882</td>\n",
       "      <td>-0.061113</td>\n",
       "      <td>fAbsh3kAffPa/1ZZZbo2ItlNou9tn22EMRTvF4clEak=</td>\n",
       "      <td>0</td>\n",
       "    </tr>\n",
       "    <tr>\n",
       "      <th>289553</th>\n",
       "      <td>0.792488</td>\n",
       "      <td>-0.581050</td>\n",
       "      <td>-0.640079</td>\n",
       "      <td>-0.575303</td>\n",
       "      <td>-0.433727</td>\n",
       "      <td>-0.338979</td>\n",
       "      <td>-0.497846</td>\n",
       "      <td>-0.337333</td>\n",
       "      <td>-0.665328</td>\n",
       "      <td>-0.703208</td>\n",
       "      <td>...</td>\n",
       "      <td>1.908205</td>\n",
       "      <td>-0.556615</td>\n",
       "      <td>-1.101094</td>\n",
       "      <td>-0.368788</td>\n",
       "      <td>-0.243489</td>\n",
       "      <td>-1.105817</td>\n",
       "      <td>1.642354</td>\n",
       "      <td>-0.061113</td>\n",
       "      <td>3RQH2OV7U01TisVNUqxgylb7is8BaFQUnozvU8AaWhA=</td>\n",
       "      <td>0</td>\n",
       "    </tr>\n",
       "    <tr>\n",
       "      <th>525621</th>\n",
       "      <td>-0.840527</td>\n",
       "      <td>2.572062</td>\n",
       "      <td>0.634802</td>\n",
       "      <td>1.011987</td>\n",
       "      <td>0.525592</td>\n",
       "      <td>1.136128</td>\n",
       "      <td>1.511263</td>\n",
       "      <td>1.035867</td>\n",
       "      <td>1.827277</td>\n",
       "      <td>0.159349</td>\n",
       "      <td>...</td>\n",
       "      <td>-0.524053</td>\n",
       "      <td>-0.556615</td>\n",
       "      <td>0.908187</td>\n",
       "      <td>-0.368788</td>\n",
       "      <td>-0.243489</td>\n",
       "      <td>0.904309</td>\n",
       "      <td>-0.608882</td>\n",
       "      <td>-0.061113</td>\n",
       "      <td>9iEb9xcrVceAYOst3Su+Edkqfrx3RTZE1lgpROT9wX4=</td>\n",
       "      <td>0</td>\n",
       "    </tr>\n",
       "    <tr>\n",
       "      <th>383252</th>\n",
       "      <td>1.106529</td>\n",
       "      <td>-0.337487</td>\n",
       "      <td>-0.261348</td>\n",
       "      <td>-0.236443</td>\n",
       "      <td>-0.271981</td>\n",
       "      <td>-0.261964</td>\n",
       "      <td>-0.285715</td>\n",
       "      <td>-0.268519</td>\n",
       "      <td>-0.503196</td>\n",
       "      <td>-0.407678</td>\n",
       "      <td>...</td>\n",
       "      <td>-0.524053</td>\n",
       "      <td>1.796573</td>\n",
       "      <td>-1.101094</td>\n",
       "      <td>-0.368788</td>\n",
       "      <td>-0.243489</td>\n",
       "      <td>0.904309</td>\n",
       "      <td>-0.608882</td>\n",
       "      <td>-0.061113</td>\n",
       "      <td>FxLIZcN3AYC1LYvWCG0hNGkcfmnP9MwGUxRxAXY3r5M=</td>\n",
       "      <td>0</td>\n",
       "    </tr>\n",
       "    <tr>\n",
       "      <th>274462</th>\n",
       "      <td>1.671803</td>\n",
       "      <td>-0.207907</td>\n",
       "      <td>-0.111990</td>\n",
       "      <td>-0.067013</td>\n",
       "      <td>0.034778</td>\n",
       "      <td>-0.332928</td>\n",
       "      <td>-0.290694</td>\n",
       "      <td>-0.320169</td>\n",
       "      <td>-0.297483</td>\n",
       "      <td>-0.177535</td>\n",
       "      <td>...</td>\n",
       "      <td>-0.524053</td>\n",
       "      <td>1.796573</td>\n",
       "      <td>-1.101094</td>\n",
       "      <td>2.711588</td>\n",
       "      <td>-0.243489</td>\n",
       "      <td>-1.105817</td>\n",
       "      <td>-0.608882</td>\n",
       "      <td>-0.061113</td>\n",
       "      <td>dz5+eXZINBe7apJ8K7v4S+zzDi3o7tAeLMWAnrcIc54=</td>\n",
       "      <td>0</td>\n",
       "    </tr>\n",
       "  </tbody>\n",
       "</table>\n",
       "<p>5 rows × 156 columns</p>\n",
       "</div>"
      ],
      "text/plain": [
       "              bd  num_25_sum  num_50_sum  num_75_sum  num_985_sum  \\\n",
       "120957 -0.840527   -0.522259   -0.602739   -0.584220    -0.377952   \n",
       "289553  0.792488   -0.581050   -0.640079   -0.575303    -0.433727   \n",
       "525621 -0.840527    2.572062    0.634802    1.011987     0.525592   \n",
       "383252  1.106529   -0.337487   -0.261348   -0.236443    -0.271981   \n",
       "274462  1.671803   -0.207907   -0.111990   -0.067013     0.034778   \n",
       "\n",
       "        num_100_sum  num_unq_sum  num_totalsec_sum  num_25_mean  num_50_mean  \\\n",
       "120957    -0.114536    -0.192430         -0.146375    -0.703467    -0.759848   \n",
       "289553    -0.338979    -0.497846         -0.337333    -0.665328    -0.703208   \n",
       "525621     1.136128     1.511263          1.035867     1.827277     0.159349   \n",
       "383252    -0.261964    -0.285715         -0.268519    -0.503196    -0.407678   \n",
       "274462    -0.332928    -0.290694         -0.320169    -0.297483    -0.177535   \n",
       "\n",
       "          ...     gender_0  gender_1  gender_2  registered_via_3  \\\n",
       "120957    ...    -0.524053 -0.556615  0.908187          2.711588   \n",
       "289553    ...     1.908205 -0.556615 -1.101094         -0.368788   \n",
       "525621    ...    -0.524053 -0.556615  0.908187         -0.368788   \n",
       "383252    ...    -0.524053  1.796573 -1.101094         -0.368788   \n",
       "274462    ...    -0.524053  1.796573 -1.101094          2.711588   \n",
       "\n",
       "        registered_via_4  registered_via_7  registered_via_9  \\\n",
       "120957         -0.243489         -1.105817         -0.608882   \n",
       "289553         -0.243489         -1.105817          1.642354   \n",
       "525621         -0.243489          0.904309         -0.608882   \n",
       "383252         -0.243489          0.904309         -0.608882   \n",
       "274462         -0.243489         -1.105817         -0.608882   \n",
       "\n",
       "        registered_via_13                                          msno  \\\n",
       "120957          -0.061113  fAbsh3kAffPa/1ZZZbo2ItlNou9tn22EMRTvF4clEak=   \n",
       "289553          -0.061113  3RQH2OV7U01TisVNUqxgylb7is8BaFQUnozvU8AaWhA=   \n",
       "525621          -0.061113  9iEb9xcrVceAYOst3Su+Edkqfrx3RTZE1lgpROT9wX4=   \n",
       "383252          -0.061113  FxLIZcN3AYC1LYvWCG0hNGkcfmnP9MwGUxRxAXY3r5M=   \n",
       "274462          -0.061113  dz5+eXZINBe7apJ8K7v4S+zzDi3o7tAeLMWAnrcIc54=   \n",
       "\n",
       "        is_churn  \n",
       "120957         0  \n",
       "289553         0  \n",
       "525621         0  \n",
       "383252         0  \n",
       "274462         0  \n",
       "\n",
       "[5 rows x 156 columns]"
      ]
     },
     "execution_count": 238,
     "metadata": {},
     "output_type": "execute_result"
    }
   ],
   "source": [
    "data_test_std.head()"
   ]
  },
  {
   "cell_type": "code",
   "execution_count": 239,
   "metadata": {
    "collapsed": true
   },
   "outputs": [],
   "source": [
    "data_test_std.to_csv('final_test_data_StdSc.csv')"
   ]
  }
 ],
 "metadata": {
  "kernelspec": {
   "display_name": "Python 2",
   "language": "python",
   "name": "python2"
  },
  "language_info": {
   "codemirror_mode": {
    "name": "ipython",
    "version": 2
   },
   "file_extension": ".py",
   "mimetype": "text/x-python",
   "name": "python",
   "nbconvert_exporter": "python",
   "pygments_lexer": "ipython2",
   "version": "2.7.14"
  }
 },
 "nbformat": 4,
 "nbformat_minor": 2
}
