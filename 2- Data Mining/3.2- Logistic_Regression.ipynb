{
 "cells": [
  {
   "cell_type": "markdown",
   "metadata": {},
   "source": [
    "## 3.2. Logistic Regression"
   ]
  },
  {
   "cell_type": "code",
   "execution_count": 23,
   "metadata": {
    "collapsed": true
   },
   "outputs": [],
   "source": [
    "import pandas as pd\n",
    "import numpy as np"
   ]
  },
  {
   "cell_type": "code",
   "execution_count": 24,
   "metadata": {
    "collapsed": true
   },
   "outputs": [],
   "source": [
    "train_data=pd.read_csv('final_train_data_StdSc.csv')\n",
    "test_data=pd.read_csv('final_test_data_StdSc.csv')"
   ]
  },
  {
   "cell_type": "code",
   "execution_count": 25,
   "metadata": {
    "collapsed": true
   },
   "outputs": [],
   "source": [
    "train_data_all=train_data.drop(['msno','is_churn','Unnamed: 0'],axis=1)#this dataset shouldn't include msno and in_churn\n",
    "train_target=train_data['is_churn']"
   ]
  },
  {
   "cell_type": "code",
   "execution_count": 26,
   "metadata": {},
   "outputs": [
    {
     "name": "stdout",
     "output_type": "stream",
     "text": [
      "(70598, 154)\n",
      "(70598,)\n"
     ]
    }
   ],
   "source": [
    "print(train_data_all.shape)\n",
    "print(train_target.shape)"
   ]
  },
  {
   "cell_type": "code",
   "execution_count": 27,
   "metadata": {},
   "outputs": [
    {
     "name": "stdout",
     "output_type": "stream",
     "text": [
      "         bd  num_25_sum  num_50_sum  num_75_sum  num_985_sum  num_100_sum  \\\n",
      "0  1.005242    1.447979    1.855278    2.181346     1.498299     4.279500   \n",
      "1  1.067876    1.812864    0.403297    0.338342     0.218478     1.165877   \n",
      "2 -0.811134    0.691709    2.526819    1.119776     0.976891     0.145719   \n",
      "3  1.130510   -0.669986   -0.476966   -0.413604    -0.563636    -0.450727   \n",
      "4 -0.811134    1.466325    1.773604    0.367830     0.254028    -0.497478   \n",
      "\n",
      "   num_unq_sum  num_totalsec_sum  num_25_mean  num_50_mean        ...          \\\n",
      "0     4.180203          4.400011     0.677988     0.887971        ...           \n",
      "1     1.489773          1.256013     1.233600    -0.025824        ...           \n",
      "2     0.624301          0.297107     0.118161     1.404949        ...           \n",
      "3    -0.443168         -0.440912    -0.749262    -0.341240        ...           \n",
      "4     0.216546         -0.404540     1.081068     1.258413        ...           \n",
      "\n",
      "    city_21   city_22  gender_0  gender_1  gender_2  registered_via_3  \\\n",
      "0 -0.077186 -0.222218 -0.508672  1.847228 -1.146185         -0.357804   \n",
      "1 -0.077186 -0.222218  1.965905 -0.541352 -1.146185         -0.357804   \n",
      "2 -0.077186 -0.222218 -0.508672 -0.541352  0.872460         -0.357804   \n",
      "3 -0.077186 -0.222218 -0.508672  1.847228 -1.146185         -0.357804   \n",
      "4 -0.077186 -0.222218 -0.508672 -0.541352  0.872460         -0.357804   \n",
      "\n",
      "   registered_via_4  registered_via_7  registered_via_9  registered_via_13  \n",
      "0          -0.23291         -1.157510          1.691552           -0.05888  \n",
      "1          -0.23291         -1.157510          1.691552           -0.05888  \n",
      "2          -0.23291          0.863924         -0.591173           -0.05888  \n",
      "3          -0.23291         -1.157510          1.691552           -0.05888  \n",
      "4          -0.23291          0.863924         -0.591173           -0.05888  \n",
      "\n",
      "[5 rows x 154 columns]\n",
      "0    0\n",
      "1    0\n",
      "2    0\n",
      "3    0\n",
      "4    0\n",
      "Name: is_churn, dtype: int64\n"
     ]
    }
   ],
   "source": [
    "print(train_data_all.head())\n",
    "print(train_target.head())"
   ]
  },
  {
   "cell_type": "code",
   "execution_count": 28,
   "metadata": {},
   "outputs": [
    {
     "data": {
      "text/plain": [
       "Index(['Unnamed: 0', 'bd', 'num_25_sum', 'num_50_sum', 'num_75_sum',\n",
       "       'num_985_sum', 'num_100_sum', 'num_unq_sum', 'num_totalsec_sum',\n",
       "       'num_25_mean',\n",
       "       ...\n",
       "       'gender_0', 'gender_1', 'gender_2', 'registered_via_3',\n",
       "       'registered_via_4', 'registered_via_7', 'registered_via_9',\n",
       "       'registered_via_13', 'msno', 'is_churn'],\n",
       "      dtype='object', length=157)"
      ]
     },
     "execution_count": 28,
     "metadata": {},
     "output_type": "execute_result"
    }
   ],
   "source": [
    "test_data.columns"
   ]
  },
  {
   "cell_type": "code",
   "execution_count": 29,
   "metadata": {},
   "outputs": [
    {
     "name": "stdout",
     "output_type": "stream",
     "text": [
      "(262843,)\n",
      "(262843, 154)\n"
     ]
    }
   ],
   "source": [
    "test_target=test_data['is_churn']\n",
    "test_data=test_data.drop(['msno','is_churn','Unnamed: 0'],axis=1)#this dataset shouldn't include msno and in_churn\n",
    "print(test_target.shape)\n",
    "print(test_data.shape)"
   ]
  },
  {
   "cell_type": "code",
   "execution_count": 30,
   "metadata": {},
   "outputs": [
    {
     "name": "stdout",
     "output_type": "stream",
     "text": [
      "0    0\n",
      "1    0\n",
      "2    0\n",
      "3    0\n",
      "4    0\n",
      "Name: is_churn, dtype: int64\n",
      "         bd  num_25_sum  num_50_sum  num_75_sum  num_985_sum  num_100_sum  \\\n",
      "0 -0.840527   -0.522259   -0.602739   -0.584220    -0.377952    -0.114536   \n",
      "1  0.792488   -0.581050   -0.640079   -0.575303    -0.433727    -0.338979   \n",
      "2 -0.840527    2.572062    0.634802    1.011987     0.525592     1.136128   \n",
      "3  1.106529   -0.337487   -0.261348   -0.236443    -0.271981    -0.261964   \n",
      "4  1.671803   -0.207907   -0.111990   -0.067013     0.034778    -0.332928   \n",
      "\n",
      "   num_unq_sum  num_totalsec_sum  num_25_mean  num_50_mean        ...          \\\n",
      "0    -0.192430         -0.146375    -0.703467    -0.759848        ...           \n",
      "1    -0.497846         -0.337333    -0.665328    -0.703208        ...           \n",
      "2     1.511263          1.035867     1.827277     0.159349        ...           \n",
      "3    -0.285715         -0.268519    -0.503196    -0.407678        ...           \n",
      "4    -0.290694         -0.320169    -0.297483    -0.177535        ...           \n",
      "\n",
      "    city_21   city_22  gender_0  gender_1  gender_2  registered_via_3  \\\n",
      "0 -0.078554 -0.225343 -0.524053 -0.556615  0.908187          2.711588   \n",
      "1 -0.078554 -0.225343  1.908205 -0.556615 -1.101094         -0.368788   \n",
      "2 -0.078554 -0.225343 -0.524053 -0.556615  0.908187         -0.368788   \n",
      "3 -0.078554 -0.225343 -0.524053  1.796573 -1.101094         -0.368788   \n",
      "4 -0.078554 -0.225343 -0.524053  1.796573 -1.101094          2.711588   \n",
      "\n",
      "   registered_via_4  registered_via_7  registered_via_9  registered_via_13  \n",
      "0         -0.243489         -1.105817         -0.608882          -0.061113  \n",
      "1         -0.243489         -1.105817          1.642354          -0.061113  \n",
      "2         -0.243489          0.904309         -0.608882          -0.061113  \n",
      "3         -0.243489          0.904309         -0.608882          -0.061113  \n",
      "4         -0.243489         -1.105817         -0.608882          -0.061113  \n",
      "\n",
      "[5 rows x 154 columns]\n"
     ]
    }
   ],
   "source": [
    "print(test_target.head())\n",
    "print(test_data.head())"
   ]
  },
  {
   "cell_type": "code",
   "execution_count": 31,
   "metadata": {
    "collapsed": true
   },
   "outputs": [],
   "source": [
    "#writing the functions\n",
    "import statsmodels.api as sm\n",
    "from sklearn import linear_model\n",
    "from sklearn import preprocessing\n",
    "from sklearn.model_selection import StratifiedKFold\n",
    "from sklearn.model_selection import cross_val_score\n",
    "from sklearn.metrics import confusion_matrix\n",
    "from sklearn.utils.multiclass import unique_labels\n",
    "from sklearn.metrics import confusion_matrix\n",
    "from sklearn.metrics import classification_report\n",
    "from sklearn.metrics import accuracy_score\n",
    "from sklearn.metrics import log_loss\n",
    "from sklearn.metrics import roc_auc_score"
   ]
  },
  {
   "cell_type": "code",
   "execution_count": 32,
   "metadata": {
    "collapsed": true
   },
   "outputs": [],
   "source": [
    "#Metrics on Test\n",
    "def confusion_matrix_report(y_true, y_pred):\n",
    "    cm, labels = confusion_matrix(y_true, y_pred), unique_labels(y_true, y_pred)\n",
    "    column_width = max([len(str(x)) for x in labels] + [5])  # 5 is value length\n",
    "    report = \" \" * column_width + \" \" + \"{:_^{}}\".format(\"Prediction\", column_width * len(labels))+ \"\\n\"\n",
    "    report += \" \" * column_width + \" \".join([\"{:>{}}\".format(label, column_width) for label in labels]) + \"\\n\"\n",
    "    for i, label1 in enumerate(labels):\n",
    "        report += \"{:>{}}\".format(label1, column_width) + \" \".join([\"{:{}d}\".format(cm[i, j], column_width) for j in range(len(labels))]) + \"\\n\"\n",
    "    return report\n",
    "\n",
    "def loggloss(target_test, model, data_test):\n",
    "    probabilities=model.predict_proba(data_test)\n",
    "    value=log_loss(target_test, probabilities)\n",
    "    return value\n",
    "    \n",
    "def AUC(target_test, model, data_test):\n",
    "    values=model.predict_proba(data_test)[:,1]\n",
    "    auc_score=roc_auc_score(target_test, values)\n",
    "    return auc_score\n",
    "    \n",
    "def analytics(target_test, model, data_test):#target of the test data #predictions as 0,1 #model (knnclassifier) #data_test\n",
    "    y_pred=model.predict(data_test)\n",
    "    print(\"Confusion Matrix:\")\n",
    "    print(confusion_matrix_report(target_test,y_pred))\n",
    "    print(\"Accuracy Score:\")\n",
    "    print(accuracy_score(target_test,y_pred))\n",
    "    print(\"Classification Report:\")\n",
    "    print(classification_report(target_test,y_pred))\n",
    "    print(\"Log Loss:\")\n",
    "    print(loggloss(target_test, model, data_test))\n",
    "    print(\"AUC Score:\")\n",
    "    print(AUC(target_test, model, data_test))"
   ]
  },
  {
   "cell_type": "code",
   "execution_count": 33,
   "metadata": {
    "collapsed": true
   },
   "outputs": [],
   "source": [
    "#special functions for logistic regression\n",
    "import statsmodels.api as sm\n",
    "from sklearn import linear_model\n",
    "from sklearn import preprocessing\n",
    "\n",
    "def stat_logit(data_target,data_indepen):\n",
    "    logit_model=sm.Logit(data_target,data_indepen)\n",
    "    result=logit_model.fit()\n",
    "    return print(result.summary())\n",
    "\n",
    "def train_logistic_regression(data_target,data_indepen):\n",
    "    # Initialize logistic regression model\n",
    "    log_model = linear_model.LogisticRegression()\n",
    "    # Train the model\n",
    "    log_model.fit(X =data_indepen,y = data_target)\n",
    "    return log_model"
   ]
  },
  {
   "cell_type": "markdown",
   "metadata": {},
   "source": [
    "### 3.2.1. Logistic modeling with all variables"
   ]
  },
  {
   "cell_type": "code",
   "execution_count": 34,
   "metadata": {},
   "outputs": [
    {
     "name": "stdout",
     "output_type": "stream",
     "text": [
      "Warning: Maximum number of iterations has been exceeded.\n",
      "         Current function value: 0.408385\n",
      "         Iterations: 35\n"
     ]
    },
    {
     "name": "stderr",
     "output_type": "stream",
     "text": [
      "C:\\Users\\Bengi\\Anaconda3\\lib\\site-packages\\statsmodels\\base\\model.py:496: ConvergenceWarning: Maximum Likelihood optimization failed to converge. Check mle_retvals\n",
      "  \"Check mle_retvals\", ConvergenceWarning)\n",
      "C:\\Users\\Bengi\\Anaconda3\\lib\\site-packages\\statsmodels\\base\\model.py:1029: RuntimeWarning: invalid value encountered in sqrt\n",
      "  return np.sqrt(np.diag(self.cov_params()))\n",
      "C:\\Users\\Bengi\\Anaconda3\\lib\\site-packages\\scipy\\stats\\_distn_infrastructure.py:879: RuntimeWarning: invalid value encountered in greater\n",
      "  return (self.a < x) & (x < self.b)\n",
      "C:\\Users\\Bengi\\Anaconda3\\lib\\site-packages\\scipy\\stats\\_distn_infrastructure.py:879: RuntimeWarning: invalid value encountered in less\n",
      "  return (self.a < x) & (x < self.b)\n",
      "C:\\Users\\Bengi\\Anaconda3\\lib\\site-packages\\scipy\\stats\\_distn_infrastructure.py:1818: RuntimeWarning: invalid value encountered in less_equal\n",
      "  cond2 = cond0 & (x <= self.a)\n"
     ]
    },
    {
     "name": "stdout",
     "output_type": "stream",
     "text": [
      "                           Logit Regression Results                           \n",
      "==============================================================================\n",
      "Dep. Variable:               is_churn   No. Observations:                70598\n",
      "Model:                          Logit   Df Residuals:                    70459\n",
      "Method:                           MLE   Df Model:                          138\n",
      "Date:                Thu, 30 Nov 2017   Pseudo R-squ.:                  0.4108\n",
      "Time:                        12:17:19   Log-Likelihood:                -28831.\n",
      "converged:                      False   LL-Null:                       -48935.\n",
      "                                        LLR p-value:                     0.000\n",
      "=====================================================================================================\n",
      "                                        coef    std err          z      P>|z|      [0.025      0.975]\n",
      "-----------------------------------------------------------------------------------------------------\n",
      "bd                                    0.0149      0.023      0.632      0.527      -0.031       0.061\n",
      "num_25_sum                            0.0351    2.4e+05   1.46e-07      1.000    -4.7e+05     4.7e+05\n",
      "num_50_sum                           -0.0308   4.27e+04  -7.22e-07      1.000   -8.37e+04    8.37e+04\n",
      "num_75_sum                            0.0311   1.37e+04   2.27e-06      1.000   -2.69e+04    2.69e+04\n",
      "num_985_sum                           0.0419   1.71e+04   2.46e-06      1.000   -3.34e+04    3.34e+04\n",
      "num_100_sum                           0.0887   4.07e+05   2.18e-07      1.000   -7.97e+05    7.97e+05\n",
      "num_unq_sum                          -0.0336      0.121     -0.278      0.781      -0.271       0.204\n",
      "num_totalsec_sum                     -0.4063      0.344     -1.180      0.238      -1.081       0.269\n",
      "num_25_mean                          -0.0536      0.048     -1.113      0.266      -0.148       0.041\n",
      "num_50_mean                           0.0325      0.042      0.779      0.436      -0.049       0.114\n",
      "num_75_mean                          -0.0250      0.037     -0.680      0.496      -0.097       0.047\n",
      "num_985_mean                         -0.0608      0.042     -1.452      0.146      -0.143       0.021\n",
      "num_100_mean                          0.1458      0.243      0.600      0.548      -0.330       0.622\n",
      "num_unq_mean                          0.1052      0.096      1.097      0.273      -0.083       0.293\n",
      "num_totalsec_mean                    -0.1676      0.251     -0.667      0.505      -0.660       0.325\n",
      "num_25_med                            0.0032      0.030      0.106      0.916      -0.056       0.062\n",
      "num_50_med                           -0.0272      0.020     -1.338      0.181      -0.067       0.013\n",
      "num_75_med                            0.0065      0.018      0.353      0.724      -0.030       0.043\n",
      "num_985_med                           0.0182      0.020      0.924      0.356      -0.020       0.057\n",
      "num_100_med                          -0.1679      0.116     -1.441      0.150      -0.396       0.060\n",
      "num_unq_med                          -0.0417      0.053     -0.788      0.431      -0.146       0.062\n",
      "num_totalsec_med                      0.1329      0.120      1.106      0.269      -0.103       0.368\n",
      "num_25_max                           -0.0078      0.016     -0.476      0.634      -0.040       0.024\n",
      "num_50_max                           -0.0198      0.022     -0.917      0.359      -0.062       0.023\n",
      "num_75_max                           -0.0082      0.019     -0.443      0.658      -0.045       0.028\n",
      "num_985_max                          -0.0161      0.018     -0.877      0.381      -0.052       0.020\n",
      "num_100_max                          -0.0298      0.060     -0.495      0.620      -0.148       0.088\n",
      "num_unq_max                           0.0137      0.027      0.498      0.619      -0.040       0.067\n",
      "num_totalsec_max                      0.0147      0.061      0.238      0.812      -0.106       0.135\n",
      "num_25_min                            0.0020      0.020      0.100      0.920      -0.037       0.041\n",
      "num_50_min                           -0.0068      0.017     -0.414      0.679      -0.039       0.026\n",
      "num_75_min                            0.0169      0.015      1.113      0.266      -0.013       0.047\n",
      "num_985_min                           0.0041      0.011      0.375      0.708      -0.017       0.025\n",
      "num_100_min                           0.0218      0.034      0.644      0.520      -0.045       0.088\n",
      "num_unq_min                           0.0070      0.025      0.278      0.781      -0.042       0.056\n",
      "num_totalsec_min                     -0.0157      0.039     -0.408      0.683      -0.091       0.060\n",
      "number_of_days_listened               0.9804      0.059     16.609      0.000       0.865       1.096\n",
      "num_25_201702_sum                     0.1282   1.46e+05   8.77e-07      1.000   -2.87e+05    2.87e+05\n",
      "num_50_201702_sum                    -0.1029   1.98e+05   -5.2e-07      1.000   -3.88e+05    3.88e+05\n",
      "num_75_201702_sum                     0.2810        nan        nan        nan         nan         nan\n",
      "num_985_201702_sum                    0.0753   4.89e+05   1.54e-07      1.000   -9.59e+05    9.59e+05\n",
      "num_100_201702_sum                    1.4664   8.92e+04   1.64e-05      1.000   -1.75e+05    1.75e+05\n",
      "num_unq_201702_sum                   -0.0104        nan        nan        nan         nan         nan\n",
      "num_totalsec_201702_sum              -1.0108    2.9e+05  -3.49e-06      1.000   -5.68e+05    5.68e+05\n",
      "num_25_201702_mean                    0.0148      0.033      0.443      0.658      -0.051       0.080\n",
      "num_50_201702_mean                   -0.0240      0.031     -0.785      0.433      -0.084       0.036\n",
      "num_75_201702_mean                   -0.0363      0.032     -1.119      0.263      -0.100       0.027\n",
      "num_985_201702_mean                   0.0275      0.035      0.776      0.438      -0.042       0.097\n",
      "num_100_201702_mean                  -0.1594      0.187     -0.850      0.395      -0.527       0.208\n",
      "num_unq_201702_mean                  -0.1250      0.075     -1.672      0.095      -0.272       0.022\n",
      "num_totalsec_201702_mean              0.0667      0.194      0.344      0.731      -0.314       0.447\n",
      "number_of_days_201702_listened       -1.2332      3e+05  -4.11e-06      1.000   -5.89e+05    5.89e+05\n",
      "num_25_201701_sum                     0.0189   1.71e+05    1.1e-07      1.000   -3.35e+05    3.35e+05\n",
      "num_50_201701_sum                    -0.0106   2.19e+05  -4.83e-08      1.000   -4.29e+05    4.29e+05\n",
      "num_75_201701_sum                     0.1358        nan        nan        nan         nan         nan\n",
      "num_985_201701_sum                    0.1787   5.69e+05   3.14e-07      1.000   -1.12e+06    1.12e+06\n",
      "num_100_201701_sum                    1.8549   8.52e+04   2.18e-05      1.000   -1.67e+05    1.67e+05\n",
      "num_unq_201701_sum                    0.1957        nan        nan        nan         nan         nan\n",
      "num_totalsec_201701_sum              -1.7021   2.99e+05   -5.7e-06      1.000   -5.85e+05    5.85e+05\n",
      "num_25_201701_mean                    0.0252      0.040      0.632      0.527      -0.053       0.103\n",
      "num_50_201701_mean                   -0.0142      0.036     -0.390      0.696      -0.086       0.057\n",
      "num_75_201701_mean                   -0.0097      0.037     -0.265      0.791      -0.082       0.062\n",
      "num_985_201701_mean                   0.0121      0.037      0.327      0.744      -0.060       0.085\n",
      "num_100_201701_mean                  -0.2907      0.251     -1.158      0.247      -0.782       0.201\n",
      "num_unq_201701_mean                  -0.1861      0.088     -2.103      0.035      -0.359      -0.013\n",
      "num_totalsec_201701_mean              0.3997      0.265      1.508      0.131      -0.120       0.919\n",
      "number_of_days_201701_listened       -0.4908   3.26e+05   -1.5e-06      1.000   -6.39e+05    6.39e+05\n",
      "num_25_201612_sum                    -0.0230    1.9e+05  -1.21e-07      1.000   -3.73e+05    3.73e+05\n",
      "num_50_201612_sum                    -0.0096   2.49e+05  -3.85e-08      1.000   -4.87e+05    4.87e+05\n",
      "num_75_201612_sum                    -0.0357        nan        nan        nan         nan         nan\n",
      "num_985_201612_sum                   -0.0542   5.84e+05  -9.28e-08      1.000   -1.14e+06    1.14e+06\n",
      "num_100_201612_sum                   -0.3116   1.11e+05  -2.82e-06      1.000   -2.17e+05    2.17e+05\n",
      "num_unq_201612_sum                   -0.0005        nan        nan        nan         nan         nan\n",
      "num_totalsec_201612_sum               0.2303   3.37e+05   6.83e-07      1.000   -6.61e+05    6.61e+05\n",
      "num_25_201612_mean                    0.0108      0.036      0.298      0.766      -0.060       0.082\n",
      "num_50_201612_mean                   -0.0014      0.029     -0.047      0.962      -0.059       0.056\n",
      "num_75_201612_mean                    0.0066      0.034      0.194      0.846      -0.060       0.073\n",
      "num_985_201612_mean                   0.0387      0.032      1.195      0.232      -0.025       0.102\n",
      "num_100_201612_mean                  -0.0857      0.217     -0.395      0.693      -0.511       0.340\n",
      "num_unq_201612_mean                  -0.0041      0.076     -0.054      0.957      -0.154       0.145\n",
      "num_totalsec_201612_mean              0.1521      0.228      0.667      0.505      -0.295       0.599\n",
      "number_of_days_201612_listened        0.0357   3.32e+05   1.07e-07      1.000   -6.51e+05    6.51e+05\n",
      "num_25_lasttwo_sum                   -0.1604      0.403     -0.398      0.691      -0.951       0.630\n",
      "num_50_lasttwo_sum                    0.0817      0.290      0.282      0.778      -0.486       0.649\n",
      "num_75_lasttwo_sum                   -0.4706      0.347     -1.355      0.175      -1.151       0.210\n",
      "num_985_lasttwo_sum                  -0.2992      0.345     -0.868      0.386      -0.975       0.377\n",
      "num_100_lasttwo_sum                  -3.9084      2.426     -1.611      0.107      -8.662       0.845\n",
      "num_unq_lasttwo_sum                  -0.1954      1.022     -0.191      0.848      -2.198       1.807\n",
      "num_totalsec_lasttwo_sum              3.4648      2.657      1.304      0.192      -1.743       8.672\n",
      "num_25_lasttwo_mean                  -0.0152      0.065     -0.233      0.816      -0.143       0.113\n",
      "num_50_lasttwo_mean                   0.0516      0.053      0.968      0.333      -0.053       0.156\n",
      "num_75_lasttwo_mean                   0.0822      0.055      1.498      0.134      -0.025       0.190\n",
      "num_985_lasttwo_mean                 -0.0418      0.059     -0.703      0.482      -0.158       0.075\n",
      "num_100_lasttwo_mean                  0.5207      0.384      1.354      0.176      -0.233       1.274\n",
      "num_unq_lasttwo_mean                  0.2476      0.147      1.689      0.091      -0.040       0.535\n",
      "num_totalsec_lasttwo_mean            -0.5650      0.391     -1.445      0.149      -1.332       0.201\n",
      "number_of_days_lasttwo_listened       1.0679      0.593      1.802      0.071      -0.093       2.229\n",
      "num_25_lastthree_sum                  0.0415    4.5e+05   9.22e-08      1.000   -8.83e+05    8.83e+05\n",
      "num_50_lastthree_sum                 -0.0448    5.6e+05     -8e-08      1.000    -1.1e+06     1.1e+06\n",
      "num_75_lastthree_sum                  0.1340        nan        nan        nan         nan         nan\n",
      "num_985_lastthree_sum                 0.0739   1.46e+06   5.06e-08      1.000   -2.86e+06    2.86e+06\n",
      "num_100_lastthree_sum                 1.0710   2.53e+05   4.23e-06      1.000   -4.96e+05    4.96e+05\n",
      "num_unq_lastthree_sum                 0.0689        nan        nan        nan         nan         nan\n",
      "num_totalsec_lastthree_sum           -0.8876   8.22e+05  -1.08e-06      1.000   -1.61e+06    1.61e+06\n",
      "num_25_lastthree_mean                -0.0380      0.062     -0.615      0.539      -0.159       0.083\n",
      "num_50_lastthree_mean                -0.0355      0.048     -0.742      0.458      -0.129       0.058\n",
      "num_75_lastthree_mean                -0.0422      0.053     -0.795      0.427      -0.146       0.062\n",
      "num_985_lastthree_mean                0.0022      0.050      0.043      0.965      -0.096       0.101\n",
      "num_100_lastthree_mean               -0.0691      0.349     -0.198      0.843      -0.754       0.615\n",
      "num_unq_lastthree_mean               -0.1103      0.135     -0.815      0.415      -0.375       0.155\n",
      "num_totalsec_lastthree_mean           0.0891      0.349      0.255      0.799      -0.595       0.774\n",
      "number_of_days_lastthree_listened    -0.5713   8.81e+05  -6.48e-07      1.000   -1.73e+06    1.73e+06\n",
      "most_fq_payment_method_id             0.1144      0.014      8.179      0.000       0.087       0.142\n",
      "most_frq_payment_plan_days            0.0345      0.015      2.368      0.018       0.006       0.063\n",
      "total_churn                           0.0018      0.012      0.154      0.878      -0.022       0.025\n",
      "is_auto_renew                        -0.6416      0.011    -57.135      0.000      -0.664      -0.620\n",
      "total_cancel                          0.6297      0.010     66.012      0.000       0.611       0.648\n",
      "active_days                          -0.8472      0.013    -65.344      0.000      -0.873      -0.822\n",
      "avg_plan_list_price                   0.0283        nan        nan        nan         nan         nan\n",
      "avg_actual_amount_paid                0.0290        nan        nan        nan         nan         nan\n",
      "payment_different                     0.0172        nan        nan        nan         nan         nan\n",
      "num_below_50_sum                      0.0239   4.85e+05   4.93e-08      1.000   -9.51e+05    9.51e+05\n",
      "num_above_50_sum                      0.0877   3.51e+05    2.5e-07      1.000   -6.88e+05    6.88e+05\n",
      "total_songs_listened                  0.0807    9.1e+05   8.87e-08      1.000   -1.78e+06    1.78e+06\n",
      "proportion_songs_above_50            -0.0353      0.017     -2.077      0.038      -0.069      -0.002\n",
      "city_1                                0.0298   1.99e+05    1.5e-07      1.000   -3.89e+05    3.89e+05\n",
      "city_3                                0.0133   5.02e+04   2.64e-07      1.000   -9.85e+04    9.85e+04\n",
      "city_4                               -0.0164   1.09e+05   -1.5e-07      1.000   -2.15e+05    2.15e+05\n",
      "city_5                                0.0076   1.64e+05   4.61e-08      1.000   -3.22e+05    3.22e+05\n",
      "city_6                               -0.0226    9.5e+04  -2.38e-07      1.000   -1.86e+05    1.86e+05\n",
      "city_7                               -0.0037   3.15e+04  -1.16e-07      1.000   -6.18e+04    6.18e+04\n",
      "city_8                                0.0172   5.18e+04   3.31e-07      1.000   -1.02e+05    1.02e+05\n",
      "city_9                               -0.0008   5.07e+04  -1.53e-08      1.000   -9.93e+04    9.93e+04\n",
      "city_10                               0.0080   4.69e+04   1.71e-07      1.000   -9.19e+04    9.19e+04\n",
      "city_11                              -0.0035   5.75e+04  -6.12e-08      1.000   -1.13e+05    1.13e+05\n",
      "city_12                               0.0031   6.35e+04    4.9e-08      1.000   -1.24e+05    1.24e+05\n",
      "city_13                              -0.0214   1.74e+05  -1.23e-07      1.000    -3.4e+05     3.4e+05\n",
      "city_14                               0.0085    9.2e+04   9.19e-08      1.000    -1.8e+05     1.8e+05\n",
      "city_15                              -0.0080   1.15e+05     -7e-08      1.000   -2.25e+05    2.25e+05\n",
      "city_16                               0.0178   2.12e+04    8.4e-07      1.000   -4.16e+04    4.16e+04\n",
      "city_17                              -0.0178   5.05e+04  -3.52e-07      1.000   -9.91e+04    9.91e+04\n",
      "city_18                               0.0086   5.38e+04   1.59e-07      1.000   -1.05e+05    1.05e+05\n",
      "city_19                              -0.0025   7010.781  -3.61e-07      1.000   -1.37e+04    1.37e+04\n",
      "city_20                               0.0004   1.55e+04   2.83e-08      1.000   -3.04e+04    3.04e+04\n",
      "city_21                               0.0054   4.51e+04   1.21e-07      1.000   -8.84e+04    8.84e+04\n",
      "city_22                              -0.0273   1.17e+05  -2.32e-07      1.000    -2.3e+05     2.3e+05\n",
      "gender_0                              0.0088        nan        nan        nan         nan         nan\n",
      "gender_1                              0.0087        nan        nan        nan         nan         nan\n",
      "gender_2                             -0.0146        nan        nan        nan         nan         nan\n",
      "registered_via_3                      0.0308   5.88e+05   5.24e-08      1.000   -1.15e+06    1.15e+06\n",
      "registered_via_4                      0.0434    4.1e+05   1.06e-07      1.000   -8.03e+05    8.03e+05\n",
      "registered_via_7                     -0.0874   9.18e+05  -9.52e-08      1.000    -1.8e+06     1.8e+06\n",
      "registered_via_9                      0.0581   8.13e+05   7.15e-08      1.000   -1.59e+06    1.59e+06\n",
      "registered_via_13                    -0.0272   1.09e+05   -2.5e-07      1.000   -2.13e+05    2.13e+05\n",
      "=====================================================================================================\n"
     ]
    }
   ],
   "source": [
    "stat_logit(train_target,train_data_all)"
   ]
  },
  {
   "cell_type": "code",
   "execution_count": 35,
   "metadata": {},
   "outputs": [
    {
     "name": "stdout",
     "output_type": "stream",
     "text": [
      "Confusion Matrix:\n",
      "      Prediction\n",
      "         0     1\n",
      "    0218998 26552\n",
      "    1 1433 15860\n",
      "\n",
      "Accuracy Score:\n",
      "0.893529597516\n",
      "Classification Report:\n",
      "             precision    recall  f1-score   support\n",
      "\n",
      "          0       0.99      0.89      0.94    245550\n",
      "          1       0.37      0.92      0.53     17293\n",
      "\n",
      "avg / total       0.95      0.89      0.91    262843\n",
      "\n",
      "Log Loss:\n",
      "0.267962595211\n",
      "AUC Score:\n",
      "0.954283851469\n"
     ]
    }
   ],
   "source": [
    "log_model_1=train_logistic_regression(train_target,train_data_all)\n",
    "analytics(test_target, log_model_1, test_data)"
   ]
  },
  {
   "cell_type": "code",
   "execution_count": 36,
   "metadata": {
    "collapsed": true
   },
   "outputs": [],
   "source": [
    "y_score_model1=log_model_1.predict_proba(test_data)[:,1]\n",
    "test_data['model1']=y_score_model1"
   ]
  },
  {
   "cell_type": "markdown",
   "metadata": {},
   "source": [
    "### 3.2.2. Logistic modeling with all selected variables"
   ]
  },
  {
   "cell_type": "code",
   "execution_count": 37,
   "metadata": {
    "scrolled": false
   },
   "outputs": [
    {
     "name": "stdout",
     "output_type": "stream",
     "text": [
      "Optimization terminated successfully.\n",
      "         Current function value: 0.409790\n",
      "         Iterations 7\n",
      "                           Logit Regression Results                           \n",
      "==============================================================================\n",
      "Dep. Variable:               is_churn   No. Observations:                70598\n",
      "Model:                          Logit   Df Residuals:                    70563\n",
      "Method:                           MLE   Df Model:                           34\n",
      "Date:                Thu, 30 Nov 2017   Pseudo R-squ.:                  0.4088\n",
      "Time:                        12:17:46   Log-Likelihood:                -28930.\n",
      "converged:                       True   LL-Null:                       -48935.\n",
      "                                        LLR p-value:                     0.000\n",
      "==================================================================================================\n",
      "                                     coef    std err          z      P>|z|      [0.025      0.975]\n",
      "--------------------------------------------------------------------------------------------------\n",
      "number_of_days_201702_listened    -0.9042      0.028    -31.990      0.000      -0.960      -0.849\n",
      "is_auto_renew                     -0.6430      0.011    -58.314      0.000      -0.665      -0.621\n",
      "total_cancel                       0.6273      0.009     66.071      0.000       0.609       0.646\n",
      "active_days                       -0.8293      0.012    -66.435      0.000      -0.854      -0.805\n",
      "avg_actual_amount_paid             0.0830      0.013      6.160      0.000       0.057       0.109\n",
      "most_fq_payment_method_id          0.1213      0.014      8.868      0.000       0.094       0.148\n",
      "num_75_mean                       -0.0329      0.016     -2.078      0.038      -0.064      -0.002\n",
      "number_of_days_listened            0.7285      0.030     24.099      0.000       0.669       0.788\n",
      "num_25_201702_sum                  0.0652      0.023      2.802      0.005       0.020       0.111\n",
      "num_50_201702_sum                 -0.0149      0.025     -0.600      0.548      -0.064       0.034\n",
      "num_100_201702_sum                 0.1832      0.026      6.933      0.000       0.131       0.235\n",
      "num_25_201702_mean                 0.0073      0.018      0.410      0.682      -0.028       0.042\n",
      "num_50_201702_mean                -0.0166      0.022     -0.770      0.441      -0.059       0.026\n",
      "num_totalsec_lasttwo_mean          0.0361      0.024      1.515      0.130      -0.011       0.083\n",
      "total_churn                        0.0058      0.012      0.487      0.627      -0.018       0.029\n",
      "registered_via_3                   0.1761      0.059      2.983      0.003       0.060       0.292\n",
      "registered_via_4                   0.1428      0.042      3.436      0.001       0.061       0.224\n",
      "registered_via_7                   0.1653      0.092      1.798      0.072      -0.015       0.346\n",
      "bd                                 0.0093      0.013      0.695      0.487      -0.017       0.036\n",
      "num_totalsec_sum                  -0.0705      0.034     -2.061      0.039      -0.137      -0.003\n",
      "num_100_med                       -0.0461      0.022     -2.069      0.039      -0.090      -0.002\n",
      "num_25_max                        -0.0291      0.018     -1.635      0.102      -0.064       0.006\n",
      "num_unq_max                        0.0357      0.022      1.618      0.106      -0.008       0.079\n",
      "num_totalsec_max                  -0.0294      0.016     -1.813      0.070      -0.061       0.002\n",
      "num_totalsec_min                   0.0131      0.011      1.227      0.220      -0.008       0.034\n",
      "num_985_201702_sum                -0.0270      0.014     -1.870      0.061      -0.055       0.001\n",
      "num_75_201702_mean                 0.0162      0.021      0.780      0.435      -0.025       0.057\n",
      "num_unq_201702_mean               -0.1357      0.022     -6.183      0.000      -0.179      -0.093\n",
      "num_unq_201701_sum                -0.0333      0.020     -1.638      0.101      -0.073       0.007\n",
      "num_25_201612_mean                -0.0272      0.014     -2.006      0.045      -0.054      -0.001\n",
      "num_100_201612_mean                0.0242      0.017      1.416      0.157      -0.009       0.058\n",
      "num_75_lasttwo_mean                0.0196      0.021      0.932      0.351      -0.022       0.061\n",
      "num_50_lastthree_mean             -0.0594      0.017     -3.415      0.001      -0.094      -0.025\n",
      "proportion_songs_above_50         -0.0322      0.015     -2.146      0.032      -0.062      -0.003\n",
      "registered_via_9                   0.2630      0.081      3.248      0.001       0.104       0.422\n",
      "==================================================================================================\n"
     ]
    }
   ],
   "source": [
    "#logistic modeling with prechoosen variables\n",
    "data_indepen_m2=train_data_all[['number_of_days_201702_listened','is_auto_renew','total_cancel','active_days','avg_actual_amount_paid','most_fq_payment_method_id','num_75_mean','number_of_days_listened','num_25_201702_sum','num_50_201702_sum','num_100_201702_sum','num_25_201702_mean','num_50_201702_mean','num_totalsec_lasttwo_mean','total_churn','registered_via_3','registered_via_4','registered_via_7','bd','num_totalsec_sum','num_100_med','num_25_max','num_unq_max','num_totalsec_max','num_totalsec_min','num_985_201702_sum','num_75_201702_mean','num_unq_201702_mean','num_unq_201701_sum','num_25_201612_mean','num_100_201612_mean','num_75_lasttwo_mean','num_50_lastthree_mean','proportion_songs_above_50','registered_via_9']]\n",
    "stat_logit(train_target,data_indepen_m2)"
   ]
  },
  {
   "cell_type": "code",
   "execution_count": 38,
   "metadata": {
    "collapsed": true
   },
   "outputs": [],
   "source": [
    "log_model_2=train_logistic_regression(train_target,data_indepen_m2)"
   ]
  },
  {
   "cell_type": "code",
   "execution_count": 39,
   "metadata": {
    "collapsed": true
   },
   "outputs": [],
   "source": [
    "test_data_m2=test_data[['number_of_days_201702_listened','is_auto_renew','total_cancel','active_days','avg_actual_amount_paid','most_fq_payment_method_id','num_75_mean','number_of_days_listened','num_25_201702_sum','num_50_201702_sum','num_100_201702_sum','num_25_201702_mean','num_50_201702_mean','num_totalsec_lasttwo_mean','total_churn','registered_via_3','registered_via_4','registered_via_7','bd','num_totalsec_sum','num_100_med','num_25_max','num_unq_max','num_totalsec_max','num_totalsec_min','num_985_201702_sum','num_75_201702_mean','num_unq_201702_mean','num_unq_201701_sum','num_25_201612_mean','num_100_201612_mean','num_75_lasttwo_mean','num_50_lastthree_mean','proportion_songs_above_50','registered_via_9']]"
   ]
  },
  {
   "cell_type": "code",
   "execution_count": 40,
   "metadata": {},
   "outputs": [
    {
     "name": "stdout",
     "output_type": "stream",
     "text": [
      "Confusion Matrix:\n",
      "      Prediction\n",
      "         0     1\n",
      "    0218856 26694\n",
      "    1 1463 15830\n",
      "\n",
      "Accuracy Score:\n",
      "0.892875214482\n",
      "Classification Report:\n",
      "             precision    recall  f1-score   support\n",
      "\n",
      "          0       0.99      0.89      0.94    245550\n",
      "          1       0.37      0.92      0.53     17293\n",
      "\n",
      "avg / total       0.95      0.89      0.91    262843\n",
      "\n",
      "Log Loss:\n",
      "0.26891897735\n",
      "AUC Score:\n",
      "0.9538704791\n"
     ]
    }
   ],
   "source": [
    "analytics(test_target, log_model_2, test_data_m2)"
   ]
  },
  {
   "cell_type": "code",
   "execution_count": 42,
   "metadata": {
    "collapsed": true
   },
   "outputs": [],
   "source": [
    "y_score_model2=log_model_2.predict_proba(test_data_m2)[:,1]\n",
    "test_data['model2']=y_score_model2"
   ]
  },
  {
   "cell_type": "markdown",
   "metadata": {},
   "source": [
    "### 3.2.3. Logistic Modeling- Dropping insignificant variables from all"
   ]
  },
  {
   "cell_type": "code",
   "execution_count": 43,
   "metadata": {},
   "outputs": [
    {
     "name": "stdout",
     "output_type": "stream",
     "text": [
      "Optimization terminated successfully.\n",
      "         Current function value: 0.409952\n",
      "         Iterations 7\n",
      "                           Logit Regression Results                           \n",
      "==============================================================================\n",
      "Dep. Variable:               is_churn   No. Observations:                70598\n",
      "Model:                          Logit   Df Residuals:                    70578\n",
      "Method:                           MLE   Df Model:                           19\n",
      "Date:                Thu, 30 Nov 2017   Pseudo R-squ.:                  0.4086\n",
      "Time:                        12:19:13   Log-Likelihood:                -28942.\n",
      "converged:                       True   LL-Null:                       -48935.\n",
      "                                        LLR p-value:                     0.000\n",
      "==================================================================================================\n",
      "                                     coef    std err          z      P>|z|      [0.025      0.975]\n",
      "--------------------------------------------------------------------------------------------------\n",
      "number_of_days_201702_listened    -0.9312      0.027    -34.843      0.000      -0.984      -0.879\n",
      "is_auto_renew                     -0.6413      0.011    -59.239      0.000      -0.662      -0.620\n",
      "total_cancel                       0.6266      0.009     66.072      0.000       0.608       0.645\n",
      "active_days                       -0.8252      0.012    -67.002      0.000      -0.849      -0.801\n",
      "avg_actual_amount_paid             0.0842      0.013      6.271      0.000       0.058       0.111\n",
      "most_fq_payment_method_id          0.1274      0.013      9.594      0.000       0.101       0.153\n",
      "num_75_mean                       -0.0347      0.016     -2.225      0.026      -0.065      -0.004\n",
      "number_of_days_listened            0.7123      0.029     24.931      0.000       0.656       0.768\n",
      "num_25_201702_sum                  0.0522      0.015      3.420      0.001       0.022       0.082\n",
      "num_100_201702_sum                 0.1911      0.023      8.162      0.000       0.145       0.237\n",
      "total_churn                        0.0062      0.012      0.517      0.605      -0.017       0.030\n",
      "registered_via_3                   0.0760      0.012      6.148      0.000       0.052       0.100\n",
      "registered_via_4                   0.0723      0.012      6.205      0.000       0.049       0.095\n",
      "num_totalsec_sum                  -0.0744      0.029     -2.559      0.010      -0.131      -0.017\n",
      "num_100_med                       -0.0309      0.018     -1.731      0.083      -0.066       0.004\n",
      "num_unq_201702_mean               -0.1275      0.016     -7.922      0.000      -0.159      -0.096\n",
      "num_25_201612_mean                -0.0230      0.012     -1.858      0.063      -0.047       0.001\n",
      "num_75_lasttwo_mean                0.0204      0.017      1.193      0.233      -0.013       0.054\n",
      "num_50_lastthree_mean             -0.0677      0.015     -4.526      0.000      -0.097      -0.038\n",
      "registered_via_9                   0.1259      0.014      9.075      0.000       0.099       0.153\n",
      "==================================================================================================\n"
     ]
    }
   ],
   "source": [
    "data_indepen_m3=data_indepen_m2.drop([\n",
    "'num_50_201702_sum',\n",
    "'num_25_201702_mean',                \n",
    "'num_50_201702_mean',               \n",
    "'num_totalsec_lasttwo_mean',        \n",
    "'registered_via_7',                   \n",
    "'bd',                                \n",
    "'num_25_max',                        \n",
    "'num_unq_max',                       \n",
    "'num_totalsec_max',                  \n",
    "'num_totalsec_min',                  \n",
    "'num_985_201702_sum',                \n",
    "'num_75_201702_mean',                \n",
    "'num_unq_201701_sum',\n",
    "'num_100_201612_mean',\n",
    "'proportion_songs_above_50'],axis=1)\n",
    "stat_logit(train_target,data_indepen_m3)"
   ]
  },
  {
   "cell_type": "code",
   "execution_count": 44,
   "metadata": {},
   "outputs": [
    {
     "name": "stdout",
     "output_type": "stream",
     "text": [
      "Confusion Matrix:\n",
      "      Prediction\n",
      "         0     1\n",
      "    0218988 26562\n",
      "    1 1495 15798\n",
      "\n",
      "Accuracy Score:\n",
      "0.893255669734\n",
      "Classification Report:\n",
      "             precision    recall  f1-score   support\n",
      "\n",
      "          0       0.99      0.89      0.94    245550\n",
      "          1       0.37      0.91      0.53     17293\n",
      "\n",
      "avg / total       0.95      0.89      0.91    262843\n",
      "\n",
      "Log Loss:\n",
      "0.269674806882\n",
      "AUC Score:\n",
      "0.953717558772\n"
     ]
    }
   ],
   "source": [
    "log_model_3=train_logistic_regression(train_target,data_indepen_m3)\n",
    "test_data_m3=test_data_m2.drop(['num_50_201702_sum',\n",
    "'num_25_201702_mean',                \n",
    "'num_50_201702_mean',               \n",
    "'num_totalsec_lasttwo_mean',        \n",
    "'registered_via_7',                   \n",
    "'bd',                                \n",
    "'num_25_max',                        \n",
    "'num_unq_max',                       \n",
    "'num_totalsec_max',                  \n",
    "'num_totalsec_min',                  \n",
    "'num_985_201702_sum',                \n",
    "'num_75_201702_mean',                \n",
    "'num_unq_201701_sum',\n",
    "'num_100_201612_mean',\n",
    "'proportion_songs_above_50'],axis=1)\n",
    "analytics(test_target, log_model_3, test_data_m3)"
   ]
  },
  {
   "cell_type": "code",
   "execution_count": 45,
   "metadata": {
    "collapsed": true
   },
   "outputs": [],
   "source": [
    "y_score_model3=log_model_3.predict_proba(test_data_m3)[:,1]\n",
    "test_data['model3']=y_score_model3"
   ]
  },
  {
   "cell_type": "markdown",
   "metadata": {},
   "source": [
    "### 3.2.4. Logistic Modeling-Choose 4 Ranked Features"
   ]
  },
  {
   "cell_type": "code",
   "execution_count": 46,
   "metadata": {},
   "outputs": [
    {
     "name": "stdout",
     "output_type": "stream",
     "text": [
      "Optimization terminated successfully.\n",
      "         Current function value: 0.419724\n",
      "         Iterations 7\n",
      "                           Logit Regression Results                           \n",
      "==============================================================================\n",
      "Dep. Variable:               is_churn   No. Observations:                70598\n",
      "Model:                          Logit   Df Residuals:                    70593\n",
      "Method:                           MLE   Df Model:                            4\n",
      "Date:                Thu, 30 Nov 2017   Pseudo R-squ.:                  0.3945\n",
      "Time:                        12:19:28   Log-Likelihood:                -29632.\n",
      "converged:                       True   LL-Null:                       -48935.\n",
      "                                        LLR p-value:                     0.000\n",
      "==================================================================================================\n",
      "                                     coef    std err          z      P>|z|      [0.025      0.975]\n",
      "--------------------------------------------------------------------------------------------------\n",
      "number_of_days_201702_listened    -0.3257      0.010    -31.103      0.000      -0.346      -0.305\n",
      "is_auto_renew                     -0.6248      0.010    -61.905      0.000      -0.645      -0.605\n",
      "total_cancel                       0.6662      0.009     72.317      0.000       0.648       0.684\n",
      "active_days                       -0.7484      0.010    -78.628      0.000      -0.767      -0.730\n",
      "avg_actual_amount_paid             0.1592      0.012     13.154      0.000       0.135       0.183\n",
      "==================================================================================================\n"
     ]
    }
   ],
   "source": [
    "data_indepen_m4=train_data_all[['number_of_days_201702_listened',\n",
    "'is_auto_renew',\n",
    "'total_cancel',\n",
    "'active_days',\n",
    "'avg_actual_amount_paid'\n",
    "]]\n",
    "stat_logit(train_target,data_indepen_m4)"
   ]
  },
  {
   "cell_type": "code",
   "execution_count": 47,
   "metadata": {},
   "outputs": [
    {
     "name": "stdout",
     "output_type": "stream",
     "text": [
      "Confusion Matrix:\n",
      "      Prediction\n",
      "         0     1\n",
      "    0216585 28965\n",
      "    1 1369 15924\n",
      "\n",
      "Accuracy Score:\n",
      "0.884592703629\n",
      "Classification Report:\n",
      "             precision    recall  f1-score   support\n",
      "\n",
      "          0       0.99      0.88      0.93    245550\n",
      "          1       0.35      0.92      0.51     17293\n",
      "\n",
      "avg / total       0.95      0.88      0.91    262843\n",
      "\n",
      "Log Loss:\n",
      "0.290114739573\n",
      "AUC Score:\n",
      "0.947698380034\n"
     ]
    }
   ],
   "source": [
    "log_model_4=train_logistic_regression(train_target,data_indepen_m4)\n",
    "test_data_m4=test_data[['number_of_days_201702_listened',\n",
    "'is_auto_renew',\n",
    "'total_cancel',\n",
    "'active_days',\n",
    "'avg_actual_amount_paid']]\n",
    "analytics(test_target, log_model_4, test_data_m4)"
   ]
  },
  {
   "cell_type": "code",
   "execution_count": 48,
   "metadata": {
    "collapsed": true
   },
   "outputs": [],
   "source": [
    "y_score_model4=log_model_4.predict_proba(test_data_m4)[:,1]\n",
    "test_data['model4']=y_score_model4"
   ]
  },
  {
   "cell_type": "markdown",
   "metadata": {},
   "source": [
    "### 3.2.5 Logistic modeling with 4 and 3 ranked variables"
   ]
  },
  {
   "cell_type": "code",
   "execution_count": 49,
   "metadata": {},
   "outputs": [
    {
     "name": "stdout",
     "output_type": "stream",
     "text": [
      "Optimization terminated successfully.\n",
      "         Current function value: 0.419292\n",
      "         Iterations 7\n",
      "                           Logit Regression Results                           \n",
      "==============================================================================\n",
      "Dep. Variable:               is_churn   No. Observations:                70598\n",
      "Model:                          Logit   Df Residuals:                    70592\n",
      "Method:                           MLE   Df Model:                            5\n",
      "Date:                Thu, 30 Nov 2017   Pseudo R-squ.:                  0.3951\n",
      "Time:                        12:19:41   Log-Likelihood:                -29601.\n",
      "converged:                       True   LL-Null:                       -48935.\n",
      "                                        LLR p-value:                     0.000\n",
      "==================================================================================================\n",
      "                                     coef    std err          z      P>|z|      [0.025      0.975]\n",
      "--------------------------------------------------------------------------------------------------\n",
      "number_of_days_201702_listened    -0.3242      0.010    -30.924      0.000      -0.345      -0.304\n",
      "is_auto_renew                     -0.6360      0.010    -62.410      0.000      -0.656      -0.616\n",
      "total_cancel                       0.6660      0.009     72.273      0.000       0.648       0.684\n",
      "active_days                       -0.7421      0.010    -77.219      0.000      -0.761      -0.723\n",
      "avg_actual_amount_paid             0.1981      0.013     14.693      0.000       0.172       0.225\n",
      "most_fq_payment_method_id          0.0937      0.012      7.771      0.000       0.070       0.117\n",
      "==================================================================================================\n"
     ]
    }
   ],
   "source": [
    "data_indepen_m5=train_data_all[['number_of_days_201702_listened',\n",
    "'is_auto_renew',\n",
    "'total_cancel',\n",
    "'active_days',\n",
    "'avg_actual_amount_paid',\n",
    "'most_fq_payment_method_id'\n",
    "]]\n",
    "stat_logit(train_target,data_indepen_m5)"
   ]
  },
  {
   "cell_type": "code",
   "execution_count": 50,
   "metadata": {},
   "outputs": [
    {
     "name": "stdout",
     "output_type": "stream",
     "text": [
      "Confusion Matrix:\n",
      "      Prediction\n",
      "         0     1\n",
      "    0216857 28693\n",
      "    1 1375 15918\n",
      "\n",
      "Accuracy Score:\n",
      "0.885604714601\n",
      "Classification Report:\n",
      "             precision    recall  f1-score   support\n",
      "\n",
      "          0       0.99      0.88      0.94    245550\n",
      "          1       0.36      0.92      0.51     17293\n",
      "\n",
      "avg / total       0.95      0.89      0.91    262843\n",
      "\n",
      "Log Loss:\n",
      "0.28846621317\n",
      "AUC Score:\n",
      "0.948085725603\n"
     ]
    }
   ],
   "source": [
    "log_model_5=train_logistic_regression(train_target,data_indepen_m5)\n",
    "test_data_m5=test_data[['number_of_days_201702_listened',\n",
    "'is_auto_renew',\n",
    "'total_cancel',\n",
    "'active_days',\n",
    "'avg_actual_amount_paid',\n",
    "'most_fq_payment_method_id']]\n",
    "analytics(test_target, log_model_5, test_data_m5)"
   ]
  },
  {
   "cell_type": "code",
   "execution_count": 51,
   "metadata": {
    "collapsed": true
   },
   "outputs": [],
   "source": [
    "y_score_model5=log_model_5.predict_proba(test_data_m5)[:,1]\n",
    "test_data['model5']=y_score_model5"
   ]
  },
  {
   "cell_type": "markdown",
   "metadata": {},
   "source": [
    "### 3.2.6. Logistic Model with 2,3,4th ranked variables"
   ]
  },
  {
   "cell_type": "code",
   "execution_count": 52,
   "metadata": {},
   "outputs": [
    {
     "name": "stdout",
     "output_type": "stream",
     "text": [
      "Optimization terminated successfully.\n",
      "         Current function value: 0.410587\n",
      "         Iterations 7\n",
      "                           Logit Regression Results                           \n",
      "==============================================================================\n",
      "Dep. Variable:               is_churn   No. Observations:                70598\n",
      "Model:                          Logit   Df Residuals:                    70580\n",
      "Method:                           MLE   Df Model:                           17\n",
      "Date:                Thu, 30 Nov 2017   Pseudo R-squ.:                  0.4076\n",
      "Time:                        12:19:57   Log-Likelihood:                -28987.\n",
      "converged:                       True   LL-Null:                       -48935.\n",
      "                                        LLR p-value:                     0.000\n",
      "==================================================================================================\n",
      "                                     coef    std err          z      P>|z|      [0.025      0.975]\n",
      "--------------------------------------------------------------------------------------------------\n",
      "number_of_days_201702_listened    -0.8830      0.026    -34.130      0.000      -0.934      -0.832\n",
      "is_auto_renew                     -0.6421      0.011    -59.366      0.000      -0.663      -0.621\n",
      "total_cancel                       0.6285      0.009     66.329      0.000       0.610       0.647\n",
      "active_days                       -0.8218      0.012    -67.030      0.000      -0.846      -0.798\n",
      "avg_actual_amount_paid             0.0872      0.013      6.502      0.000       0.061       0.114\n",
      "most_fq_payment_method_id          0.1285      0.014      9.519      0.000       0.102       0.155\n",
      "num_75_mean                       -0.0546      0.012     -4.392      0.000      -0.079      -0.030\n",
      "number_of_days_listened            0.6440      0.021     31.185      0.000       0.604       0.684\n",
      "num_25_201702_sum                  0.0555      0.022      2.490      0.013       0.012       0.099\n",
      "num_50_201702_sum                 -0.0105      0.024     -0.438      0.662      -0.058       0.037\n",
      "num_100_201702_sum                 0.1135      0.022      5.222      0.000       0.071       0.156\n",
      "num_25_201702_mean                -0.0386      0.016     -2.399      0.016      -0.070      -0.007\n",
      "num_50_201702_mean                -0.0441      0.019     -2.352      0.019      -0.081      -0.007\n",
      "num_totalsec_lasttwo_mean         -0.0883      0.017     -5.307      0.000      -0.121      -0.056\n",
      "total_churn                        0.0076      0.012      0.632      0.527      -0.016       0.031\n",
      "registered_via_3                  -0.0134      0.011     -1.194      0.232      -0.035       0.009\n",
      "registered_via_4                   0.0098      0.011      0.911      0.362      -0.011       0.031\n",
      "registered_via_7                  -0.1328      0.016     -8.391      0.000      -0.164      -0.102\n",
      "==================================================================================================\n"
     ]
    }
   ],
   "source": [
    "data_indepen_m6=train_data_all[['number_of_days_201702_listened',\n",
    "'is_auto_renew',\n",
    "'total_cancel',\n",
    "'active_days',\n",
    "'avg_actual_amount_paid',\n",
    "'most_fq_payment_method_id',\n",
    "'num_75_mean',\n",
    "'number_of_days_listened',\n",
    "'num_25_201702_sum',\n",
    "'num_50_201702_sum',\n",
    "'num_100_201702_sum',\n",
    "'num_25_201702_mean',\n",
    "'num_50_201702_mean',\n",
    "'num_totalsec_lasttwo_mean',\n",
    "'total_churn',\n",
    "'registered_via_3',\n",
    "'registered_via_4',\n",
    "'registered_via_7']]\n",
    "stat_logit(train_target,data_indepen_m6)"
   ]
  },
  {
   "cell_type": "code",
   "execution_count": 53,
   "metadata": {},
   "outputs": [
    {
     "name": "stdout",
     "output_type": "stream",
     "text": [
      "Confusion Matrix:\n",
      "      Prediction\n",
      "         0     1\n",
      "    0218866 26684\n",
      "    1 1462 15831\n",
      "\n",
      "Accuracy Score:\n",
      "0.892917064559\n",
      "Classification Report:\n",
      "             precision    recall  f1-score   support\n",
      "\n",
      "          0       0.99      0.89      0.94    245550\n",
      "          1       0.37      0.92      0.53     17293\n",
      "\n",
      "avg / total       0.95      0.89      0.91    262843\n",
      "\n",
      "Log Loss:\n",
      "0.27007172725\n",
      "AUC Score:\n",
      "0.953804352176\n"
     ]
    }
   ],
   "source": [
    "log_model_6=train_logistic_regression(train_target,data_indepen_m6)\n",
    "test_data_m6=test_data[['number_of_days_201702_listened',\n",
    "'is_auto_renew',\n",
    "'total_cancel',\n",
    "'active_days',\n",
    "'avg_actual_amount_paid',\n",
    "'most_fq_payment_method_id',\n",
    "'num_75_mean',\n",
    "'number_of_days_listened',\n",
    "'num_25_201702_sum',\n",
    "'num_50_201702_sum',\n",
    "'num_100_201702_sum',\n",
    "'num_25_201702_mean',\n",
    "'num_50_201702_mean',\n",
    "'num_totalsec_lasttwo_mean',\n",
    "'total_churn',\n",
    "'registered_via_3',\n",
    "'registered_via_4',\n",
    "'registered_via_7']]\n",
    "analytics(test_target, log_model_6, test_data_m6)"
   ]
  },
  {
   "cell_type": "code",
   "execution_count": 54,
   "metadata": {
    "collapsed": true
   },
   "outputs": [],
   "source": [
    "y_score_model6=log_model_6.predict_proba(test_data_m6)[:,1]\n",
    "test_data['model6']=y_score_model6"
   ]
  },
  {
   "cell_type": "markdown",
   "metadata": {},
   "source": [
    "### 3.2.7. Logistic Model with RFE Selected Variables"
   ]
  },
  {
   "cell_type": "code",
   "execution_count": 55,
   "metadata": {},
   "outputs": [
    {
     "name": "stdout",
     "output_type": "stream",
     "text": [
      "Optimization terminated successfully.\n",
      "         Current function value: 0.410114\n",
      "         Iterations 7\n",
      "                           Logit Regression Results                           \n",
      "==============================================================================\n",
      "Dep. Variable:               is_churn   No. Observations:                70598\n",
      "Model:                          Logit   Df Residuals:                    70578\n",
      "Method:                           MLE   Df Model:                           19\n",
      "Date:                Thu, 30 Nov 2017   Pseudo R-squ.:                  0.4083\n",
      "Time:                        12:20:13   Log-Likelihood:                -28953.\n",
      "converged:                       True   LL-Null:                       -48935.\n",
      "                                        LLR p-value:                     0.000\n",
      "=====================================================================================================\n",
      "                                        coef    std err          z      P>|z|      [0.025      0.975]\n",
      "-----------------------------------------------------------------------------------------------------\n",
      "number_of_days_listened               0.8440      0.037     23.054      0.000       0.772       0.916\n",
      "num_totalsec_201702_sum               0.2869      0.033      8.695      0.000       0.222       0.352\n",
      "num_totalsec_201702_mean             -0.1915      0.027     -7.132      0.000      -0.244      -0.139\n",
      "number_of_days_201702_listened       -1.0073      0.247     -4.085      0.000      -1.491      -0.524\n",
      "num_unq_201701_sum                    0.0664      0.053      1.250      0.211      -0.038       0.170\n",
      "number_of_days_201701_listened       -0.2180      0.275     -0.794      0.427      -0.756       0.320\n",
      "num_unq_lasttwo_sum                  -0.1747      0.063     -2.774      0.006      -0.298      -0.051\n",
      "num_100_lasttwo_mean                  0.2893      0.066      4.414      0.000       0.161       0.418\n",
      "num_totalsec_lasttwo_mean            -0.2642      0.069     -3.852      0.000      -0.399      -0.130\n",
      "number_of_days_lasttwo_listened       0.5239      0.509      1.028      0.304      -0.475       1.522\n",
      "number_of_days_lastthree_listened    -0.3977      0.074     -5.354      0.000      -0.543      -0.252\n",
      "most_fq_payment_method_id             0.1218      0.013      9.071      0.000       0.096       0.148\n",
      "is_auto_renew                        -0.6348      0.011    -58.786      0.000      -0.656      -0.614\n",
      "total_cancel                          0.6272      0.009     66.696      0.000       0.609       0.646\n",
      "active_days                          -0.8264      0.011    -72.548      0.000      -0.849      -0.804\n",
      "avg_plan_list_price                  -0.4638      0.382     -1.213      0.225      -1.213       0.286\n",
      "avg_actual_amount_paid                0.5498      0.382      1.439      0.150      -0.199       1.299\n",
      "registered_via_3                      0.0703      0.012      5.692      0.000       0.046       0.095\n",
      "registered_via_4                      0.0689      0.012      5.921      0.000       0.046       0.092\n",
      "registered_via_9                      0.1155      0.014      8.324      0.000       0.088       0.143\n",
      "=====================================================================================================\n"
     ]
    }
   ],
   "source": [
    "data_indepen_m7=train_data_all[['number_of_days_listened','num_totalsec_201702_sum','num_totalsec_201702_mean','number_of_days_201702_listened','num_unq_201701_sum','number_of_days_201701_listened','num_unq_lasttwo_sum','num_100_lasttwo_mean','num_totalsec_lasttwo_mean','number_of_days_lasttwo_listened','number_of_days_lastthree_listened','most_fq_payment_method_id','is_auto_renew','total_cancel','active_days','avg_plan_list_price','avg_actual_amount_paid','registered_via_3','registered_via_4','registered_via_9']]\n",
    "stat_logit(train_target,data_indepen_m7)"
   ]
  },
  {
   "cell_type": "code",
   "execution_count": 56,
   "metadata": {},
   "outputs": [
    {
     "name": "stdout",
     "output_type": "stream",
     "text": [
      "Confusion Matrix:\n",
      "      Prediction\n",
      "         0     1\n",
      "    0218878 26672\n",
      "    1 1436 15857\n",
      "\n",
      "Accuracy Score:\n",
      "0.893061637555\n",
      "Classification Report:\n",
      "             precision    recall  f1-score   support\n",
      "\n",
      "          0       0.99      0.89      0.94    245550\n",
      "          1       0.37      0.92      0.53     17293\n",
      "\n",
      "avg / total       0.95      0.89      0.91    262843\n",
      "\n",
      "Log Loss:\n",
      "0.268801623459\n",
      "AUC Score:\n",
      "0.953859049727\n"
     ]
    }
   ],
   "source": [
    "log_model_7=train_logistic_regression(train_target,data_indepen_m7)\n",
    "test_data_m7=test_data[['number_of_days_listened','num_totalsec_201702_sum','num_totalsec_201702_mean','number_of_days_201702_listened','num_unq_201701_sum','number_of_days_201701_listened','num_unq_lasttwo_sum','num_100_lasttwo_mean','num_totalsec_lasttwo_mean','number_of_days_lasttwo_listened','number_of_days_lastthree_listened','most_fq_payment_method_id','is_auto_renew','total_cancel','active_days','avg_plan_list_price','avg_actual_amount_paid','registered_via_3','registered_via_4','registered_via_9']]\n",
    "analytics(test_target, log_model_7, test_data_m7)"
   ]
  },
  {
   "cell_type": "code",
   "execution_count": 57,
   "metadata": {
    "collapsed": true
   },
   "outputs": [],
   "source": [
    "y_score_model7=log_model_7.predict_proba(test_data_m7)[:,1]\n",
    "test_data['model7']=y_score_model7"
   ]
  },
  {
   "cell_type": "markdown",
   "metadata": {},
   "source": [
    "### 3.2.8. Logistic Model with Grid Search using RFE"
   ]
  },
  {
   "cell_type": "code",
   "execution_count": 59,
   "metadata": {},
   "outputs": [
    {
     "name": "stderr",
     "output_type": "stream",
     "text": [
      "C:\\Users\\Bengi\\Anaconda3\\lib\\site-packages\\ipykernel_launcher.py:2: FutureWarning: reshape is deprecated and will raise in a subsequent release. Please use .values.reshape(...) instead\n",
      "  \n"
     ]
    },
    {
     "name": "stdout",
     "output_type": "stream",
     "text": [
      "{'C': 10, 'penalty': 'l2'}\n"
     ]
    }
   ],
   "source": [
    "# GridSearch: tunning parameter\n",
    "temp = train_target.reshape(-1,1)\n",
    "from sklearn import linear_model\n",
    "from sklearn.model_selection import GridSearchCV\n",
    "lr=linear_model.LogisticRegression()\n",
    "parameters = {'penalty': ['l1','l2'], 'C': [0.001,0.01,0.1,1,10,100,1000]}\n",
    "model_lr = GridSearchCV(lr, parameters, scoring='neg_log_loss',cv=5) #focusing on minimizing log loss metric\n",
    "model_lr.fit(data_indepen_m7,train_target)\n",
    "print(model_lr.best_params_)"
   ]
  },
  {
   "cell_type": "code",
   "execution_count": 67,
   "metadata": {},
   "outputs": [
    {
     "data": {
      "text/plain": [
       "LogisticRegression(C=10, class_weight=None, dual=False, fit_intercept=True,\n",
       "          intercept_scaling=1, max_iter=100, multi_class='ovr', n_jobs=1,\n",
       "          penalty='l2', random_state=None, solver='liblinear', tol=0.0001,\n",
       "          verbose=0, warm_start=False)"
      ]
     },
     "execution_count": 67,
     "metadata": {},
     "output_type": "execute_result"
    }
   ],
   "source": [
    "model_lr.best_estimator_"
   ]
  },
  {
   "cell_type": "code",
   "execution_count": 60,
   "metadata": {},
   "outputs": [
    {
     "name": "stdout",
     "output_type": "stream",
     "text": [
      "Confusion Matrix:\n",
      "      Prediction\n",
      "         0     1\n",
      "    0218890 26660\n",
      "    1 1434 15859\n",
      "\n",
      "Accuracy Score:\n",
      "0.893114901291\n",
      "Classification Report:\n",
      "             precision    recall  f1-score   support\n",
      "\n",
      "          0       0.99      0.89      0.94    245550\n",
      "          1       0.37      0.92      0.53     17293\n",
      "\n",
      "avg / total       0.95      0.89      0.91    262843\n",
      "\n",
      "Log Loss:\n",
      "0.268754885813\n",
      "AUC Score:\n",
      "0.953854730198\n"
     ]
    }
   ],
   "source": [
    "analytics(test_target, model_lr, test_data_m7)"
   ]
  },
  {
   "cell_type": "code",
   "execution_count": 61,
   "metadata": {
    "collapsed": true
   },
   "outputs": [],
   "source": [
    "y_score_model8=model_lr.predict_proba(test_data_m7)[:,1]\n",
    "test_data['model8']=y_score_model8"
   ]
  },
  {
   "cell_type": "markdown",
   "metadata": {},
   "source": [
    "### ROC Curve of Logistic Regression"
   ]
  },
  {
   "cell_type": "code",
   "execution_count": 64,
   "metadata": {},
   "outputs": [
    {
     "data": {
      "image/png": "[encoded data removed]",
      "text/plain": [
       "<matplotlib.figure.Figure at 0x12a24d66898>"
      ]
     },
     "metadata": {},
     "output_type": "display_data"
    }
   ],
   "source": [
    "#ROC curve\n",
    "import numpy as np\n",
    "import matplotlib.pyplot as plt\n",
    "from itertools import cycle\n",
    "from sklearn.metrics import roc_auc_score\n",
    "from sklearn.metrics import roc_curve\n",
    "import matplotlib \n",
    "from matplotlib import cm\n",
    "import matplotlib.pyplot as plt\n",
    "import random\n",
    "i=0\n",
    "n=8#number of models\n",
    "col=test_data.columns\n",
    "p=154#column where the first model columns start\n",
    "colors=[\"r\", \"g\", \"b\",\"c\",\"C0\",\"m\",\"fuchsia\",\"C1\"]\n",
    "#colors = cm.rainbow(np.linspace(0,1,n)) #make sure that this equal to your number of models\n",
    "while(i<n):\n",
    "    value=test_data.iloc[:,p]\n",
    "    label=col[p]\n",
    "    fpr_rf, tpr_rf, _ = roc_curve(test_target,value)\n",
    "    auc_score=roc_auc_score(test_target, value)\n",
    "    plt.plot(fpr_rf, tpr_rf, color=colors[i],label=label)\n",
    "    i=i+1\n",
    "    p=p+1\n",
    "    \n",
    "plt.plot([0, 1], [0, 1], 'k--')\n",
    "plt.xlabel('False positive rate')\n",
    "plt.ylabel('True positive rate')\n",
    "plt.title('ROC curve: AUC')\n",
    "plt.legend()\n",
    "plt.show()"
   ]
  },
  {
   "cell_type": "code",
   "execution_count": 65,
   "metadata": {
    "collapsed": true
   },
   "outputs": [],
   "source": [
    "#Taking the chosen product_proba\n",
    "y_score_model8=model_lr.predict_proba(test_data_m7)"
   ]
  },
  {
   "cell_type": "code",
   "execution_count": 66,
   "metadata": {
    "collapsed": true
   },
   "outputs": [],
   "source": [
    "np.savetxt(\"proba_best_logistic_reg.csv\",y_score_model8)"
   ]
  }
 ],
 "metadata": {
  "kernelspec": {
   "display_name": "Python 2",
   "language": "python",
   "name": "python2"
  },
  "language_info": {
   "codemirror_mode": {
    "name": "ipython",
    "version": 2
   },
   "file_extension": ".py",
   "mimetype": "text/x-python",
   "name": "python",
   "nbconvert_exporter": "python",
   "pygments_lexer": "ipython2",
   "version": "2.7.14"
  }
 },
 "nbformat": 4,
 "nbformat_minor": 2
}
