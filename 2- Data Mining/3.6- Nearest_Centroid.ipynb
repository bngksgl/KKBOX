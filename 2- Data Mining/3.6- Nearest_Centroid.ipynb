{
 "cells": [
  {
   "cell_type": "markdown",
   "metadata": {},
   "source": [
    "## 3.6. Nearest Centroid"
   ]
  },
  {
   "cell_type": "code",
   "execution_count": 15,
   "metadata": {
    "collapsed": true
   },
   "outputs": [],
   "source": [
    "import pandas as pd\n",
    "import numpy as np\n",
    "from sklearn.neighbors import KNeighborsClassifier\n",
    "from sklearn.metrics import accuracy_score"
   ]
  },
  {
   "cell_type": "code",
   "execution_count": 14,
   "metadata": {
    "collapsed": true
   },
   "outputs": [],
   "source": [
    "#writing the functions\n",
    "import statsmodels.api as sm\n",
    "from sklearn import linear_model\n",
    "from sklearn import preprocessing\n",
    "from sklearn.model_selection import StratifiedKFold\n",
    "from sklearn.model_selection import cross_val_score\n",
    "from sklearn.metrics import confusion_matrix\n",
    "from sklearn.utils.multiclass import unique_labels\n",
    "from sklearn.metrics import confusion_matrix\n",
    "from sklearn.metrics import classification_report\n",
    "from sklearn.metrics import accuracy_score\n",
    "from sklearn.metrics import log_loss\n",
    "from sklearn.metrics import roc_auc_score\n",
    "import matplotlib.pyplot as plt\n",
    "from itertools import cycle\n",
    "from sklearn.metrics import roc_curve\n",
    "from sklearn.neighbors.nearest_centroid import NearestCentroid"
   ]
  },
  {
   "cell_type": "code",
   "execution_count": 13,
   "metadata": {
    "collapsed": true
   },
   "outputs": [],
   "source": [
    "#Metics on Train\n",
    "#cross valid should be applied only for train**\n",
    "def crossvalid(data_train, target_train, est, nsplit):\n",
    "    data_train_val=data_train.values\n",
    "    n=data_train.shape[0]\n",
    "    target_train_val=np.reshape(target_train.values,[n,])\n",
    "\n",
    "    cross_val = StratifiedKFold(n_splits=nsplit, shuffle=True, random_state=42)\n",
    "    acc_each_split = cross_val_score(estimator=est, X=data_train_val, y=target_train_val, cv=5, scoring='accuracy')\n",
    "    return acc_each_split.mean()"
   ]
  },
  {
   "cell_type": "code",
   "execution_count": 12,
   "metadata": {
    "collapsed": true
   },
   "outputs": [],
   "source": [
    "#Metrics on Test\n",
    "def confusion_matrix_report(y_true, y_pred):\n",
    "    cm, labels = confusion_matrix(y_true, y_pred), unique_labels(y_true, y_pred)\n",
    "    column_width = max([len(str(x)) for x in labels] + [5])  # 5 is value length\n",
    "    report = \" \" * column_width + \" \" + \"{:_^{}}\".format(\"Prediction\", column_width * len(labels))+ \"\\n\"\n",
    "    report += \" \" * column_width + \" \".join([\"{:>{}}\".format(label, column_width) for label in labels]) + \"\\n\"\n",
    "    for i, label1 in enumerate(labels):\n",
    "        report += \"{:>{}}\".format(label1, column_width) + \" \".join([\"{:{}d}\".format(cm[i, j], column_width) for j in range(len(labels))]) + \"\\n\"\n",
    "    return report\n",
    "\n",
    "def loggloss(target_test, model, data_test):\n",
    "    probabilities=model.predict_proba(data_test)\n",
    "    value=log_loss(target_test, probabilities)\n",
    "    return value\n",
    "    \n",
    "def AUC(target_test, model, data_test):\n",
    "    values=model.predict_proba(data_test)[:,1]\n",
    "    auc_score=roc_auc_score(target_test, values)\n",
    "    return auc_score\n",
    "    \n",
    "def analytics(target_test, model, data_test):#target of the test data #predictions as 0,1 #model (knnclassifier) #data_test\n",
    "    y_pred=model.predict(data_test)\n",
    "    print(\"Confusion Matrix:\")\n",
    "    print(confusion_matrix_report(target_test,y_pred))\n",
    "    print(\"Accuracy Score:\")\n",
    "    print(accuracy_score(target_test,y_pred))\n",
    "    print(\"Classification Report:\")\n",
    "    print(classification_report(target_test,y_pred))\n",
    "    if(model!=nearest_centroid):\n",
    "        print(\"Log Loss:\")\n",
    "        print(loggloss(target_test, model, data_test))\n",
    "        print(\"AUC Score:\")\n",
    "        print(AUC(target_test, model, data_test))"
   ]
  },
  {
   "cell_type": "code",
   "execution_count": 5,
   "metadata": {
    "collapsed": true
   },
   "outputs": [],
   "source": [
    "train_data=pd.read_csv('final_train_data_StdSc.csv')\n",
    "test_data=pd.read_csv('final_test_data_StdSc.csv')"
   ]
  },
  {
   "cell_type": "code",
   "execution_count": 6,
   "metadata": {
    "collapsed": true
   },
   "outputs": [],
   "source": [
    "train_data_all=train_data.drop(['msno','is_churn','Unnamed: 0'],axis=1)#this dataset shouldn't include msno and in_churn\n",
    "train_target=train_data['is_churn']"
   ]
  },
  {
   "cell_type": "code",
   "execution_count": 7,
   "metadata": {
    "collapsed": true
   },
   "outputs": [],
   "source": [
    "test_target=test_data['is_churn']\n",
    "test_data=test_data.drop(['msno','is_churn','Unnamed: 0'],axis=1)#this dataset shouldn't include msno and in_churn"
   ]
  },
  {
   "cell_type": "markdown",
   "metadata": {},
   "source": [
    "### 3.6.1. Nearest Centroid-All Selected Variables"
   ]
  },
  {
   "cell_type": "code",
   "execution_count": 10,
   "metadata": {
    "collapsed": true
   },
   "outputs": [],
   "source": [
    "data_indepen_m1=train_data_all[['number_of_days_201702_listened','is_auto_renew','total_cancel','active_days','avg_actual_amount_paid','most_fq_payment_method_id','num_75_mean','number_of_days_listened','num_25_201702_sum','num_50_201702_sum','num_100_201702_sum','num_25_201702_mean','num_50_201702_mean','num_totalsec_lasttwo_mean','total_churn','registered_via_3','registered_via_4','registered_via_7','bd','num_totalsec_sum','num_100_med','num_25_max','num_unq_max','num_totalsec_max','num_totalsec_min','num_985_201702_sum','num_75_201702_mean','num_unq_201702_mean','num_unq_201701_sum','num_25_201612_mean','num_100_201612_mean','num_75_lasttwo_mean','num_50_lastthree_mean','proportion_songs_above_50','registered_via_9']]"
   ]
  },
  {
   "cell_type": "code",
   "execution_count": 11,
   "metadata": {
    "collapsed": true
   },
   "outputs": [],
   "source": [
    "test_data_m1=test_data[['number_of_days_201702_listened','is_auto_renew','total_cancel','active_days','avg_actual_amount_paid','most_fq_payment_method_id','num_75_mean','number_of_days_listened','num_25_201702_sum','num_50_201702_sum','num_100_201702_sum','num_25_201702_mean','num_50_201702_mean','num_totalsec_lasttwo_mean','total_churn','registered_via_3','registered_via_4','registered_via_7','bd','num_totalsec_sum','num_100_med','num_25_max','num_unq_max','num_totalsec_max','num_totalsec_min','num_985_201702_sum','num_75_201702_mean','num_unq_201702_mean','num_unq_201701_sum','num_25_201612_mean','num_100_201612_mean','num_75_lasttwo_mean','num_50_lastthree_mean','proportion_songs_above_50','registered_via_9']]"
   ]
  },
  {
   "cell_type": "code",
   "execution_count": 12,
   "metadata": {
    "collapsed": true
   },
   "outputs": [],
   "source": [
    "nearest_centroid = NearestCentroid()\n",
    "nearest_centroid.fit(data_indepen_m1, train_target)\n",
    "predictions = nearest_centroid.predict(test_data_m1)"
   ]
  },
  {
   "cell_type": "code",
   "execution_count": 13,
   "metadata": {},
   "outputs": [
    {
     "name": "stdout",
     "output_type": "stream",
     "text": [
      "Confusion Matrix:\n",
      "      Prediction\n",
      "         0     1\n",
      "    0213726 31824\n",
      "    1 3451 13842\n",
      "\n",
      "Accuracy Score:\n",
      "0.865794409591\n",
      "Classification Report:\n",
      "             precision    recall  f1-score   support\n",
      "\n",
      "          0       0.98      0.87      0.92    245550\n",
      "          1       0.30      0.80      0.44     17293\n",
      "\n",
      "avg / total       0.94      0.87      0.89    262843\n",
      "\n"
     ]
    }
   ],
   "source": [
    "analytics(test_target, nearest_centroid, test_data_m1)"
   ]
  },
  {
   "cell_type": "markdown",
   "metadata": {},
   "source": [
    "### 3.6.2. Nearest Centroid 4 Ranked Features"
   ]
  },
  {
   "cell_type": "code",
   "execution_count": 61,
   "metadata": {
    "collapsed": true
   },
   "outputs": [],
   "source": [
    "cols=['number_of_days_201702_listened','is_auto_renew','total_cancel','active_days','avg_actual_amount_paid']\n",
    "data_indepen_m2=train_data_all[cols]\n",
    "test_data_m2=test_data[cols]"
   ]
  },
  {
   "cell_type": "code",
   "execution_count": 23,
   "metadata": {
    "collapsed": true
   },
   "outputs": [],
   "source": [
    "nearest_centroid = NearestCentroid()\n",
    "nearest_centroid.fit(data_indepen_m2, train_target)\n",
    "predictions = nearest_centroid.predict(test_data_m2)\n",
    "#print(\"nearest_centroid: acc: {}\".format(accuracy_score(data_test, predictions)))"
   ]
  },
  {
   "cell_type": "code",
   "execution_count": 25,
   "metadata": {},
   "outputs": [
    {
     "name": "stdout",
     "output_type": "stream",
     "text": [
      "Confusion Matrix:\n",
      "      Prediction\n",
      "         0     1\n",
      "    0218822 26728\n",
      "    1 2435 14858\n",
      "\n",
      "Accuracy Score:\n",
      "0.889047834639\n",
      "Classification Report:\n",
      "             precision    recall  f1-score   support\n",
      "\n",
      "          0       0.99      0.89      0.94    245550\n",
      "          1       0.36      0.86      0.50     17293\n",
      "\n",
      "avg / total       0.95      0.89      0.91    262843\n",
      "\n"
     ]
    }
   ],
   "source": [
    "analytics(test_target, nearest_centroid, test_data_m2)"
   ]
  },
  {
   "cell_type": "markdown",
   "metadata": {},
   "source": [
    "### 3.6.3. Nearest Centroid 2,3 and 4th Ranked Features"
   ]
  },
  {
   "cell_type": "code",
   "execution_count": 63,
   "metadata": {
    "collapsed": true
   },
   "outputs": [],
   "source": [
    "cols_4=['number_of_days_201702_listened',\n",
    "'is_auto_renew',\n",
    "'total_cancel',\n",
    "'active_days',\n",
    "'avg_actual_amount_paid',\n",
    "'most_fq_payment_method_id',\n",
    "'num_75_mean',\n",
    "'number_of_days_listened',\n",
    "'num_25_201702_sum',\n",
    "'num_50_201702_sum',\n",
    "'num_100_201702_sum',\n",
    "'num_25_201702_mean',\n",
    "'num_50_201702_mean',\n",
    "'num_totalsec_lasttwo_mean',\n",
    "'total_churn',\n",
    "'registered_via_3',\n",
    "'registered_via_4',\n",
    "'registered_via_7']\n",
    "data_indepen_m4=train_data_all[cols_4]\n",
    "test_data_m4=test_data[cols_4]"
   ]
  },
  {
   "cell_type": "code",
   "execution_count": 31,
   "metadata": {
    "collapsed": true
   },
   "outputs": [],
   "source": [
    "nearest_centroid = NearestCentroid()\n",
    "nearest_centroid.fit(data_indepen_m4, train_target)\n",
    "predictions = nearest_centroid.predict(test_data_m4)"
   ]
  },
  {
   "cell_type": "code",
   "execution_count": 32,
   "metadata": {},
   "outputs": [
    {
     "name": "stdout",
     "output_type": "stream",
     "text": [
      "Confusion Matrix:\n",
      "      Prediction\n",
      "         0     1\n",
      "    0217018 28532\n",
      "    1 3446 13847\n",
      "\n",
      "Accuracy Score:\n",
      "0.878338019274\n",
      "Classification Report:\n",
      "             precision    recall  f1-score   support\n",
      "\n",
      "          0       0.98      0.88      0.93    245550\n",
      "          1       0.33      0.80      0.46     17293\n",
      "\n",
      "avg / total       0.94      0.88      0.90    262843\n",
      "\n"
     ]
    }
   ],
   "source": [
    "analytics(test_target, nearest_centroid, test_data_m4)"
   ]
  },
  {
   "cell_type": "markdown",
   "metadata": {},
   "source": [
    "### 3.6.4. Nearest Centroid F Classification"
   ]
  },
  {
   "cell_type": "code",
   "execution_count": 16,
   "metadata": {
    "collapsed": true
   },
   "outputs": [],
   "source": [
    "cols_5=['num_25_201702_sum','num_50_201702_sum','num_75_201702_sum','num_985_201702_sum','num_100_201702_sum','num_unq_201702_sum','num_totalsec_201702_sum','number_of_days_201702_listened','number_of_days_lasttwo_listened','number_of_days_lastthree_listened','total_churn','is_auto_renew','total_cancel','active_days','avg_plan_list_price','avg_actual_amount_paid','gender_2','registered_via_3','registered_via_4','registered_via_7']\n",
    "data_indepen_m5=train_data_all[cols_5]\n",
    "test_data_m5=test_data[cols_5]"
   ]
  },
  {
   "cell_type": "code",
   "execution_count": 20,
   "metadata": {
    "collapsed": true
   },
   "outputs": [],
   "source": [
    "nearest_centroid = NearestCentroid()\n",
    "nearest_centroid.fit(data_indepen_m5, train_target)\n",
    "predictions = nearest_centroid.predict(test_data_m5)"
   ]
  },
  {
   "cell_type": "code",
   "execution_count": 21,
   "metadata": {},
   "outputs": [
    {
     "name": "stdout",
     "output_type": "stream",
     "text": [
      "Confusion Matrix:\n",
      "      Prediction\n",
      "         0     1\n",
      "    0216445 29105\n",
      "    1 3702 13591\n",
      "\n",
      "Accuracy Score:\n",
      "0.875184045229\n",
      "Classification Report:\n",
      "             precision    recall  f1-score   support\n",
      "\n",
      "          0       0.98      0.88      0.93    245550\n",
      "          1       0.32      0.79      0.45     17293\n",
      "\n",
      "avg / total       0.94      0.88      0.90    262843\n",
      "\n"
     ]
    }
   ],
   "source": [
    "analytics(test_target, nearest_centroid, test_data_m5)"
   ]
  },
  {
   "cell_type": "markdown",
   "metadata": {},
   "source": [
    "### 3.6.5. Nearest Centroid PCA"
   ]
  },
  {
   "cell_type": "code",
   "execution_count": 19,
   "metadata": {
    "collapsed": true
   },
   "outputs": [],
   "source": [
    "cols_6=['num_100_mean','num_100_lastthree_mean','num_totalsec_mean','num_totalsec_lastthree_mean','num_100_med','num_100_lasttwo_mean','num_totalsec_med','num_totalsec_lasttwo_mean','num_75_lastthree_mean','num_50_lastthree_mean','num_100_lastthree_sum','num_100_sum','num_totalsec_lastthree_sum','num_75_mean','num_totalsec_sum','num_above_50_sum','num_100_201701_mean','num_100_201612_mean','num_50_mean','num_75_lasttwo_mean']\n",
    "data_indepen_m6=train_data_all[cols_6]\n",
    "test_data_m6=test_data[cols_6]"
   ]
  },
  {
   "cell_type": "code",
   "execution_count": 20,
   "metadata": {
    "collapsed": true
   },
   "outputs": [],
   "source": [
    "nearest_centroid = NearestCentroid()\n",
    "nearest_centroid.fit(data_indepen_m6, train_target)\n",
    "predictions = nearest_centroid.predict(test_data_m6)"
   ]
  },
  {
   "cell_type": "code",
   "execution_count": 21,
   "metadata": {},
   "outputs": [
    {
     "name": "stdout",
     "output_type": "stream",
     "text": [
      "Confusion Matrix:\n",
      "      Prediction\n",
      "         0     1\n",
      "    094121 151429\n",
      "    1 5453 11840\n",
      "\n",
      "Accuracy Score:\n",
      "0.403134190372\n",
      "Classification Report:\n",
      "             precision    recall  f1-score   support\n",
      "\n",
      "          0       0.95      0.38      0.55    245550\n",
      "          1       0.07      0.68      0.13     17293\n",
      "\n",
      "avg / total       0.89      0.40      0.52    262843\n",
      "\n"
     ]
    }
   ],
   "source": [
    "analytics(test_target, nearest_centroid, test_data_m6)"
   ]
  },
  {
   "cell_type": "markdown",
   "metadata": {},
   "source": [
    "### 3.6.6. Nearest Centroid Mutual Info"
   ]
  },
  {
   "cell_type": "code",
   "execution_count": 22,
   "metadata": {
    "collapsed": true
   },
   "outputs": [],
   "source": [
    "cols_7=['num_50_201702_sum','num_75_201702_sum','num_100_201702_sum','num_unq_201702_sum','num_totalsec_201702_sum','num_25_201702_mean','num_50_201702_mean','num_75_201702_mean','num_100_201702_mean','num_unq_201702_mean','number_of_days_201702_listened','number_of_days_lasttwo_listened','most_fq_payment_method_id','total_churn','is_auto_renew','total_cancel','active_days','avg_plan_list_price','avg_actual_amount_paid','registered_via_7']\n",
    "data_indepen_m7=train_data_all[cols_7]\n",
    "test_data_m7=test_data[cols_7]"
   ]
  },
  {
   "cell_type": "code",
   "execution_count": 23,
   "metadata": {
    "collapsed": true
   },
   "outputs": [],
   "source": [
    "nearest_centroid = NearestCentroid()\n",
    "nearest_centroid.fit(data_indepen_m7, train_target)\n",
    "predictions = nearest_centroid.predict(test_data_m7)"
   ]
  },
  {
   "cell_type": "code",
   "execution_count": 24,
   "metadata": {},
   "outputs": [
    {
     "name": "stdout",
     "output_type": "stream",
     "text": [
      "Confusion Matrix:\n",
      "      Prediction\n",
      "         0     1\n",
      "    0217186 28364\n",
      "    1 3457 13836\n",
      "\n",
      "Accuracy Score:\n",
      "0.878935334021\n",
      "Classification Report:\n",
      "             precision    recall  f1-score   support\n",
      "\n",
      "          0       0.98      0.88      0.93    245550\n",
      "          1       0.33      0.80      0.47     17293\n",
      "\n",
      "avg / total       0.94      0.88      0.90    262843\n",
      "\n"
     ]
    }
   ],
   "source": [
    "analytics(test_target, nearest_centroid, test_data_m7)"
   ]
  },
  {
   "cell_type": "markdown",
   "metadata": {},
   "source": [
    "### 3.6.7. Nearest Centoid RFE"
   ]
  },
  {
   "cell_type": "code",
   "execution_count": 25,
   "metadata": {
    "collapsed": true
   },
   "outputs": [],
   "source": [
    "cols_8=['number_of_days_listened','num_totalsec_201702_sum','num_totalsec_201702_mean','number_of_days_201702_listened','num_unq_201701_sum','number_of_days_201701_listened','num_unq_lasttwo_sum','num_100_lasttwo_mean','num_totalsec_lasttwo_mean','number_of_days_lasttwo_listened','number_of_days_lastthree_listened','most_fq_payment_method_id','is_auto_renew','total_cancel','active_days','avg_plan_list_price','avg_actual_amount_paid','registered_via_3','registered_via_4','registered_via_9']\n",
    "data_indepen_m8=train_data_all[cols_8]\n",
    "test_data_m8=test_data[cols_8]"
   ]
  },
  {
   "cell_type": "code",
   "execution_count": 26,
   "metadata": {
    "collapsed": true
   },
   "outputs": [],
   "source": [
    "nearest_centroid = NearestCentroid()\n",
    "nearest_centroid.fit(data_indepen_m8, train_target)\n",
    "predictions = nearest_centroid.predict(test_data_m8)"
   ]
  },
  {
   "cell_type": "code",
   "execution_count": 27,
   "metadata": {},
   "outputs": [
    {
     "name": "stdout",
     "output_type": "stream",
     "text": [
      "Confusion Matrix:\n",
      "      Prediction\n",
      "         0     1\n",
      "    0217312 28238\n",
      "    1 3273 14020\n",
      "\n",
      "Accuracy Score:\n",
      "0.880114745304\n",
      "Classification Report:\n",
      "             precision    recall  f1-score   support\n",
      "\n",
      "          0       0.99      0.89      0.93    245550\n",
      "          1       0.33      0.81      0.47     17293\n",
      "\n",
      "avg / total       0.94      0.88      0.90    262843\n",
      "\n"
     ]
    }
   ],
   "source": [
    "analytics(test_target, nearest_centroid, test_data_m8)"
   ]
  },
  {
   "cell_type": "markdown",
   "metadata": {},
   "source": [
    "### 3.6.8. Nearest Centroid with Random Forrest"
   ]
  },
  {
   "cell_type": "code",
   "execution_count": 28,
   "metadata": {
    "collapsed": true
   },
   "outputs": [],
   "source": [
    "cols_9=['active_days','is_auto_renew','avg_actual_amount_paid','total_cancel','number_of_days_201702_listened','avg_plan_list_price','most_fq_payment_method_id','num_totalsec_min','number_of_days_listened','bd','num_25_max','num_25_201702_sum','num_unq_max','num_25_201612_mean','num_totalsec_max','proportion_songs_above_50','num_75_mean','num_unq_201702_sum','num_25_201702_mean','num_50_201702_mean']\n",
    "data_indepen_m9=train_data_all[cols_9]\n",
    "test_data_m9=test_data[cols_9]"
   ]
  },
  {
   "cell_type": "code",
   "execution_count": 29,
   "metadata": {
    "collapsed": true
   },
   "outputs": [],
   "source": [
    "nearest_centroid = NearestCentroid()\n",
    "nearest_centroid.fit(data_indepen_m9, train_target)\n",
    "predictions = nearest_centroid.predict(test_data_m9)"
   ]
  },
  {
   "cell_type": "code",
   "execution_count": 30,
   "metadata": {},
   "outputs": [
    {
     "name": "stdout",
     "output_type": "stream",
     "text": [
      "Confusion Matrix:\n",
      "      Prediction\n",
      "         0     1\n",
      "    0220105 25445\n",
      "    1 3187 14106\n",
      "\n",
      "Accuracy Score:\n",
      "0.891068052031\n",
      "Classification Report:\n",
      "             precision    recall  f1-score   support\n",
      "\n",
      "          0       0.99      0.90      0.94    245550\n",
      "          1       0.36      0.82      0.50     17293\n",
      "\n",
      "avg / total       0.94      0.89      0.91    262843\n",
      "\n"
     ]
    }
   ],
   "source": [
    "analytics(test_target, nearest_centroid, test_data_m9)"
   ]
  }
 ],
 "metadata": {
  "kernelspec": {
   "display_name": "Python 2",
   "language": "python",
   "name": "python2"
  },
  "language_info": {
   "codemirror_mode": {
    "name": "ipython",
    "version": 2
   },
   "file_extension": ".py",
   "mimetype": "text/x-python",
   "name": "python",
   "nbconvert_exporter": "python",
   "pygments_lexer": "ipython2",
   "version": "2.7.14"
  }
 },
 "nbformat": 4,
 "nbformat_minor": 2
}
