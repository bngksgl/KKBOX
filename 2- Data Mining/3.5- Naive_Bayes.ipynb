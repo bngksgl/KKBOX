{
 "cells": [
  {
   "cell_type": "markdown",
   "metadata": {},
   "source": [
    "## 3.5. Naive Bayes"
   ]
  },
  {
   "cell_type": "code",
   "execution_count": 1,
   "metadata": {},
   "outputs": [
    {
     "data": {
      "text/html": [
       "<div>\n",
       "<style>\n",
       "    .dataframe thead tr:only-child th {\n",
       "        text-align: right;\n",
       "    }\n",
       "\n",
       "    .dataframe thead th {\n",
       "        text-align: left;\n",
       "    }\n",
       "\n",
       "    .dataframe tbody tr th {\n",
       "        vertical-align: top;\n",
       "    }\n",
       "</style>\n",
       "<table border=\"1\" class=\"dataframe\">\n",
       "  <thead>\n",
       "    <tr style=\"text-align: right;\">\n",
       "      <th></th>\n",
       "      <th>Unnamed: 0</th>\n",
       "      <th>bd</th>\n",
       "      <th>num_25_sum</th>\n",
       "      <th>num_50_sum</th>\n",
       "      <th>num_75_sum</th>\n",
       "      <th>num_985_sum</th>\n",
       "      <th>num_100_sum</th>\n",
       "      <th>num_unq_sum</th>\n",
       "      <th>num_totalsec_sum</th>\n",
       "      <th>num_25_mean</th>\n",
       "      <th>...</th>\n",
       "      <th>gender_0</th>\n",
       "      <th>gender_1</th>\n",
       "      <th>gender_2</th>\n",
       "      <th>registered_via_3</th>\n",
       "      <th>registered_via_4</th>\n",
       "      <th>registered_via_7</th>\n",
       "      <th>registered_via_9</th>\n",
       "      <th>registered_via_13</th>\n",
       "      <th>msno</th>\n",
       "      <th>is_churn</th>\n",
       "    </tr>\n",
       "  </thead>\n",
       "  <tbody>\n",
       "    <tr>\n",
       "      <th>0</th>\n",
       "      <td>120957</td>\n",
       "      <td>-0.840527</td>\n",
       "      <td>-0.522259</td>\n",
       "      <td>-0.602739</td>\n",
       "      <td>-0.584220</td>\n",
       "      <td>-0.377952</td>\n",
       "      <td>-0.114536</td>\n",
       "      <td>-0.192430</td>\n",
       "      <td>-0.146375</td>\n",
       "      <td>-0.703467</td>\n",
       "      <td>...</td>\n",
       "      <td>-0.524053</td>\n",
       "      <td>-0.556615</td>\n",
       "      <td>0.908187</td>\n",
       "      <td>2.711588</td>\n",
       "      <td>-0.243489</td>\n",
       "      <td>-1.105817</td>\n",
       "      <td>-0.608882</td>\n",
       "      <td>-0.061113</td>\n",
       "      <td>fAbsh3kAffPa/1ZZZbo2ItlNou9tn22EMRTvF4clEak=</td>\n",
       "      <td>0</td>\n",
       "    </tr>\n",
       "    <tr>\n",
       "      <th>1</th>\n",
       "      <td>289553</td>\n",
       "      <td>0.792488</td>\n",
       "      <td>-0.581050</td>\n",
       "      <td>-0.640079</td>\n",
       "      <td>-0.575303</td>\n",
       "      <td>-0.433727</td>\n",
       "      <td>-0.338979</td>\n",
       "      <td>-0.497846</td>\n",
       "      <td>-0.337333</td>\n",
       "      <td>-0.665328</td>\n",
       "      <td>...</td>\n",
       "      <td>1.908205</td>\n",
       "      <td>-0.556615</td>\n",
       "      <td>-1.101094</td>\n",
       "      <td>-0.368788</td>\n",
       "      <td>-0.243489</td>\n",
       "      <td>-1.105817</td>\n",
       "      <td>1.642354</td>\n",
       "      <td>-0.061113</td>\n",
       "      <td>3RQH2OV7U01TisVNUqxgylb7is8BaFQUnozvU8AaWhA=</td>\n",
       "      <td>0</td>\n",
       "    </tr>\n",
       "    <tr>\n",
       "      <th>2</th>\n",
       "      <td>525621</td>\n",
       "      <td>-0.840527</td>\n",
       "      <td>2.572062</td>\n",
       "      <td>0.634802</td>\n",
       "      <td>1.011987</td>\n",
       "      <td>0.525592</td>\n",
       "      <td>1.136128</td>\n",
       "      <td>1.511263</td>\n",
       "      <td>1.035867</td>\n",
       "      <td>1.827277</td>\n",
       "      <td>...</td>\n",
       "      <td>-0.524053</td>\n",
       "      <td>-0.556615</td>\n",
       "      <td>0.908187</td>\n",
       "      <td>-0.368788</td>\n",
       "      <td>-0.243489</td>\n",
       "      <td>0.904309</td>\n",
       "      <td>-0.608882</td>\n",
       "      <td>-0.061113</td>\n",
       "      <td>9iEb9xcrVceAYOst3Su+Edkqfrx3RTZE1lgpROT9wX4=</td>\n",
       "      <td>0</td>\n",
       "    </tr>\n",
       "    <tr>\n",
       "      <th>3</th>\n",
       "      <td>383252</td>\n",
       "      <td>1.106529</td>\n",
       "      <td>-0.337487</td>\n",
       "      <td>-0.261348</td>\n",
       "      <td>-0.236443</td>\n",
       "      <td>-0.271981</td>\n",
       "      <td>-0.261964</td>\n",
       "      <td>-0.285715</td>\n",
       "      <td>-0.268519</td>\n",
       "      <td>-0.503196</td>\n",
       "      <td>...</td>\n",
       "      <td>-0.524053</td>\n",
       "      <td>1.796573</td>\n",
       "      <td>-1.101094</td>\n",
       "      <td>-0.368788</td>\n",
       "      <td>-0.243489</td>\n",
       "      <td>0.904309</td>\n",
       "      <td>-0.608882</td>\n",
       "      <td>-0.061113</td>\n",
       "      <td>FxLIZcN3AYC1LYvWCG0hNGkcfmnP9MwGUxRxAXY3r5M=</td>\n",
       "      <td>0</td>\n",
       "    </tr>\n",
       "    <tr>\n",
       "      <th>4</th>\n",
       "      <td>274462</td>\n",
       "      <td>1.671803</td>\n",
       "      <td>-0.207907</td>\n",
       "      <td>-0.111990</td>\n",
       "      <td>-0.067013</td>\n",
       "      <td>0.034778</td>\n",
       "      <td>-0.332928</td>\n",
       "      <td>-0.290694</td>\n",
       "      <td>-0.320169</td>\n",
       "      <td>-0.297483</td>\n",
       "      <td>...</td>\n",
       "      <td>-0.524053</td>\n",
       "      <td>1.796573</td>\n",
       "      <td>-1.101094</td>\n",
       "      <td>2.711588</td>\n",
       "      <td>-0.243489</td>\n",
       "      <td>-1.105817</td>\n",
       "      <td>-0.608882</td>\n",
       "      <td>-0.061113</td>\n",
       "      <td>dz5+eXZINBe7apJ8K7v4S+zzDi3o7tAeLMWAnrcIc54=</td>\n",
       "      <td>0</td>\n",
       "    </tr>\n",
       "  </tbody>\n",
       "</table>\n",
       "<p>5 rows × 157 columns</p>\n",
       "</div>"
      ],
      "text/plain": [
       "   Unnamed: 0        bd  num_25_sum  num_50_sum  num_75_sum  num_985_sum  \\\n",
       "0      120957 -0.840527   -0.522259   -0.602739   -0.584220    -0.377952   \n",
       "1      289553  0.792488   -0.581050   -0.640079   -0.575303    -0.433727   \n",
       "2      525621 -0.840527    2.572062    0.634802    1.011987     0.525592   \n",
       "3      383252  1.106529   -0.337487   -0.261348   -0.236443    -0.271981   \n",
       "4      274462  1.671803   -0.207907   -0.111990   -0.067013     0.034778   \n",
       "\n",
       "   num_100_sum  num_unq_sum  num_totalsec_sum  num_25_mean    ...     \\\n",
       "0    -0.114536    -0.192430         -0.146375    -0.703467    ...      \n",
       "1    -0.338979    -0.497846         -0.337333    -0.665328    ...      \n",
       "2     1.136128     1.511263          1.035867     1.827277    ...      \n",
       "3    -0.261964    -0.285715         -0.268519    -0.503196    ...      \n",
       "4    -0.332928    -0.290694         -0.320169    -0.297483    ...      \n",
       "\n",
       "   gender_0  gender_1  gender_2  registered_via_3  registered_via_4  \\\n",
       "0 -0.524053 -0.556615  0.908187          2.711588         -0.243489   \n",
       "1  1.908205 -0.556615 -1.101094         -0.368788         -0.243489   \n",
       "2 -0.524053 -0.556615  0.908187         -0.368788         -0.243489   \n",
       "3 -0.524053  1.796573 -1.101094         -0.368788         -0.243489   \n",
       "4 -0.524053  1.796573 -1.101094          2.711588         -0.243489   \n",
       "\n",
       "   registered_via_7  registered_via_9  registered_via_13  \\\n",
       "0         -1.105817         -0.608882          -0.061113   \n",
       "1         -1.105817          1.642354          -0.061113   \n",
       "2          0.904309         -0.608882          -0.061113   \n",
       "3          0.904309         -0.608882          -0.061113   \n",
       "4         -1.105817         -0.608882          -0.061113   \n",
       "\n",
       "                                           msno  is_churn  \n",
       "0  fAbsh3kAffPa/1ZZZbo2ItlNou9tn22EMRTvF4clEak=         0  \n",
       "1  3RQH2OV7U01TisVNUqxgylb7is8BaFQUnozvU8AaWhA=         0  \n",
       "2  9iEb9xcrVceAYOst3Su+Edkqfrx3RTZE1lgpROT9wX4=         0  \n",
       "3  FxLIZcN3AYC1LYvWCG0hNGkcfmnP9MwGUxRxAXY3r5M=         0  \n",
       "4  dz5+eXZINBe7apJ8K7v4S+zzDi3o7tAeLMWAnrcIc54=         0  \n",
       "\n",
       "[5 rows x 157 columns]"
      ]
     },
     "execution_count": 1,
     "metadata": {},
     "output_type": "execute_result"
    }
   ],
   "source": [
    "import numpy as np\n",
    "import pandas as pd \n",
    "import matplotlib.pyplot as plt\n",
    "from sklearn.naive_bayes import GaussianNB\n",
    "train_data = pd.read_csv('final_train_data_StdSc.csv')\n",
    "test_data = pd.read_csv('final_test_data_StdSc.csv')\n",
    "train_data.head()\n",
    "test_data.head()"
   ]
  },
  {
   "cell_type": "code",
   "execution_count": 2,
   "metadata": {
    "collapsed": true
   },
   "outputs": [],
   "source": [
    "#reduce features\n",
    "#model 1 (all the features from the feature selection)\n",
    "train_data_new_total=train_data[['number_of_days_201702_listened','is_auto_renew','total_cancel','active_days','avg_actual_amount_paid','most_fq_payment_method_id','num_75_mean','number_of_days_listened','num_25_201702_sum','num_50_201702_sum','num_100_201702_sum','num_25_201702_mean','num_50_201702_mean','num_totalsec_lasttwo_mean','total_churn','registered_via_3','registered_via_4','registered_via_7','bd','num_totalsec_sum','num_100_med','num_25_max','num_unq_max','num_totalsec_max','num_totalsec_min','num_985_201702_sum','num_75_201702_mean','num_unq_201702_mean','num_unq_201701_sum','num_25_201612_mean','num_100_201612_mean','num_75_lasttwo_mean','num_50_lastthree_mean','proportion_songs_above_50','registered_via_9']]\n",
    "test_data_new_total=test_data[['number_of_days_201702_listened','is_auto_renew','total_cancel','active_days','avg_actual_amount_paid','most_fq_payment_method_id','num_75_mean','number_of_days_listened','num_25_201702_sum','num_50_201702_sum','num_100_201702_sum','num_25_201702_mean','num_50_201702_mean','num_totalsec_lasttwo_mean','total_churn','registered_via_3','registered_via_4','registered_via_7','bd','num_totalsec_sum','num_100_med','num_25_max','num_unq_max','num_totalsec_max','num_totalsec_min','num_985_201702_sum','num_75_201702_mean','num_unq_201702_mean','num_unq_201701_sum','num_25_201612_mean','num_100_201612_mean','num_75_lasttwo_mean','num_50_lastthree_mean','proportion_songs_above_50','registered_via_9']]\n",
    "\n",
    "# model 2 (4 ranked features)\n",
    "train_data_new_ranked4=train_data[['number_of_days_201702_listened','is_auto_renew','total_cancel','active_days','avg_actual_amount_paid']]\n",
    "test_data_new_ranked4=test_data[['number_of_days_201702_listened','is_auto_renew','total_cancel','active_days','avg_actual_amount_paid']]\n",
    "\n",
    "# model 3 (4 and 3 ranked features)\n",
    "train_data_new_ranked43=train_data[['number_of_days_201702_listened','is_auto_renew','total_cancel','active_days','avg_actual_amount_paid','most_fq_payment_method_id']]\n",
    "test_data_new_ranked43=test_data[['number_of_days_201702_listened','is_auto_renew','total_cancel','active_days','avg_actual_amount_paid','most_fq_payment_method_id']]\n",
    "\n",
    "# model 4 (4, 3, 2 ranked features)\n",
    "train_data_new_ranked432=train_data[['number_of_days_201702_listened','is_auto_renew','total_cancel','active_days','avg_actual_amount_paid','most_fq_payment_method_id','num_75_mean','number_of_days_listened','num_25_201702_sum','num_50_201702_sum','num_100_201702_sum','num_25_201702_mean','num_50_201702_mean','num_totalsec_lasttwo_mean','total_churn','registered_via_3','registered_via_4','registered_via_7']]\n",
    "test_data_new_ranked432=test_data[['number_of_days_201702_listened','is_auto_renew','total_cancel','active_days','avg_actual_amount_paid','most_fq_payment_method_id','num_75_mean','number_of_days_listened','num_25_201702_sum','num_50_201702_sum','num_100_201702_sum','num_25_201702_mean','num_50_201702_mean','num_totalsec_lasttwo_mean','total_churn','registered_via_3','registered_via_4','registered_via_7']]\n",
    "\n",
    "# model 5 (ranked 1,2)\n",
    "train_data_new_ranked21=train_data[['num_75_mean','number_of_days_listened','num_25_201702_sum','num_50_201702_sum','num_100_201702_sum','num_25_201702_mean','num_50_201702_mean','num_totalsec_lasttwo_mean','total_churn','registered_via_3','registered_via_4','registered_via_7','bd','num_totalsec_sum','num_100_med','num_25_max','num_unq_max','num_totalsec_max','num_totalsec_min','num_985_201702_sum','num_75_201702_mean','num_unq_201702_mean','num_unq_201701_sum','num_25_201612_mean','num_100_201612_mean','num_75_lasttwo_mean','num_50_lastthree_mean','proportion_songs_above_50','registered_via_9']]\n",
    "test_data_new_ranked21=test_data[['num_75_mean','number_of_days_listened','num_25_201702_sum','num_50_201702_sum','num_100_201702_sum','num_25_201702_mean','num_50_201702_mean','num_totalsec_lasttwo_mean','total_churn','registered_via_3','registered_via_4','registered_via_7','bd','num_totalsec_sum','num_100_med','num_25_max','num_unq_max','num_totalsec_max','num_totalsec_min','num_985_201702_sum','num_75_201702_mean','num_unq_201702_mean','num_unq_201701_sum','num_25_201612_mean','num_100_201612_mean','num_75_lasttwo_mean','num_50_lastthree_mean','proportion_songs_above_50','registered_via_9']]\n",
    "\n",
    "train_target_data=train_data['is_churn']\n",
    "test_target_data=test_data['is_churn']\n"
   ]
  },
  {
   "cell_type": "markdown",
   "metadata": {},
   "source": [
    "### 3.5.1 model 1"
   ]
  },
  {
   "cell_type": "code",
   "execution_count": 3,
   "metadata": {},
   "outputs": [
    {
     "name": "stdout",
     "output_type": "stream",
     "text": [
      "AP=0.40\n",
      "AUC=0.88\n",
      "Logloss=1.13\n",
      "             precision    recall  f1-score   support\n",
      "\n",
      "          0       0.99      0.78      0.87    245550\n",
      "          1       0.22      0.88      0.35     17293\n",
      "\n",
      "avg / total       0.94      0.78      0.84    262843\n",
      "\n"
     ]
    }
   ],
   "source": [
    "from sklearn.metrics import average_precision_score\n",
    "from sklearn.metrics import roc_auc_score\n",
    "from sklearn.metrics import classification_report\n",
    "from sklearn.metrics import log_loss\n",
    "clf = GaussianNB()\n",
    "clf.fit(train_data_new_total,train_target_data)\n",
    "y_score_total = clf.predict_proba(test_data_new_total)\n",
    "y_score_total=y_score_total[:,1]#probability estimates of the positive class(is_churn)\n",
    "average_precision_total = average_precision_score(test_target_data, y_score_total)\n",
    "auc_score_total =roc_auc_score(test_target_data, y_score_total)\n",
    "logloss_total=log_loss(test_target_data, y_score_total)\n",
    "print('AP={0:0.2f}'.format(average_precision_total))\n",
    "print('AUC={0:0.2f}'.format(auc_score_total))\n",
    "print('Logloss={0:0.2f}'.format(logloss_total))\n",
    "print(classification_report(test_target_data, clf.predict(test_data_new_total)))\n"
   ]
  },
  {
   "cell_type": "markdown",
   "metadata": {},
   "source": [
    "### 3.5.2. model 2"
   ]
  },
  {
   "cell_type": "code",
   "execution_count": 4,
   "metadata": {},
   "outputs": [
    {
     "name": "stdout",
     "output_type": "stream",
     "text": [
      "AP=0.46\n",
      "AUC=0.94\n",
      "Logloss=0.63\n",
      "             precision    recall  f1-score   support\n",
      "\n",
      "          0       1.00      0.82      0.90    245550\n",
      "          1       0.27      0.97      0.43     17293\n",
      "\n",
      "avg / total       0.95      0.83      0.87    262843\n",
      "\n"
     ]
    },
    {
     "data": {
      "text/plain": [
       "array([[201091,  44459],\n",
       "       [   556,  16737]], dtype=int64)"
      ]
     },
     "execution_count": 4,
     "metadata": {},
     "output_type": "execute_result"
    }
   ],
   "source": [
    "from sklearn.metrics import confusion_matrix\n",
    "clf = GaussianNB()\n",
    "clf.fit(train_data_new_ranked4,train_target_data)\n",
    "y_score_ranked4 = clf.predict_proba(test_data_new_ranked4)\n",
    "y_score_ranked4=y_score_ranked4[:,1]\n",
    "\n",
    "average_precision_ranked4 = average_precision_score(test_target_data, y_score_ranked4)\n",
    "auc_score_ranked4 =roc_auc_score(test_target_data, y_score_ranked4)\n",
    "logloss_ranked4=log_loss(test_target_data, y_score_ranked4)\n",
    "print('AP={0:0.2f}'.format(average_precision_ranked4))\n",
    "print('AUC={0:0.2f}'.format(auc_score_ranked4))\n",
    "print('Logloss={0:0.2f}'.format(logloss_ranked4))\n",
    "print(classification_report(test_target_data, clf.predict(test_data_new_ranked4)))\n",
    "confusion_matrix(test_target_data, clf.predict(test_data_new_ranked4))"
   ]
  },
  {
   "cell_type": "markdown",
   "metadata": {},
   "source": [
    "### 3.5.3. model 3"
   ]
  },
  {
   "cell_type": "code",
   "execution_count": 5,
   "metadata": {},
   "outputs": [
    {
     "name": "stdout",
     "output_type": "stream",
     "text": [
      "AP=0.44\n",
      "AUC=0.94\n",
      "Logloss=0.65\n",
      "             precision    recall  f1-score   support\n",
      "\n",
      "          0       1.00      0.82      0.90    245550\n",
      "          1       0.27      0.97      0.43     17293\n",
      "\n",
      "avg / total       0.95      0.83      0.87    262843\n",
      "\n"
     ]
    }
   ],
   "source": [
    "clf = GaussianNB()\n",
    "clf.fit(train_data_new_ranked43,train_target_data)\n",
    "y_score_ranked43 = clf.predict_proba(test_data_new_ranked43)\n",
    "y_score_ranked43=y_score_ranked43[:,1]\n",
    "average_precision_ranked43 = average_precision_score(test_target_data, y_score_ranked43)\n",
    "auc_score_ranked43 =roc_auc_score(test_target_data, y_score_ranked43)\n",
    "logloss_ranked43=log_loss(test_target_data, y_score_ranked43)\n",
    "print('AP={0:0.2f}'.format(average_precision_ranked43))\n",
    "print('AUC={0:0.2f}'.format(auc_score_ranked43))\n",
    "print('Logloss={0:0.2f}'.format(logloss_ranked43))\n",
    "print(classification_report(test_target_data, clf.predict(test_data_new_ranked43)))"
   ]
  },
  {
   "cell_type": "markdown",
   "metadata": {},
   "source": [
    "### 3.5.4. model 4"
   ]
  },
  {
   "cell_type": "code",
   "execution_count": 6,
   "metadata": {},
   "outputs": [
    {
     "name": "stdout",
     "output_type": "stream",
     "text": [
      "AP=0.40\n",
      "AUC=0.91\n",
      "Logloss=0.91\n",
      "             precision    recall  f1-score   support\n",
      "\n",
      "          0       0.99      0.83      0.90    245550\n",
      "          1       0.27      0.89      0.41     17293\n",
      "\n",
      "avg / total       0.94      0.83      0.87    262843\n",
      "\n"
     ]
    }
   ],
   "source": [
    "clf = GaussianNB()\n",
    "clf.fit(train_data_new_ranked432,train_target_data)\n",
    "y_score_ranked432 = clf.predict_proba(test_data_new_ranked432)\n",
    "y_score_ranked432=y_score_ranked432[:,1]\n",
    "average_precision_ranked432 = average_precision_score(test_target_data, y_score_ranked432)\n",
    "auc_score_ranked432=roc_auc_score(test_target_data, y_score_ranked432)\n",
    "logloss_ranked432=log_loss(test_target_data, y_score_ranked432)\n",
    "print('AP={0:0.2f}'.format(average_precision_ranked432))\n",
    "print('AUC={0:0.2f}'.format(auc_score_ranked432))\n",
    "print('Logloss={0:0.2f}'.format(logloss_ranked432))\n",
    "print(classification_report(test_target_data, clf.predict(test_data_new_ranked432)))"
   ]
  },
  {
   "cell_type": "markdown",
   "metadata": {},
   "source": [
    "### 3.5.5. model 5"
   ]
  },
  {
   "cell_type": "code",
   "execution_count": 9,
   "metadata": {},
   "outputs": [
    {
     "name": "stdout",
     "output_type": "stream",
     "text": [
      "AP=0.18\n",
      "AUC=0.72\n",
      "Logloss=1.42\n",
      "             precision    recall  f1-score   support\n",
      "\n",
      "          0       0.97      0.48      0.64    245550\n",
      "          1       0.10      0.79      0.17     17293\n",
      "\n",
      "avg / total       0.91      0.50      0.61    262843\n",
      "\n"
     ]
    }
   ],
   "source": [
    "clf = GaussianNB()\n",
    "clf.fit(train_data_new_ranked21,train_target_data)\n",
    "y_score_ranked21 = clf.predict_proba(test_data_new_ranked21)\n",
    "y_score_ranked21=y_score_ranked21[:,1]\n",
    "average_precision_ranked21 = average_precision_score(test_target_data, y_score_ranked21)\n",
    "auc_score_ranked21=roc_auc_score(test_target_data, y_score_ranked21)\n",
    "logloss_ranked21=log_loss(test_target_data, y_score_ranked21)\n",
    "print('AP={0:0.2f}'.format(average_precision_ranked21))\n",
    "print('AUC={0:0.2f}'.format(auc_score_ranked21))\n",
    "print('Logloss={0:0.2f}'.format(logloss_ranked21))\n",
    "print(classification_report(test_target_data, clf.predict(test_data_new_ranked21)))"
   ]
  },
  {
   "cell_type": "code",
   "execution_count": 12,
   "metadata": {},
   "outputs": [
    {
     "data": {
      "image/png": "[encoded data removed]",
      "text/plain": [
       "<matplotlib.figure.Figure at 0x194eb32beb8>"
      ]
     },
     "metadata": {},
     "output_type": "display_data"
    }
   ],
   "source": [
    "#ROC curve\n",
    "import numpy as np\n",
    "import matplotlib.pyplot as plt\n",
    "from sklearn.metrics import roc_curve\n",
    "\n",
    "fpr_rf_total, tpr_rf_total, _ = roc_curve(test_target_data, y_score_total)\n",
    "fpr_rf_ranked4, tpr_rf_ranked4, _ = roc_curve(test_target_data, y_score_ranked4)\n",
    "fpr_rf_ranked43, tpr_rf_ranked43, _ = roc_curve(test_target_data, y_score_ranked43)\n",
    "fpr_rf_ranked432, tpr_rf_ranked432, _ = roc_curve(test_target_data, y_score_ranked432)\n",
    "fpr_rf_ranked21, tpr_rf_ranked21, _ = roc_curve(test_target_data, y_score_ranked21)\n",
    "\n",
    "plt.plot([0, 1], [0, 1], 'k--')\n",
    "\n",
    "plt.plot(fpr_rf_total, tpr_rf_total, label='model 1')\n",
    "plt.plot(fpr_rf_ranked4, tpr_rf_ranked4, label='model 2')\n",
    "plt.plot(fpr_rf_ranked43, tpr_rf_ranked43, label='model 3')\n",
    "plt.plot(fpr_rf_ranked432, tpr_rf_ranked432, label='model 4')\n",
    "plt.plot(fpr_rf_ranked21, tpr_rf_ranked21, label='model 5')\n",
    "plt.legend(loc='best')\n",
    "plt.xlabel('False positive rate')\n",
    "plt.ylabel('True positive rate')\n",
    "plt.title('ROC curve')\n",
    "plt.show()"
   ]
  }
 ],
 "metadata": {
  "kernelspec": {
   "display_name": "Python 2",
   "language": "python",
   "name": "python2"
  },
  "language_info": {
   "codemirror_mode": {
    "name": "ipython",
    "version": 2
   },
   "file_extension": ".py",
   "mimetype": "text/x-python",
   "name": "python",
   "nbconvert_exporter": "python",
   "pygments_lexer": "ipython2",
   "version": "2.7.14"
  }
 },
 "nbformat": 4,
 "nbformat_minor": 2
}
